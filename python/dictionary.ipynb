{
 "cells": [
  {
   "cell_type": "markdown",
   "metadata": {},
   "source": [
    "# 딕셔너리 (Dictionary)"
   ]
  },
  {
   "cell_type": "markdown",
   "metadata": {},
   "source": [
    "* 사전과 유사하게 구성\n",
    "* 사전의 표제어 및 설명은 딕셔너리의 키(key), 값(value)\n",
    "* {key1: value1, key2: value2, ...}"
   ]
  },
  {
   "cell_type": "markdown",
   "metadata": {},
   "source": [
    "* key : 숫자, 문자\n",
    "* value : 숫자, 문자, 리스트, 튜플, 세트, 딕셔너리 등등"
   ]
  },
  {
   "cell_type": "code",
   "execution_count": 1,
   "metadata": {},
   "outputs": [
    {
     "name": "stdout",
     "output_type": "stream",
     "text": [
      "{1: 1, 2: 2, 3: 3}\n",
      "{'a': 'apple', 'b': 'banana', 'c': 'cat'}\n",
      "{1: [1, 2, 3], 2: [4, 5, 6]}\n"
     ]
    }
   ],
   "source": [
    "# key: 숫자, value: 숫자\n",
    "dict1 = {1:1, 2:2, 3:3}\n",
    "print(dict1)\n",
    "\n",
    "# key: 문자, value: 문자\n",
    "dict2 = {'a':'apple', 'b':'banana', 'c':'cat'}\n",
    "print(dict2)\n",
    "\n",
    "# key: 숫자, value: 리스트\n",
    "dict3 = {1: [1,2,3], 2: [4,5,6]}\n",
    "print(dict3)"
   ]
  },
  {
   "cell_type": "code",
   "execution_count": 2,
   "metadata": {},
   "outputs": [
    {
     "name": "stdout",
     "output_type": "stream",
     "text": [
      "1\n",
      "banana\n",
      "[1, 2, 3]\n"
     ]
    }
   ],
   "source": [
    "# 지정한 키의 값 추출\n",
    "print(dict1[1])\n",
    "print(dict2['b'])\n",
    "print(dict3[1])"
   ]
  },
  {
   "cell_type": "code",
   "execution_count": 3,
   "metadata": {},
   "outputs": [
    {
     "name": "stdout",
     "output_type": "stream",
     "text": [
      "{'a': 'apple', 'b': 'bread', 'c': 'cat'}\n"
     ]
    }
   ],
   "source": [
    "# 특정 키의 값 변경\n",
    "# dlctionary[key] = new_value\n",
    "dict2['b'] = 'bread'\n",
    "print(dict2)"
   ]
  },
  {
   "cell_type": "code",
   "execution_count": 4,
   "metadata": {},
   "outputs": [
    {
     "name": "stdout",
     "output_type": "stream",
     "text": [
      "{1: 1, 2: 2, 3: 3, 4: 4}\n"
     ]
    }
   ],
   "source": [
    "# 새로운 키, 값 추가\n",
    "# dlctionary[new_key] = new_value\n",
    "dict1[4] = 4\n",
    "print(dict1)"
   ]
  },
  {
   "cell_type": "code",
   "execution_count": 5,
   "metadata": {},
   "outputs": [
    {
     "name": "stdout",
     "output_type": "stream",
     "text": [
      "{1: 1, 2: 2, 3: 3, 4: 4}\n",
      "{1: 1, 2: 2, 3: 3}\n"
     ]
    }
   ],
   "source": [
    "# 특정 키, 값 데이터 삭제\n",
    "print(dict1)\n",
    "del dict1[4]\n",
    "print(dict1)"
   ]
  },
  {
   "cell_type": "markdown",
   "metadata": {},
   "source": [
    "---"
   ]
  },
  {
   "cell_type": "markdown",
   "metadata": {},
   "source": [
    "#### 딕셔너리 메서드 활용"
   ]
  },
  {
   "cell_type": "markdown",
   "metadata": {},
   "source": [
    "\n",
    "* keys() : 딕셔너리에서 키 전체를 **리스트** 형태로 반환\n",
    "* values() : 딕셔너리에서 값 전체를 **리스트** 형태로 반환\n",
    "* items() : 딕셔너리에서 키와 값의 쌍을 **(키, 값)**처럼 **튜플 형태**로 반환\n",
    "* update(dict_data) : 딕셔너리에 딕셔너리 데이터(dict_data) 추가\n",
    "* clear() : 딕셔너리의 모든 항목 삭제"
   ]
  },
  {
   "cell_type": "code",
   "execution_count": 6,
   "metadata": {},
   "outputs": [
    {
     "name": "stdout",
     "output_type": "stream",
     "text": [
      "dict_keys(['사과', '배', '포도'])\n"
     ]
    }
   ],
   "source": [
    "# keys()\n",
    "fruit = {'사과': 1000, '배': 2000, '포도': 3000}\n",
    "print(fruit.keys())"
   ]
  },
  {
   "cell_type": "code",
   "execution_count": 7,
   "metadata": {},
   "outputs": [
    {
     "data": {
      "text/plain": [
       "dict_values([1000, 2000, 3000])"
      ]
     },
     "execution_count": 7,
     "metadata": {},
     "output_type": "execute_result"
    }
   ],
   "source": [
    "# values()\n",
    "fruit.values()"
   ]
  },
  {
   "cell_type": "code",
   "execution_count": 8,
   "metadata": {},
   "outputs": [
    {
     "name": "stdout",
     "output_type": "stream",
     "text": [
      "dict_items([('사과', 1000), ('배', 2000), ('포도', 3000)])\n"
     ]
    }
   ],
   "source": [
    "# items()\n",
    "print(fruit.items())"
   ]
  },
  {
   "cell_type": "code",
   "execution_count": 9,
   "metadata": {},
   "outputs": [
    {
     "name": "stdout",
     "output_type": "stream",
     "text": [
      "{'사과': 1000, '배': 2000, '포도': 3000, '오렌지': 4000, '복숭아': 5000}\n"
     ]
    }
   ],
   "source": [
    "# update(dict_data)\n",
    "dict_data = {'오렌지': 4000, '복숭아': 5000}\n",
    "fruit.update(dict_data)\n",
    "print(fruit)"
   ]
  },
  {
   "cell_type": "code",
   "execution_count": 10,
   "metadata": {},
   "outputs": [
    {
     "name": "stdout",
     "output_type": "stream",
     "text": [
      "{}\n",
      "{}\n"
     ]
    }
   ],
   "source": [
    "# clear()\n",
    "dict_data.clear()\n",
    "fruit.clear()\n",
    "\n",
    "print(fruit)\n",
    "print(dict_data)"
   ]
  },
  {
   "cell_type": "markdown",
   "metadata": {},
   "source": [
    "---"
   ]
  },
  {
   "cell_type": "markdown",
   "metadata": {},
   "source": [
    "### 딕셔너리 정렬\n",
    "\n",
    "* sorted() 함수"
   ]
  },
  {
   "cell_type": "code",
   "execution_count": 11,
   "metadata": {},
   "outputs": [
    {
     "name": "stdout",
     "output_type": "stream",
     "text": [
      "{'apple': '사과', 'banana': '바나나', 'air': '공기', 'cat': '고양이'}\n"
     ]
    }
   ],
   "source": [
    "dc = {'apple': '사과', 'banana': '바나나', 'air': '공기', 'cat': '고양이'}\n",
    "print(dc)"
   ]
  },
  {
   "cell_type": "code",
   "execution_count": 12,
   "metadata": {},
   "outputs": [
    {
     "name": "stdout",
     "output_type": "stream",
     "text": [
      "['air', 'apple', 'banana', 'cat']\n",
      "['cat', 'banana', 'apple', 'air']\n"
     ]
    }
   ],
   "source": [
    "# key 기준으로 오름차순 정렬 (key 값 추출)\n",
    "print(sorted(dc))\n",
    "\n",
    "# key 기준으로 내림차순 정렬 (key 값 추출)\n",
    "print(sorted(dc, reverse=True))"
   ]
  },
  {
   "cell_type": "code",
   "execution_count": 13,
   "metadata": {},
   "outputs": [
    {
     "name": "stdout",
     "output_type": "stream",
     "text": [
      "['고양이', '공기', '바나나', '사과']\n",
      "['사과', '바나나', '공기', '고양이']\n"
     ]
    }
   ],
   "source": [
    "# value 기준으로 오름차순 정렬 (value 값 추출)\n",
    "print(sorted(dc.values()))\n",
    "\n",
    "# value 기준으로 내림차순 정렬 (value 값 추출)\n",
    "print(sorted(dc.values(), reverse=True))"
   ]
  },
  {
   "cell_type": "code",
   "execution_count": 14,
   "metadata": {},
   "outputs": [
    {
     "name": "stdout",
     "output_type": "stream",
     "text": [
      "key 기준 정렬 :\n",
      "[('air', '공기'), ('apple', '사과'), ('banana', '바나나'), ('cat', '고양이')]\n",
      "[('air', '공기'), ('apple', '사과'), ('banana', '바나나'), ('cat', '고양이')]\n",
      "[('air', '공기'), ('apple', '사과'), ('banana', '바나나'), ('cat', '고양이')]\n",
      "value 기준 정렬 :\n",
      "[('cat', '고양이'), ('air', '공기'), ('banana', '바나나'), ('apple', '사과')]\n"
     ]
    }
   ],
   "source": [
    "# (key, value) 쌍 기준으로 오름차순 정렬\n",
    "# key 기준 정렬\n",
    "print('key 기준 정렬 :')\n",
    "print(sorted(dc.items()))\n",
    "print(sorted(dc.items(), key=lambda x: x))\n",
    "print(sorted(dc.items(), key=lambda x: x[0]))\n",
    "\n",
    "# value 기준 정렬\n",
    "print('value 기준 정렬 :')\n",
    "print(sorted(dc.items(), key=lambda x: x[1]))"
   ]
  },
  {
   "cell_type": "code",
   "execution_count": 15,
   "metadata": {},
   "outputs": [
    {
     "name": "stdout",
     "output_type": "stream",
     "text": [
      "key 기준 정렬 :\n",
      "[('cat', '고양이'), ('banana', '바나나'), ('apple', '사과'), ('air', '공기')]\n",
      "[('cat', '고양이'), ('banana', '바나나'), ('apple', '사과'), ('air', '공기')]\n",
      "[('cat', '고양이'), ('banana', '바나나'), ('apple', '사과'), ('air', '공기')]\n",
      "value 기준 정렬 :\n",
      "[('apple', '사과'), ('banana', '바나나'), ('air', '공기'), ('cat', '고양이')]\n"
     ]
    }
   ],
   "source": [
    "# (key, value) 쌍 기준으로 내림차순 정렬\n",
    "# key 기준 정렬\n",
    "print('key 기준 정렬 :')\n",
    "print(sorted(dc.items(), reverse=True))\n",
    "print(sorted(dc.items(), key=lambda x: x, reverse=True))\n",
    "print(sorted(dc.items(), key=lambda x: x[0], reverse=True))\n",
    "\n",
    "# value 기준 정렬\n",
    "print('value 기준 정렬 :')\n",
    "print(sorted(dc.items(), key=lambda x: x[1], reverse=True))"
   ]
  }
 ],
 "metadata": {
  "interpreter": {
   "hash": "425a1af5f1e5390d8981f7ca16a01614bb8c35f7954543dfc17a8690ba4dff91"
  },
  "kernelspec": {
   "display_name": "Python 3.9.7 ('base')",
   "language": "python",
   "name": "python3"
  },
  "language_info": {
   "codemirror_mode": {
    "name": "ipython",
    "version": 3
   },
   "file_extension": ".py",
   "mimetype": "text/x-python",
   "name": "python",
   "nbconvert_exporter": "python",
   "pygments_lexer": "ipython3",
   "version": "3.9.7"
  },
  "orig_nbformat": 4
 },
 "nbformat": 4,
 "nbformat_minor": 2
}
