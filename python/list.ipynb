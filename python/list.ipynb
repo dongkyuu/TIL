{
 "cells": [
  {
   "cell_type": "markdown",
   "metadata": {},
   "source": [
    "# 리스트 (List)"
   ]
  },
  {
   "cell_type": "markdown",
   "metadata": {},
   "source": [
    "#### 리스트 기본 다루기"
   ]
  },
  {
   "cell_type": "code",
   "execution_count": 7,
   "metadata": {},
   "outputs": [
    {
     "name": "stdout",
     "output_type": "stream",
     "text": [
      "타입 : [0, 1, 2, 3, 4, 5]\n"
     ]
    }
   ],
   "source": [
    "# 리스트 생성\n",
    "a = [0, 1, 2, 3, 4, 5]\n",
    "\n",
    "# 타입 확인\n",
    "print('타입 : {}'.format(a))"
   ]
  },
  {
   "cell_type": "code",
   "execution_count": 8,
   "metadata": {},
   "outputs": [
    {
     "name": "stdout",
     "output_type": "stream",
     "text": [
      "[1, 2, 3, 4, 5, 6, 7, 8, 9, 10]\n"
     ]
    }
   ],
   "source": [
    "# 리스트 더하기 (연속)\n",
    "\n",
    "list_con1 = [1, 2, 3, 4, 5]\n",
    "list_con2 = [6, 7, 8, 9, 10]\n",
    "\n",
    "list_plus = list_con1 + list_con2\n",
    "print(list_plus)"
   ]
  },
  {
   "cell_type": "code",
   "execution_count": 12,
   "metadata": {},
   "outputs": [
    {
     "name": "stdout",
     "output_type": "stream",
     "text": [
      "[1, 2, 3, 4, 5, 1, 2, 3, 4, 5]\n"
     ]
    }
   ],
   "source": [
    "# 리스트 곱하기 (반복)\n",
    "\n",
    "list_mul = list_con1*2\n",
    "print(list_mul)"
   ]
  },
  {
   "cell_type": "code",
   "execution_count": 33,
   "metadata": {},
   "outputs": [
    {
     "name": "stdout",
     "output_type": "stream",
     "text": [
      "전체 : \n",
      "[1, 2, 3, 4, 5, 6]\n",
      "\n",
      "2 번째 원소 : \n",
      "2\n",
      "\n",
      "2 ~ 4 번째 원소 : \n",
      "[2, 3, 4]\n",
      "\n",
      "마지막 원소 : \n",
      "6\n",
      "\n",
      "6\n"
     ]
    }
   ],
   "source": [
    "# 리스트 일부 항목 추출\n",
    "\n",
    "list = [1, 2, 3, 4, 5, 6]\n",
    "\n",
    "# 전체\n",
    "print('전체 : \\n{}\\n'.format(list[:]))\n",
    "\n",
    "# 일부 (2 번째 원소)\n",
    "print('2 번째 원소 : \\n{}\\n'.format(list[1]))\n",
    "\n",
    "# 연속 (2번째 ~ 4번째 원소)\n",
    "print('2 ~ 4 번째 원소 : \\n{}\\n'.format(list[1:4]))\n",
    "\n",
    "# 마지막 원소\n",
    "print('마지막 원소 : \\n{}\\n'.format(list[-1]))\n",
    "# print(list[5])"
   ]
  },
  {
   "cell_type": "code",
   "execution_count": 27,
   "metadata": {},
   "outputs": [
    {
     "name": "stdout",
     "output_type": "stream",
     "text": [
      "[1, 2, 3, 4, 5, 6]\n",
      "[1, 2, 3, 5, 6]\n"
     ]
    }
   ],
   "source": [
    "# 리스트 항목 삭제\n",
    "\n",
    "print(list)\n",
    "del list[3]\n",
    "print(list)"
   ]
  },
  {
   "cell_type": "code",
   "execution_count": 36,
   "metadata": {},
   "outputs": [
    {
     "name": "stdout",
     "output_type": "stream",
     "text": [
      "[1, 2, 3, 4, 5, 6]\n",
      "True\n",
      "False\n"
     ]
    }
   ],
   "source": [
    "# 리스트에서 항목 존재 여부 확인\n",
    "\n",
    "print(list)\n",
    "print(1 in list)\n",
    "print(7 in list)\n"
   ]
  },
  {
   "cell_type": "markdown",
   "metadata": {},
   "source": [
    "#### 리스트 메서드 다루기\n",
    "* append() : 리스트 맨 마지막에 항목 하나 추가\n",
    "* insert() : 리스트에서 특정 위치에 항목 삽입\n",
    "* extend() : 리스트에서 항목 여러개를 맨 마지막에 추가\n",
    "* remove() : 입력값과 첫 번째로 일치하는 항목을 리스트에서 제거\n",
    "* pop()    : 리스트의 마지막 항목을 제거 후, 반환\n",
    "* index()  : 리스트에서 인자와 일치하는 첫 번째 항목의 위치를 반환\n",
    "* count()  : 리스트에서 인자와 일치하는 항목의 개수를 반환\n",
    "* reverse() : 리스트 항목을 역순으로 정렬\n",
    "* sort()   : 숫자나 문자열로 구성된 리스트 항목을 오름차순으로 정렬"
   ]
  },
  {
   "cell_type": "code",
   "execution_count": 63,
   "metadata": {},
   "outputs": [],
   "source": [
    "list = [1, 2, 3, 4, 5]"
   ]
  },
  {
   "cell_type": "code",
   "execution_count": 64,
   "metadata": {},
   "outputs": [
    {
     "name": "stdout",
     "output_type": "stream",
     "text": [
      "[1, 2, 3, 4, 5, 6]\n"
     ]
    }
   ],
   "source": [
    "# append()\n",
    "list.append(6)\n",
    "print(list)"
   ]
  },
  {
   "cell_type": "code",
   "execution_count": 65,
   "metadata": {},
   "outputs": [
    {
     "name": "stdout",
     "output_type": "stream",
     "text": [
      "[1, 2, 7, 3, 4, 5, 6]\n"
     ]
    }
   ],
   "source": [
    "# insert()\n",
    "list.insert(2, 7)\n",
    "print(list)"
   ]
  },
  {
   "cell_type": "code",
   "execution_count": 66,
   "metadata": {},
   "outputs": [
    {
     "name": "stdout",
     "output_type": "stream",
     "text": [
      "[1, 2, 7, 3, 4, 5, 6, 7, 8, 9, 10]\n"
     ]
    }
   ],
   "source": [
    "# extend()\n",
    "list_ex = [7, 8, 9, 10]\n",
    "list.extend(list_ex)\n",
    "print(list)"
   ]
  },
  {
   "cell_type": "code",
   "execution_count": 67,
   "metadata": {},
   "outputs": [
    {
     "name": "stdout",
     "output_type": "stream",
     "text": [
      "[1, 2, 3, 4, 5, 6, 7, 8, 9, 10]\n"
     ]
    }
   ],
   "source": [
    "# remove()\n",
    "list.remove(7)\n",
    "print(list)"
   ]
  },
  {
   "cell_type": "code",
   "execution_count": 68,
   "metadata": {},
   "outputs": [
    {
     "name": "stdout",
     "output_type": "stream",
     "text": [
      "10\n",
      "[1, 2, 3, 4, 5, 6, 7, 8, 9]\n"
     ]
    }
   ],
   "source": [
    "# pop()\n",
    "print(list.pop())\n",
    "print(list)"
   ]
  },
  {
   "cell_type": "code",
   "execution_count": 75,
   "metadata": {},
   "outputs": [
    {
     "name": "stdout",
     "output_type": "stream",
     "text": [
      "['Lim', 'Lee', 'Jeong', 'Kim', 'Lim', 'Park', 'Lee', 'Lee']\n",
      "1\n"
     ]
    }
   ],
   "source": [
    "# index()\n",
    "list_str = ['Lim', 'Lee', 'Jeong', 'Kim', 'Lim', 'Park', 'Lee', 'Lee']\n",
    "print(list_str)\n",
    "print(list_str.index('Lee'))"
   ]
  },
  {
   "cell_type": "code",
   "execution_count": 76,
   "metadata": {},
   "outputs": [
    {
     "name": "stdout",
     "output_type": "stream",
     "text": [
      "3\n"
     ]
    }
   ],
   "source": [
    "# count()\n",
    "print(list_str.count('Lee'))"
   ]
  },
  {
   "cell_type": "code",
   "execution_count": 77,
   "metadata": {},
   "outputs": [
    {
     "name": "stdout",
     "output_type": "stream",
     "text": [
      "['Lee', 'Lee', 'Park', 'Lim', 'Kim', 'Jeong', 'Lee', 'Lim']\n"
     ]
    }
   ],
   "source": [
    "# reverse()\n",
    "list_str.reverse()\n",
    "print(list_str)"
   ]
  },
  {
   "cell_type": "code",
   "execution_count": 79,
   "metadata": {},
   "outputs": [
    {
     "name": "stdout",
     "output_type": "stream",
     "text": [
      "['Jeong', 'Kim', 'Lee', 'Lee', 'Lee', 'Lim', 'Lim', 'Park']\n"
     ]
    }
   ],
   "source": [
    "# sort()\n",
    "list_str.sort()\n",
    "print(list_str)"
   ]
  }
 ],
 "metadata": {
  "interpreter": {
   "hash": "425a1af5f1e5390d8981f7ca16a01614bb8c35f7954543dfc17a8690ba4dff91"
  },
  "kernelspec": {
   "display_name": "Python 3.9.7 ('base')",
   "language": "python",
   "name": "python3"
  },
  "language_info": {
   "codemirror_mode": {
    "name": "ipython",
    "version": 3
   },
   "file_extension": ".py",
   "mimetype": "text/x-python",
   "name": "python",
   "nbconvert_exporter": "python",
   "pygments_lexer": "ipython3",
   "version": "3.9.7"
  },
  "orig_nbformat": 4
 },
 "nbformat": 4,
 "nbformat_minor": 2
}
