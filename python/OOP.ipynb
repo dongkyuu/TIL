{
 "cells": [
  {
   "cell_type": "markdown",
   "metadata": {},
   "source": [
    "# 객체지향 프로그래밍 (Object-Orientec Programming, OOP)\n",
    "\n",
    "* 객체를 만들고 이용할 수 있는 기능을 제공하는 프로그래밍 언어"
   ]
  },
  {
   "cell_type": "markdown",
   "metadata": {},
   "source": [
    "## 객체\n",
    "\n",
    "* 속성, 행위로 구성된 대상 (변수와 함수의 묶음)\n",
    "* 변수 : 객체의 특징(속성)\n",
    "* 함수 : 객체가 할 수 있는 행동"
   ]
  },
  {
   "cell_type": "markdown",
   "metadata": {},
   "source": [
    "#### 클래스 선언\n",
    "\n",
    "* 객체를 만들기 위한 기본 틀\n",
    "* 객체의 공통된 속성과 행위를 변수와 함수로 정의한 것"
   ]
  },
  {
   "cell_type": "markdown",
   "metadata": {},
   "source": [
    "#### 객체 생성"
   ]
  },
  {
   "cell_type": "code",
   "execution_count": 1,
   "metadata": {},
   "outputs": [],
   "source": [
    "# 클래스 선언\n",
    "class Car():\n",
    "    pass"
   ]
  },
  {
   "cell_type": "code",
   "execution_count": 2,
   "metadata": {},
   "outputs": [],
   "source": [
    "# 객체 생성\n",
    "\n",
    "my_car = Car()"
   ]
  },
  {
   "cell_type": "code",
   "execution_count": 3,
   "metadata": {},
   "outputs": [
    {
     "data": {
      "text/plain": [
       "<__main__.Car at 0x2e84ce55fa0>"
      ]
     },
     "execution_count": 3,
     "metadata": {},
     "output_type": "execute_result"
    }
   ],
   "source": [
    "my_car"
   ]
  },
  {
   "cell_type": "code",
   "execution_count": 4,
   "metadata": {},
   "outputs": [],
   "source": [
    "# 속성값 설정\n",
    "\n",
    "my_car.wheel_size = 30\n",
    "my_car.color = 'black'"
   ]
  },
  {
   "cell_type": "code",
   "execution_count": 5,
   "metadata": {},
   "outputs": [
    {
     "name": "stdout",
     "output_type": "stream",
     "text": [
      "바퀴 크기 : 30\n",
      "색상 : black\n"
     ]
    }
   ],
   "source": [
    "print('바퀴 크기 : {}'.format(my_car.wheel_size))\n",
    "print('색상 : {}'.format(my_car.color))"
   ]
  },
  {
   "cell_type": "code",
   "execution_count": 6,
   "metadata": {},
   "outputs": [],
   "source": [
    "# 함수 정의\n",
    "class Car():\n",
    "\n",
    "    def move(self, speed):\n",
    "        print(\"시속 {}km로 전진\".format(speed))\n",
    "\n",
    "    def turn(self, direction):\n",
    "        print(\"{} 방향으로 회전\".format(direction))\n",
    "\n",
    "    def stop(self):\n",
    "        print(\"자동차({0}, {1}) : 정지\".format(self.wheel_size, self.color))"
   ]
  },
  {
   "cell_type": "code",
   "execution_count": 7,
   "metadata": {},
   "outputs": [],
   "source": [
    "my_car = Car()\n",
    "\n",
    "my_car.wheel_size = 30\n",
    "my_car.color = 'black'"
   ]
  },
  {
   "cell_type": "code",
   "execution_count": 8,
   "metadata": {},
   "outputs": [
    {
     "name": "stdout",
     "output_type": "stream",
     "text": [
      "시속 30km로 전진\n",
      "Left 방향으로 회전\n",
      "Right 방향으로 회전\n",
      "자동차(30, black) : 정지\n"
     ]
    }
   ],
   "source": [
    "my_car.move(30)\n",
    "my_car.turn('Left')\n",
    "my_car.turn('Right')\n",
    "my_car.stop()"
   ]
  },
  {
   "cell_type": "markdown",
   "metadata": {},
   "source": [
    "#### 객체 초기화\n",
    "\n",
    "* __ init()__ : 클래스를 선언할 때 구현 (초기화 함수)\n",
    "* 객체를 생성하는 것과 동시에 속성값 지정"
   ]
  },
  {
   "cell_type": "code",
   "execution_count": 9,
   "metadata": {},
   "outputs": [],
   "source": [
    "class Car():\n",
    "\n",
    "    def __init__(self, wheel_size, color):\n",
    "        self.wheel_size = wheel_size\n",
    "        self.color = color\n",
    "\n",
    "    def move(self, speed):\n",
    "        print(\"시속 {}km로 전진\".format(speed))\n",
    "\n",
    "    def turn(self, direction):\n",
    "        print(\"{} 방향으로 회전\".format(direction))\n",
    "\n",
    "    def stop(self):\n",
    "        print(\"자동차({0}, {1}) : 정지\".format(self.wheel_size, self.color))"
   ]
  },
  {
   "cell_type": "code",
   "execution_count": 10,
   "metadata": {},
   "outputs": [
    {
     "name": "stdout",
     "output_type": "stream",
     "text": [
      "바퀴 크기 : 40\n",
      "색상 : sky\n",
      "\n",
      "시속 30km로 전진\n",
      "Left 방향으로 회전\n",
      "Right 방향으로 회전\n",
      "자동차(40, sky) : 정지\n"
     ]
    }
   ],
   "source": [
    "car2 = Car(40, 'sky')\n",
    "\n",
    "print('바퀴 크기 : {}'.format(car2.wheel_size))\n",
    "print('색상 : {}'.format(car2.color))\n",
    "\n",
    "print()\n",
    "\n",
    "car2.move(30)\n",
    "car2.turn('Left')\n",
    "car2.turn('Right')\n",
    "car2.stop()\n"
   ]
  },
  {
   "cell_type": "markdown",
   "metadata": {},
   "source": [
    "---"
   ]
  },
  {
   "cell_type": "markdown",
   "metadata": {},
   "source": [
    "## 클래스에서 사용하는 변수\n",
    "\n",
    "* 클래스 변수 (class variable)\n",
    "* 인스턴스 변수 (instance variable)"
   ]
  },
  {
   "cell_type": "markdown",
   "metadata": {},
   "source": [
    "#### 클래스 변수 (class variable)\n",
    "\n",
    "* 클래스 내에 존재\n",
    "* 함수 밖에서 '변수명' = 데이터' 형식으로 정의한 변수\n",
    "* 클래스에서 생성한 모든 객체가 공통으로 사용 가능"
   ]
  },
  {
   "cell_type": "markdown",
   "metadata": {},
   "source": [
    "* '클래스명.변수명' : 클래스 변수에 접근 방식\n",
    "* '객체명.변수명' : 객체 생성 후 접근 방식"
   ]
  },
  {
   "cell_type": "markdown",
   "metadata": {},
   "source": [
    "#### 인스턴스 변수 (instance variable)\n",
    "\n",
    "* 클래스 내의 함수 안에서 'self.변수명 = 데이터' 형식으로 정의한 변수\n",
    "* 클래스 내의 모든 함수에서 'self.변수명' 형식으로 접근\n",
    "* 객체 생성 후, '객체명.변수명' 형식으로 접근\n",
    "    * 클래스 변수 O, 인스턴스 변수 X 일 때, 클래스 변수에 접근됨"
   ]
  },
  {
   "cell_type": "code",
   "execution_count": 11,
   "metadata": {},
   "outputs": [],
   "source": [
    "class Bus():\n",
    "    instance_count = 0  # 클래스 변수 생성 및 초기화\n",
    "\n",
    "    def __init__(self, size, color):\n",
    "        # 인스턴스 변수 생성 및 초기화\n",
    "        self.size = size\n",
    "        self.color = color\n",
    "\n",
    "        # 클래스 변수 이용\n",
    "        Bus.instance_count = Bus.instance_count + 1\n",
    "        print('버스 객체 수 : {}'.format(Bus.instance_count))\n",
    "\n",
    "    def move(self):\n",
    "        print('버스({}, {}) 주행중'.format(self.size, self.color))"
   ]
  },
  {
   "cell_type": "code",
   "execution_count": 12,
   "metadata": {},
   "outputs": [
    {
     "name": "stdout",
     "output_type": "stream",
     "text": [
      "버스 객체 수 : 1\n",
      "버스 객체 수 : 2\n"
     ]
    }
   ],
   "source": [
    "bus1 = Bus('small', 'green')\n",
    "bus2 = Bus('big', 'blue')"
   ]
  },
  {
   "cell_type": "code",
   "execution_count": 13,
   "metadata": {},
   "outputs": [
    {
     "name": "stdout",
     "output_type": "stream",
     "text": [
      "Bus 클래스의 총 인스턴스 개수 : 2\n",
      "Bus 클래스의 총 인스턴스 개수 : 2\n",
      "Bus 클래스의 총 인스턴스 개수 : 2\n"
     ]
    }
   ],
   "source": [
    "# 클래스.클래스변수명\n",
    "print('Bus 클래스의 총 인스턴스 개수 : {}'.format(Bus.instance_count))\n",
    "\n",
    "# 객체명.클래스변수명\n",
    "print('Bus 클래스의 총 인스턴스 개수 : {}'.format(bus1.instance_count))\n",
    "print('Bus 클래스의 총 인스턴스 개수 : {}'.format(bus2.instance_count))"
   ]
  },
  {
   "cell_type": "code",
   "execution_count": 14,
   "metadata": {},
   "outputs": [
    {
     "name": "stdout",
     "output_type": "stream",
     "text": [
      "버스(small, green) 주행중\n",
      "버스(big, blue) 주행중\n"
     ]
    }
   ],
   "source": [
    "bus1.move()\n",
    "bus2.move()"
   ]
  },
  {
   "cell_type": "markdown",
   "metadata": {},
   "source": [
    "* 클래스 변수 count와 인스턴스 변수 count가 별개로 동작함"
   ]
  },
  {
   "cell_type": "code",
   "execution_count": 15,
   "metadata": {},
   "outputs": [],
   "source": [
    "class Bus2():\n",
    "    count = 0  # 클래스 변수 생성 및 초기화\n",
    "\n",
    "    def __init__(self, size, num):\n",
    "        # 인스턴스 변수 생성 및 초기화\n",
    "        self.size = size\n",
    "        self.count = num\n",
    "\n",
    "        # 클래스 변수 이용\n",
    "        Bus2.count = Bus2.count + 1\n",
    "        print('버스 객체 수 : Bus2.count = {}'.format(Bus2.count))\n",
    "        print('버스 객체 수 : self.count = {}'.format(self.count))\n",
    "\n",
    "    def move(self):\n",
    "        print('버스({}, {}) 주행중'.format(self.size, self.count))"
   ]
  },
  {
   "cell_type": "code",
   "execution_count": 16,
   "metadata": {},
   "outputs": [
    {
     "name": "stdout",
     "output_type": "stream",
     "text": [
      "버스 객체 수 : Bus2.count = 1\n",
      "버스 객체 수 : self.count = 20\n",
      "\n",
      "버스 객체 수 : Bus2.count = 2\n",
      "버스 객체 수 : self.count = 30\n"
     ]
    }
   ],
   "source": [
    "bus1 = Bus2('big', 20)\n",
    "print()\n",
    "bus1 = Bus2('small', 30)"
   ]
  },
  {
   "cell_type": "markdown",
   "metadata": {},
   "source": [
    "---"
   ]
  },
  {
   "cell_type": "markdown",
   "metadata": {},
   "source": [
    "## 클래스에서 사용하는 함수\n",
    "\n",
    "* 인스턴스 메서드 (instance method)\n",
    "* 정적 메서드 (static method)\n",
    "* 클래스 메서드 (class method)"
   ]
  },
  {
   "cell_type": "markdown",
   "metadata": {},
   "source": [
    "#### 인스턴스 메서드\n",
    "\n",
    "* 각 객체에서 개별적으로 동작하는 함수를 만들고자 할 때 사용\n",
    "* 함수를 정의할 때, 첫 인자로 'self'가 필요\n",
    "    * self : 클래스의 인스턴스(객체) 자신을 가리킴\n",
    "* 인스턴스 메서드에서는 self를 이용해 인스턴스 변수를 만들고 사용함\n",
    "* 인스턴스 메서드 안에서, 'self.함수명()' 형식으로 클래스 내의 다른 함수 호출"
   ]
  },
  {
   "cell_type": "code",
   "execution_count": 17,
   "metadata": {},
   "outputs": [],
   "source": [
    "class Train():\n",
    "\n",
    "    instance_count = 0    # 클래스 변수 생성 및 초기화\n",
    "\n",
    "    # 초기화 함수(인스턴스 메서드)\n",
    "    def __init__(self, size, color):\n",
    "        self.size = size    # 인스턴스 변수 생성 및 초기화\n",
    "        self.color = color  # 인스턴스 변수 생성 및 초기화\n",
    "        Train.instance_count = Train.instance_count + 1     # 클래스 변수 이용\n",
    "        print('Train 객체 수 : {}'.format(Train.instance_count))\n",
    "\n",
    "\n",
    "    # 인스턴스 메서드\n",
    "    def move(self, speed):\n",
    "        self.speed = speed  # 인스턴스 변수 생성\n",
    "        print(\"Train({0}, {1}) : 시속 {2}km로 전진\".format(self.size, self.color, self.speed))\n",
    "\n",
    "    # 인스턴스 메서드\n",
    "    def auto_cruise(self):\n",
    "        print(\"자율 주행 모드\")\n",
    "        self.move(self.speed)   # move() 함수의 인자로 인스턴스 변수를 입력"
   ]
  },
  {
   "cell_type": "code",
   "execution_count": 18,
   "metadata": {},
   "outputs": [
    {
     "name": "stdout",
     "output_type": "stream",
     "text": [
      "Train 객체 수 : 1\n",
      "Train 객체 수 : 2\n",
      "Train(small, red) : 시속 80km로 전진\n",
      "Train(big, blue) : 시속 100km로 전진\n",
      "자율 주행 모드\n",
      "Train(small, red) : 시속 80km로 전진\n",
      "자율 주행 모드\n",
      "Train(big, blue) : 시속 100km로 전진\n"
     ]
    }
   ],
   "source": [
    "# 객체 생성\n",
    "train1 = Train('small', 'red')\n",
    "train2 = Train('big', 'blue')\n",
    "\n",
    "# move() 메서드 호출\n",
    "train1.move(80)\n",
    "train2.move(100)\n",
    "\n",
    "# auto_cruise() 메서드 호출\n",
    "train1.auto_cruise()\n",
    "train2.auto_cruise()"
   ]
  },
  {
   "cell_type": "markdown",
   "metadata": {},
   "source": [
    "#### 정적 메서드\n",
    "\n",
    "* 클랫나 클래스의 인스턴스(객체)와는 무관하게 독립적으로 동작하는 함수\n",
    "* 함수를 정의할 때, 첫 인자로 'self'가 필요 X\n",
    "* 정적 메서드 안에서, 인스턴스 메서드나 인스턴스 변수에 접근할 수 없음\n",
    "* 함수 앞에 @staticmethod (데코레이터, Decorator)를 선언하여 정적 메서드 표시"
   ]
  },
  {
   "cell_type": "markdown",
   "metadata": {},
   "source": [
    "* 보통 객체를 생성하지 않고, 클래스명을 이용해 바로 정적 메소드 호출(객체 생성 후 호출도 가능)\n",
    "    * '클래스.메서드명(인자1, 인자2, ...)'\n",
    "* 객체와 관계없이 독립적으로 동작하는 함수를 만들 때 주로 이용\n",
    "    * 날짜 및 시간 정보 제공, 환율 정보 제공, 단위 변환 ..."
   ]
  },
  {
   "cell_type": "code",
   "execution_count": 19,
   "metadata": {},
   "outputs": [],
   "source": [
    "# Subway 클래스 생성\n",
    "\n",
    "class Subway():\n",
    "\n",
    "    # 클래스 변수\n",
    "    instance_count = 0\n",
    "    \n",
    "    def __init__(self, size, color):\n",
    "        self.size = size \n",
    "        self.color = color\n",
    "        Subway.instance_count = Subway.instance_count + 1\n",
    "        print('Subway 객체 수 : {}'.format(Subway.instance_count))\n",
    "\n",
    "\n",
    "    # 인스턴스 메서드\n",
    "    def move(self, speed):\n",
    "        self.speed = speed  # 인스턴스 변수 생성\n",
    "        print(\"Subway({0}, {1}) : 시속 {2}km로 전진\".format(self.size, self.color, self.speed))\n",
    "\n",
    "    # 인스턴스 메서드\n",
    "    def auto_cruise(self):\n",
    "        print(\"자율 주행 모드\")\n",
    "        self.move(self.speed)   # move() 함수의 인자로 인스턴스 변수를 입력\n",
    "\n",
    "    # 정적 메서드\n",
    "    @staticmethod\n",
    "    def check_type(model_code):\n",
    "        if(model_code >= 20):\n",
    "            print(\"This subway is line 7\")\n",
    "        elif(10 <= model_code <= 20):\n",
    "            print(\"This subway is line 4\")\n",
    "        else:\n",
    "            print(\"This subway is line 2\")    "
   ]
  },
  {
   "cell_type": "code",
   "execution_count": 20,
   "metadata": {},
   "outputs": [
    {
     "name": "stdout",
     "output_type": "stream",
     "text": [
      "This subway is line 7\n",
      "This subway is line 4\n",
      "This subway is line 2\n"
     ]
    }
   ],
   "source": [
    "# 정적 메서드 호출\n",
    "\n",
    "Subway.check_type(20)\n",
    "Subway.check_type(10)\n",
    "Subway.check_type(5)"
   ]
  },
  {
   "cell_type": "code",
   "execution_count": 21,
   "metadata": {},
   "outputs": [
    {
     "name": "stdout",
     "output_type": "stream",
     "text": [
      "Subway 객체 수 : 1\n",
      "\n",
      "인스턴스 메서드 호출\n",
      "Subway(100, white) : 시속 100km로 전진\n",
      "자율 주행 모드\n",
      "Subway(100, white) : 시속 100km로 전진\n",
      "\n",
      "정적 메서드 호출\n",
      "This subway is line 7\n",
      "This subway is line 4\n",
      "This subway is line 2\n"
     ]
    }
   ],
   "source": [
    "subway1 = Subway(100, \"white\")\n",
    "\n",
    "print(\"\\n인스턴스 메서드 호출\")\n",
    "subway1.move(100)\n",
    "subway1.auto_cruise()\n",
    "\n",
    "print(\"\\n정적 메서드 호출\")\n",
    "subway1.check_type(20)\n",
    "subway1.check_type(15)\n",
    "subway1.check_type(5)\n"
   ]
  },
  {
   "cell_type": "markdown",
   "metadata": {},
   "source": [
    "#### 클래스 메서드\n",
    "\n",
    "* 클래스 변수를 사용하기 위해 사용\n",
    "* 함수를 정의할 때, 첫 번째 인자로 클래스를 넘겨받는 '**cls**' 필요\n",
    "    * 이를 이용해 클래스 변수에 접근\n",
    "* 함수 앞에 @classmethod (데코레이터) 지정"
   ]
  },
  {
   "cell_type": "code",
   "execution_count": 22,
   "metadata": {},
   "outputs": [],
   "source": [
    "# Airplane 클래스 선언\n",
    "\n",
    "class Airplane():\n",
    "    # 클래스 변수\n",
    "    instance_count = 0\n",
    "\n",
    "    # 초기화 함수(인스턴스 메서드)\n",
    "    def __init__(self, size, color):\n",
    "        self.size = size    # 인스턴스 변수 생성 및 초기화\n",
    "        self.color = color  # 인스턴스 변수 생성 및 초기화\n",
    "        Airplane.instance_count = Airplane.instance_count + 1\n",
    "\n",
    "    # 인스턴스 메서드\n",
    "    def move(self, speed):\n",
    "        self.speed = speed  # 인스턴스 변수 생성\n",
    "        print('Airplane({0} , {1}) 속도 : {2}'.format(self.size, self.color, self.speed))\n",
    "    \n",
    "    # 인스턴스 메서드\n",
    "    def auto(self):\n",
    "        print(\"자율 주행 : \", end=\" \")\n",
    "        self.move(self.speed)\n",
    "\n",
    "    # 정적 메서드\n",
    "    @staticmethod\n",
    "    def airport_code(code):\n",
    "        if(code == 0):\n",
    "            print('Incheon International Airport')\n",
    "        elif(code == 1):\n",
    "            print('Kimpo Airport')\n",
    "        elif(code == 2):\n",
    "            print('Jeju Airport')\n",
    "    \n",
    "    # 클래스 메서드\n",
    "    @classmethod\n",
    "    def count_instance(cls):\n",
    "        print('항공기 객체의 개수 : {}'.format(cls.instance_count))"
   ]
  },
  {
   "cell_type": "code",
   "execution_count": 23,
   "metadata": {},
   "outputs": [
    {
     "name": "stdout",
     "output_type": "stream",
     "text": [
      "0\n",
      "항공기 객체의 개수 : 0\n"
     ]
    }
   ],
   "source": [
    "# 객체 생성 전, 클래스 변수, 메서드 호출\n",
    "\n",
    "# 클래스 변수\n",
    "print(Airplane.instance_count)\n",
    "\n",
    "# 클래스 메서드\n",
    "Airplane.count_instance()"
   ]
  },
  {
   "cell_type": "code",
   "execution_count": 24,
   "metadata": {},
   "outputs": [
    {
     "name": "stdout",
     "output_type": "stream",
     "text": [
      "항공기 객체의 개수 : 1\n",
      "항공기 객체의 개수 : 1\n",
      "1\n",
      "1\n",
      "항공기 객체의 개수 : 2\n",
      "항공기 객체의 개수 : 2\n",
      "2\n",
      "2\n"
     ]
    }
   ],
   "source": [
    "# 객체 생성 1\n",
    "air1 = Airplane(50, 'white')\n",
    "\n",
    "Airplane.count_instance()       # 클래스명.클래스메서드\n",
    "air1.count_instance()           # 객체명.클래스메서드\n",
    "\n",
    "print(Airplane.instance_count)  # 클래스명.클래스변수\n",
    "print(air1.instance_count)      # 객체명.클래스변수\n",
    "\n",
    "\n",
    "# 객체 생성 2\n",
    "air2 = Airplane(60, 'orange')\n",
    "\n",
    "Airplane.count_instance()\n",
    "air2.count_instance()\n",
    "\n",
    "print(Airplane.instance_count)\n",
    "print(air2.instance_count)\n",
    "\n"
   ]
  },
  {
   "cell_type": "code",
   "execution_count": 25,
   "metadata": {},
   "outputs": [
    {
     "name": "stdout",
     "output_type": "stream",
     "text": [
      "Airplane(50 , white) 속도 : 300\n",
      "Airplane(60 , orange) 속도 : 200\n",
      "자율 주행 :  Airplane(50 , white) 속도 : 300\n",
      "자율 주행 :  Airplane(60 , orange) 속도 : 200\n",
      "Incheon International Airport\n"
     ]
    }
   ],
   "source": [
    "air1.move(300)\n",
    "air2.move(200)\n",
    "\n",
    "air1.auto()\n",
    "air2.auto()\n",
    "\n",
    "Airplane.airport_code(0)"
   ]
  },
  {
   "cell_type": "markdown",
   "metadata": {},
   "source": [
    "---"
   ]
  },
  {
   "cell_type": "markdown",
   "metadata": {},
   "source": [
    "## 클래스 상속\n",
    "\n",
    "* 이미 만들어진 클래스의 변수와 함수를 그대로 이어받고 새로운 내용만 추가해서 클래스를 선언\n",
    "* 부모 클래스(= 슈퍼 클래스, 상위 클래스)\n",
    "    * => 자식 클래스(= 서브 클래스, 하위 클래스)"
   ]
  },
  {
   "cell_type": "markdown",
   "metadata": {},
   "source": [
    "* 자식 클래스는 부모 클래스의 속성(변수), 행위(함수)를 그대로 이용할 수 있음\n",
    "    + 상속 후에는 자식 클래스만 갖는 고유한 속성과 행위 추가 가능"
   ]
  },
  {
   "cell_type": "code",
   "execution_count": 26,
   "metadata": {},
   "outputs": [],
   "source": [
    "class Pokemon():\n",
    "\n",
    "    def __init__(self, type, name, nomal_skill):\n",
    "        self.type = type\n",
    "        self.name = name\n",
    "        self.nomal_skill = nomal_skill\n",
    "        print(\"포켓몬 생성 성공\")\n",
    "\n",
    "    def attack_nomal(self):\n",
    "        print(\"{}({} 타입)은 일반 기술 '{}'를 사용했다!\".format(self.name, self.type, self.nomal_skill))"
   ]
  },
  {
   "cell_type": "code",
   "execution_count": 27,
   "metadata": {},
   "outputs": [],
   "source": [
    "class StartingPokemon(Pokemon):\n",
    "\n",
    "    def __init__(self, type, name, nomal_skill, special_skill): # StartingPokemon 초기화\n",
    "        super().__init__(type, name, nomal_skill)   # Pokemon의 초기화 재사용\n",
    "        # (= Pokemon.__init__(self, type, name, nomal_skill))\n",
    "        self.special_skill = special_skill  # 자식 클래스에서 새로 추가한 변수\n",
    "\n",
    "    def attack_special(self):\n",
    "        print(\"{}({} 타입)은 특별 기술 '{}'를 사용했다!\".format(self.name, self.type, self.special_skill))"
   ]
  },
  {
   "cell_type": "code",
   "execution_count": 28,
   "metadata": {},
   "outputs": [
    {
     "name": "stdout",
     "output_type": "stream",
     "text": [
      "포켓몬 생성 성공\n"
     ]
    }
   ],
   "source": [
    "# 객체 생성\n",
    "pikachu = StartingPokemon('전기', '피카츄', '전광석화', '백만 볼트')"
   ]
  },
  {
   "cell_type": "code",
   "execution_count": 29,
   "metadata": {},
   "outputs": [
    {
     "name": "stdout",
     "output_type": "stream",
     "text": [
      "피카츄(전기 타입)은 일반 기술 '전광석화'를 사용했다!\n",
      "피카츄(전기 타입)은 특별 기술 '백만 볼트'를 사용했다!\n"
     ]
    }
   ],
   "source": [
    "# 부모 클래스의 함수(메서드) 호출\n",
    "pikachu.attack_nomal()\n",
    "\n",
    "# 자식 클래스에서 정의한 함수 호출\n",
    "pikachu.attack_special()"
   ]
  }
 ],
 "metadata": {
  "interpreter": {
   "hash": "1ef078467dd63487d90c66fda3d945ae0cf08fcbb11ad780475c9b39620e3c77"
  },
  "kernelspec": {
   "display_name": "Python 3.9.7 ('base')",
   "language": "python",
   "name": "python3"
  },
  "language_info": {
   "codemirror_mode": {
    "name": "ipython",
    "version": 3
   },
   "file_extension": ".py",
   "mimetype": "text/x-python",
   "name": "python",
   "nbconvert_exporter": "python",
   "pygments_lexer": "ipython3",
   "version": "3.9.7"
  },
  "orig_nbformat": 4
 },
 "nbformat": 4,
 "nbformat_minor": 2
}
