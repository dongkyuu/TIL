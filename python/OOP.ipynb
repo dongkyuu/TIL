{
 "cells": [
  {
   "cell_type": "markdown",
   "metadata": {},
   "source": [
    "# 객체지향 프로그래밍 (Object-Orientec Programming, OOP)\n",
    "\n",
    "* 객체를 만들고 이용할 수 있는 기능을 제공하는 프로그래밍 언어"
   ]
  },
  {
   "cell_type": "markdown",
   "metadata": {},
   "source": [
    "## 객체\n",
    "\n",
    "* 속성, 행위로 구성된 대상 (변수와 함수의 묶음)\n",
    "* 변수 : 객체의 특징(속성)\n",
    "* 함수 : 객체가 할 수 있는 행동"
   ]
  },
  {
   "cell_type": "markdown",
   "metadata": {},
   "source": [
    "#### 클래스 선언\n",
    "\n",
    "* 객체를 만들기 위한 기본 틀\n",
    "* 객체의 공통된 속성과 행위를 변수와 함수로 정의한 것"
   ]
  },
  {
   "cell_type": "markdown",
   "metadata": {},
   "source": [
    "#### 객체 생성"
   ]
  },
  {
   "cell_type": "code",
   "execution_count": 3,
   "metadata": {},
   "outputs": [],
   "source": [
    "# 클래스 선언\n",
    "class Car():\n",
    "    pass"
   ]
  },
  {
   "cell_type": "code",
   "execution_count": 4,
   "metadata": {},
   "outputs": [],
   "source": [
    "# 객체 생성\n",
    "\n",
    "my_car = Car()"
   ]
  },
  {
   "cell_type": "code",
   "execution_count": 5,
   "metadata": {},
   "outputs": [
    {
     "data": {
      "text/plain": [
       "<__main__.Car at 0x27207212670>"
      ]
     },
     "execution_count": 5,
     "metadata": {},
     "output_type": "execute_result"
    }
   ],
   "source": [
    "my_car"
   ]
  },
  {
   "cell_type": "code",
   "execution_count": 6,
   "metadata": {},
   "outputs": [],
   "source": [
    "# 속성값 설정\n",
    "\n",
    "my_car.wheel_size = 30\n",
    "my_car.color = 'black'"
   ]
  },
  {
   "cell_type": "code",
   "execution_count": 7,
   "metadata": {},
   "outputs": [
    {
     "name": "stdout",
     "output_type": "stream",
     "text": [
      "바퀴 크기 : 30\n",
      "색상 : black\n"
     ]
    }
   ],
   "source": [
    "print('바퀴 크기 : {}'.format(my_car.wheel_size))\n",
    "print('색상 : {}'.format(my_car.color))"
   ]
  },
  {
   "cell_type": "code",
   "execution_count": 8,
   "metadata": {},
   "outputs": [],
   "source": [
    "# 함수 정의\n",
    "class Car():\n",
    "\n",
    "    def move(self, speed):\n",
    "        print(\"시속 {}km로 전진\".format(speed))\n",
    "\n",
    "    def turn(self, direction):\n",
    "        print(\"{} 방향으로 회전\".format(direction))\n",
    "\n",
    "    def stop(self):\n",
    "        print(\"자동차({0}, {1}) : 정지\".format(self.wheel_size, self.color))"
   ]
  },
  {
   "cell_type": "code",
   "execution_count": 14,
   "metadata": {},
   "outputs": [],
   "source": [
    "my_car = Car()\n",
    "\n",
    "my_car.wheel_size = 30\n",
    "my_car.color = 'black'"
   ]
  },
  {
   "cell_type": "code",
   "execution_count": 15,
   "metadata": {},
   "outputs": [
    {
     "name": "stdout",
     "output_type": "stream",
     "text": [
      "시속 30km로 전진\n",
      "Left 방향으로 회전\n",
      "Right 방향으로 회전\n",
      "자동차(30, black) : 정지\n"
     ]
    }
   ],
   "source": [
    "my_car.move(30)\n",
    "my_car.turn('Left')\n",
    "my_car.turn('Right')\n",
    "my_car.stop()"
   ]
  },
  {
   "cell_type": "markdown",
   "metadata": {},
   "source": [
    "#### 객체 초기화\n",
    "\n",
    "* __ init()__ : 클래스를 선언할 때 구현 (초기화 함수)\n",
    "* 객체를 생성하는 것과 동시에 속성값 지정"
   ]
  },
  {
   "cell_type": "code",
   "execution_count": 26,
   "metadata": {},
   "outputs": [],
   "source": [
    "class Car():\n",
    "\n",
    "    def __init__(self, wheel_size, color):\n",
    "        self.wheel_size = wheel_size\n",
    "        self.color = color\n",
    "\n",
    "    def move(self, speed):\n",
    "        print(\"시속 {}km로 전진\".format(speed))\n",
    "\n",
    "    def turn(self, direction):\n",
    "        print(\"{} 방향으로 회전\".format(direction))\n",
    "\n",
    "    def stop(self):\n",
    "        print(\"자동차({0}, {1}) : 정지\".format(self.wheel_size, self.color))"
   ]
  },
  {
   "cell_type": "code",
   "execution_count": 30,
   "metadata": {},
   "outputs": [
    {
     "name": "stdout",
     "output_type": "stream",
     "text": [
      "바퀴 크기 : 40\n",
      "색상 : sky\n",
      "\n",
      "시속 30km로 전진\n",
      "Left 방향으로 회전\n",
      "Right 방향으로 회전\n",
      "자동차(40, sky) : 정지\n"
     ]
    }
   ],
   "source": [
    "car2 = Car(40, 'sky')\n",
    "\n",
    "print('바퀴 크기 : {}'.format(car2.wheel_size))\n",
    "print('색상 : {}'.format(car2.color))\n",
    "\n",
    "print()\n",
    "\n",
    "car2.move(30)\n",
    "car2.turn('Left')\n",
    "car2.turn('Right')\n",
    "car2.stop()\n"
   ]
  },
  {
   "cell_type": "markdown",
   "metadata": {},
   "source": [
    "---"
   ]
  },
  {
   "cell_type": "markdown",
   "metadata": {},
   "source": [
    "## 클래스에서 사용하는 변수\n",
    "\n",
    "* 클래스 변수 (class variable)\n",
    "* 인스턴스 변수 (instance variable)"
   ]
  },
  {
   "cell_type": "markdown",
   "metadata": {},
   "source": [
    "#### 클래스 변수 (class variable)\n",
    "\n",
    "* 클래스 내에 존재\n",
    "* 함수 밖에서 '변수명' = 데이터' 형식으로 정의한 변수\n",
    "* 클래스에서 생성한 모든 객체가 공통으로 사용 가능"
   ]
  },
  {
   "cell_type": "markdown",
   "metadata": {},
   "source": [
    "* '클래스명.변수명' : 클래스 변수에 접근 방식\n",
    "* '객체명.변수명' : 객체 생성 후 접근 방식"
   ]
  },
  {
   "cell_type": "markdown",
   "metadata": {},
   "source": [
    "#### 인스턴스 변수 (instance variable)\n",
    "\n",
    "* 클래스 내의 함수 안에서 'self.변수명 = 데이터' 형식으로 정의한 변수\n",
    "* 클래스 내의 모든 함수에서 'self.변수명' 형식으로 접근\n",
    "* 객체 생성 후, '객체명.변수명' 형식으로 접근\n",
    "    * 클래스 변수 O, 인스턴스 변수 X 일 때, 클래스 변수에 접근됨"
   ]
  },
  {
   "cell_type": "code",
   "execution_count": 34,
   "metadata": {},
   "outputs": [],
   "source": [
    "class Bus():\n",
    "    instance_count = 0  # 클래스 변수 생성 및 초기화\n",
    "\n",
    "    def __init__(self, size, color):\n",
    "        # 인스턴스 변수 생성 및 초기화\n",
    "        self.size = size\n",
    "        self.color = color\n",
    "\n",
    "        # 클래스 변수 이용\n",
    "        Bus.instance_count = Bus.instance_count + 1\n",
    "        print('버스 객체 수 : {}'.format(Bus.instance_count))\n",
    "\n",
    "    def move(self):\n",
    "        print('버스({}, {}) 주행중'.format(self.size, self.color))"
   ]
  },
  {
   "cell_type": "code",
   "execution_count": 35,
   "metadata": {},
   "outputs": [
    {
     "name": "stdout",
     "output_type": "stream",
     "text": [
      "버스 객체 수 : 1\n",
      "버스 객체 수 : 2\n"
     ]
    }
   ],
   "source": [
    "bus1 = Bus('small', 'green')\n",
    "bus2 = Bus('big', 'blue')"
   ]
  },
  {
   "cell_type": "code",
   "execution_count": 38,
   "metadata": {},
   "outputs": [
    {
     "name": "stdout",
     "output_type": "stream",
     "text": [
      "Bus 클래스의 총 인스턴스 개수 : 2\n",
      "Bus 클래스의 총 인스턴스 개수 : 2\n",
      "Bus 클래스의 총 인스턴스 개수 : 2\n"
     ]
    }
   ],
   "source": [
    "# 클래스.클래스변수명\n",
    "print('Bus 클래스의 총 인스턴스 개수 : {}'.format(Bus.instance_count))\n",
    "\n",
    "# 객체명.클래스변수명\n",
    "print('Bus 클래스의 총 인스턴스 개수 : {}'.format(bus1.instance_count))\n",
    "print('Bus 클래스의 총 인스턴스 개수 : {}'.format(bus2.instance_count))"
   ]
  },
  {
   "cell_type": "code",
   "execution_count": 39,
   "metadata": {},
   "outputs": [
    {
     "name": "stdout",
     "output_type": "stream",
     "text": [
      "버스(small, green) 주행중\n",
      "버스(big, blue) 주행중\n"
     ]
    }
   ],
   "source": [
    "bus1.move()\n",
    "bus2.move()"
   ]
  },
  {
   "cell_type": "markdown",
   "metadata": {},
   "source": [
    "* 클래스 변수 count와 인스턴스 변수 count가 별개로 동작함"
   ]
  },
  {
   "cell_type": "code",
   "execution_count": 53,
   "metadata": {},
   "outputs": [],
   "source": [
    "class Bus2():\n",
    "    count = 0  # 클래스 변수 생성 및 초기화\n",
    "\n",
    "    def __init__(self, size, num):\n",
    "        # 인스턴스 변수 생성 및 초기화\n",
    "        self.size = size\n",
    "        self.count = num\n",
    "\n",
    "        # 클래스 변수 이용\n",
    "        Bus2.count = Bus2.count + 1\n",
    "        print('버스 객체 수 : Bus2.count = {}'.format(Bus2.count))\n",
    "        print('버스 객체 수 : self.count = {}'.format(self.count))\n",
    "\n",
    "    def move(self):\n",
    "        print('버스({}, {}) 주행중'.format(self.size, self.count))"
   ]
  },
  {
   "cell_type": "code",
   "execution_count": 54,
   "metadata": {},
   "outputs": [
    {
     "name": "stdout",
     "output_type": "stream",
     "text": [
      "버스 객체 생성 횟수 : Bus2.count = 1\n",
      "버스 객체 생성 횟수 : self.count = 20\n",
      "\n",
      "버스 객체 생성 횟수 : Bus2.count = 2\n",
      "버스 객체 생성 횟수 : self.count = 30\n"
     ]
    }
   ],
   "source": [
    "bus1 = Bus2('big', 20)\n",
    "print()\n",
    "bus1 = Bus2('small', 30)"
   ]
  },
  {
   "cell_type": "markdown",
   "metadata": {},
   "source": [
    "---"
   ]
  },
  {
   "cell_type": "markdown",
   "metadata": {},
   "source": [
    "## 클래스에서 사용하는 함수\n",
    "\n",
    "* 인스턴스 메서드 (instance method)\n",
    "* 정적 메서드 (static method)\n",
    "* 클래스 메서드 (class method)"
   ]
  },
  {
   "cell_type": "markdown",
   "metadata": {},
   "source": [
    "#### 인스턴스 메서드\n",
    "\n",
    "* 각 객체에서 개별적으로 동작하는 함수를 만들고자 할 때 사용\n",
    "* 함수를 정의할 때, 첫 인자로 'self'가 필요\n",
    "    * self : 클래스의 인스턴스(객체) 자신을 가리킴\n",
    "* 인스턴스 메서드에서는 self를 이용해 인스턴스 변수를 만들고 사용함\n",
    "* 인스턴스 메서드 안에서, 'self.함수명()' 형식으로 클래스 내의 다른 함수 호출"
   ]
  },
  {
   "cell_type": "code",
   "execution_count": null,
   "metadata": {},
   "outputs": [],
   "source": [
    "class Train():\n",
    "\n",
    "    instance_count = 0    # 클래스 변수 생성 및 초기화\n",
    "\n",
    "    # 초기화 함수(인스턴스 메서드)\n",
    "    def __init__(self, size, color):\n",
    "        self.size = size    # 인스턴스 변수 생성 및 초기화\n",
    "        self.color = color  # 인스턴스 변수 생성 및 초기화\n",
    "        Train.instance_count = Train.instance_count + 1     # 클래스 변수 이용\n",
    "        print('Train 객체 수 : {}'.format(Train.instance_count))\n",
    "\n",
    "\n",
    "    # 인스턴스 메서드\n",
    "    def move(self, speed):\n",
    "        print(\"시속 {}km로 전진\".format(speed))\n",
    "\n",
    "    def turn(self, direction):\n",
    "        print(\"{} 방향으로 회전\".format(direction))\n",
    "\n",
    "    def stop(self):\n",
    "        print(\"자동차({0}, {1}) : 정지\".format(self.wheel_size, self.color))"
   ]
  }
 ],
 "metadata": {
  "interpreter": {
   "hash": "1ef078467dd63487d90c66fda3d945ae0cf08fcbb11ad780475c9b39620e3c77"
  },
  "kernelspec": {
   "display_name": "Python 3.9.7 ('base')",
   "language": "python",
   "name": "python3"
  },
  "language_info": {
   "codemirror_mode": {
    "name": "ipython",
    "version": 3
   },
   "file_extension": ".py",
   "mimetype": "text/x-python",
   "name": "python",
   "nbconvert_exporter": "python",
   "pygments_lexer": "ipython3",
   "version": "3.9.7"
  },
  "orig_nbformat": 4
 },
 "nbformat": 4,
 "nbformat_minor": 2
}
