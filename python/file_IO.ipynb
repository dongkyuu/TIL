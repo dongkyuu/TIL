{
 "cells": [
  {
   "cell_type": "markdown",
   "metadata": {},
   "source": [
    "## 숫자의 출력 형식 지정"
   ]
  },
  {
   "cell_type": "markdown",
   "metadata": {},
   "source": [
    "* {N:2d} : 정수를 공백 포함해 두 자리로 표시\n",
    "* {N:05d} : 정수를 다섯 자리로 표시. 앞의 공백은 0으로 채우기\n",
    "* {N:>5d} : 정수를 다섯 자리로 표시. 숫자는 오른쪽으로 정렬\n",
    "* {N:.3f} : 실수를 소수점 셋째 자리까지 표시\n",
    "* {N:,} : 통화 표시처럼 끝에서 셋째 자리마다 콤마(,) 표시\n",
    "* {N:.1%} : 소수를 퍼센트(%)로 표시. 퍼센트 표시에서 소수점 자리 수는 dot('.')다음 숫자로 표시\n",
    "* {N:.2e} : 숫자를 지수로 표시. 지수 표시에서 소수점 자리수는 dot('.')다음 숫자로 표시\n",
    "* {N:#x} : 숫자를 16진수로 표시. #기호가 없으면 Ox없이 출력됨\n",
    "* {N:#o} : 숫자를 8진수로 표시. #기호가 없으면 Oo없이 출력됨\n",
    "* {N:#b} : 숫자를 2진수로 표시. #기호가 없으면 Ob없이 출력됨"
   ]
  },
  {
   "cell_type": "code",
   "execution_count": 1,
   "metadata": {},
   "outputs": [
    {
     "name": "stdout",
     "output_type": "stream",
     "text": [
      " 5\n",
      "2\n"
     ]
    }
   ],
   "source": [
    "# {N:2d}\n",
    "\n",
    "str = '{:2d}'\n",
    "print(str.format(5))\n",
    "print(len(str.format(5)))"
   ]
  },
  {
   "cell_type": "code",
   "execution_count": 2,
   "metadata": {},
   "outputs": [
    {
     "name": "stdout",
     "output_type": "stream",
     "text": [
      "00003\n",
      "5\n"
     ]
    }
   ],
   "source": [
    "# {N:05d}\n",
    "\n",
    "str = '{:05d}'\n",
    "print(str.format(3))\n",
    "print(len(str.format(3)))"
   ]
  },
  {
   "cell_type": "code",
   "execution_count": 3,
   "metadata": {},
   "outputs": [
    {
     "name": "stdout",
     "output_type": "stream",
     "text": [
      "    3\n",
      "5\n"
     ]
    }
   ],
   "source": [
    "# {N:>5d}\n",
    "\n",
    "str = '{:>5d}'\n",
    "print(str.format(3))\n",
    "print(len(str.format(3)))"
   ]
  },
  {
   "cell_type": "code",
   "execution_count": 4,
   "metadata": {},
   "outputs": [
    {
     "name": "stdout",
     "output_type": "stream",
     "text": [
      "0.123\n",
      "5\n"
     ]
    }
   ],
   "source": [
    "# {N:.3f}\n",
    "\n",
    "str = '{:.3f}'\n",
    "print(str.format(0.12345))\n",
    "print(len(str.format(0.12345)))"
   ]
  },
  {
   "cell_type": "code",
   "execution_count": 5,
   "metadata": {},
   "outputs": [
    {
     "name": "stdout",
     "output_type": "stream",
     "text": [
      "1,000,000\n"
     ]
    }
   ],
   "source": [
    "# {N:,} : 통화 표시처럼 끝에서 셋째 자리마다 콤마(,) 표시\n",
    "\n",
    "str = '{:,}'\n",
    "print(str.format(1000000))"
   ]
  },
  {
   "cell_type": "code",
   "execution_count": 6,
   "metadata": {},
   "outputs": [
    {
     "name": "stdout",
     "output_type": "stream",
     "text": [
      "12.35%\n"
     ]
    }
   ],
   "source": [
    "# {N:.1%} : 소수를 퍼센트(%)로 표시. 퍼센트 표시에서 소수점 자리 수는 dot('.')다음 숫자로 표시\n",
    "\n",
    "str = '{:.2%}'\n",
    "print(str.format(0.12345))"
   ]
  },
  {
   "cell_type": "code",
   "execution_count": 7,
   "metadata": {},
   "outputs": [
    {
     "name": "stdout",
     "output_type": "stream",
     "text": [
      "2.02e+03\n",
      "1.235e+11\n"
     ]
    }
   ],
   "source": [
    "# {N:.2e} : 숫자를 지수로 표시. 지수 표시에서 소수점 자리수는 dot('.')다음 숫자로 표시\n",
    "\n",
    "str = '{:.2e}'\n",
    "print(str.format(2022))\n",
    "\n",
    "str = '{:.3e}'\n",
    "print(str.format(123456789874))"
   ]
  },
  {
   "cell_type": "code",
   "execution_count": 8,
   "metadata": {},
   "outputs": [
    {
     "name": "stdout",
     "output_type": "stream",
     "text": [
      "0x10\n",
      "0o34\n",
      "10000\n"
     ]
    }
   ],
   "source": [
    "# {N:#x} : 숫자를 16진수로 표시. #기호가 없으면 'Ox'없이 출력됨\n",
    "str = '{:#x}'\n",
    "print(str.format(16))\n",
    "\n",
    "# {N:#o} : 숫자를 8진수로 표시. #기호가 없으면 'Oo'없이 출력됨\n",
    "str = '{:#o}'\n",
    "print(str.format(28))\n",
    "\n",
    "# {N:#b} : 숫자를 2진수로 표시. #기호가 없으면 'Ob'없이 출력됨\n",
    "str = '{:b}'\n",
    "print(str.format(16))"
   ]
  },
  {
   "cell_type": "markdown",
   "metadata": {},
   "source": [
    "---"
   ]
  },
  {
   "cell_type": "markdown",
   "metadata": {},
   "source": [
    "## 파일 입출력"
   ]
  },
  {
   "cell_type": "markdown",
   "metadata": {},
   "source": [
    "### 상대 경로 : ./ [파일명]\n",
    "### 절대 경로 : C:/20220103_lab/14.python/review/ [파일명]"
   ]
  },
  {
   "cell_type": "markdown",
   "metadata": {},
   "source": [
    "* mode\n",
    "    * r : 일기 모드로 파일 열기(기본). 모드를 지정하지 않으면 기본적으로 읽기 모드로 지정됨\n",
    "    * w : 쓰기 모드로 파일 열기\n",
    "        - 같은 이름의 파일이 있으면, 기존 내용은 모두 삭제됨\n",
    "    * x : 쓰기 모드로 파일 열기\n",
    "        - 같은 이름의 파일이 있으면, 오류 발생\n",
    "    * a : 추가 모드로 파일 열기\n",
    "        - 같은 이름의 파일이 없으면, w와 같은 기능\n",
    "    * b : 바이너리 파일 모드로 파일 열기\n",
    "    * t : 텍스트 파일 모드로 파일 열기(기본)\n",
    "        - 지정하지 않으면, 기본적으로 텍스트 모드로 지정됨\n"
   ]
  },
  {
   "cell_type": "code",
   "execution_count": 9,
   "metadata": {},
   "outputs": [],
   "source": [
    "# 'test.txt' 파일 쓰기 모드로 열기\n",
    "f = open(\"./test.txt\", \"w\")\n",
    "\n",
    "# 연 파일에 문자열 쓰기\n",
    "f.write('This is my test file.\\n')\n",
    "f.write('This is a second line.\\n')\n",
    "\n",
    "# 파일 닫기\n",
    "f.close()"
   ]
  },
  {
   "cell_type": "markdown",
   "metadata": {},
   "source": [
    "* 운영체제(OS) 명령어 실행\n",
    "    * IPython 콘솔이나 Jupyter notebook에서는 '!명령어'로 운영체제 명령어 수행 가능\n",
    "    * 텍스트 파일의 내용을 화면으로 출력\n",
    "        * 윈도우 : !type [파일명]\n",
    "        * 리눅스, 맥 : !cat [파일명]\n",
    "    * 파일이 있다면 내용을 화면에 출력, 없으면 오류 메시지 출력"
   ]
  },
  {
   "cell_type": "code",
   "execution_count": 10,
   "metadata": {},
   "outputs": [
    {
     "name": "stdout",
     "output_type": "stream",
     "text": [
      "This is my test file.\n",
      "This is a second line.\n"
     ]
    }
   ],
   "source": [
    "!type test.txt"
   ]
  },
  {
   "cell_type": "markdown",
   "metadata": {},
   "source": [
    "#### 파일 읽기\n",
    "\n",
    "* read()\n",
    "* readlines()\n",
    "* readline()"
   ]
  },
  {
   "cell_type": "markdown",
   "metadata": {},
   "source": [
    "##### read()\n",
    "* 파일의 내용 전체를 '문자열'로 반환"
   ]
  },
  {
   "cell_type": "code",
   "execution_count": 11,
   "metadata": {},
   "outputs": [],
   "source": [
    "# f =open('./test.txt')\n",
    "f = open('./test.txt', 'r')\n",
    "data = f.read()\n",
    "f.close()"
   ]
  },
  {
   "cell_type": "code",
   "execution_count": 12,
   "metadata": {},
   "outputs": [
    {
     "data": {
      "text/plain": [
       "'This is my test file.\\nThis is a second line.\\n'"
      ]
     },
     "execution_count": 12,
     "metadata": {},
     "output_type": "execute_result"
    }
   ],
   "source": [
    "data"
   ]
  },
  {
   "cell_type": "code",
   "execution_count": 13,
   "metadata": {},
   "outputs": [
    {
     "name": "stdout",
     "output_type": "stream",
     "text": [
      "This is my test file.\n",
      "This is a second line.\n",
      "\n"
     ]
    }
   ],
   "source": [
    "print(data)"
   ]
  },
  {
   "cell_type": "markdown",
   "metadata": {},
   "source": [
    "##### readline()\n",
    "* 파일의 첫 번째 줄을 읽어 출력\n",
    "* 다시 readline()을 사용하면, 그 다음 문자열 한 줄 읽음\n",
    "* 마지막 한 줄을 읽고, 다시 readline()을 수행하면, 빈 문자열 반환\n",
    "    * 빈 문자열('') : False"
   ]
  },
  {
   "cell_type": "code",
   "execution_count": 14,
   "metadata": {},
   "outputs": [
    {
     "data": {
      "text/plain": [
       "'This is my test file.\\n'"
      ]
     },
     "execution_count": 14,
     "metadata": {},
     "output_type": "execute_result"
    }
   ],
   "source": [
    "f = open('./test.txt', 'r')\n",
    "f.readline()"
   ]
  },
  {
   "cell_type": "code",
   "execution_count": 15,
   "metadata": {},
   "outputs": [
    {
     "data": {
      "text/plain": [
       "'This is a second line.'"
      ]
     },
     "execution_count": 15,
     "metadata": {},
     "output_type": "execute_result"
    }
   ],
   "source": [
    "# strip() : 양쪽 개행 문자 제거\n",
    "f.readline().strip()"
   ]
  },
  {
   "cell_type": "code",
   "execution_count": 16,
   "metadata": {},
   "outputs": [
    {
     "name": "stdout",
     "output_type": "stream",
     "text": [
      "0\n",
      "This is my test file.\n",
      "\n",
      "1\n",
      "This is a second line.\n",
      "\n",
      "2\n",
      "\n",
      "3\n",
      "\n"
     ]
    }
   ],
   "source": [
    "f = open('./test.txt', 'r')\n",
    "for x in range(4):\n",
    "    print(x)\n",
    "    print(f.readline())"
   ]
  },
  {
   "cell_type": "markdown",
   "metadata": {},
   "source": [
    "* readline()으로 읽은 문자열에는 이미 개행문자('\\n')가 포함되어있음\n",
    "    * print()에서는 줄바꿈이 중복되지 않게, end인자를 빈 문자열(\"\")로 설정(end = \"\") "
   ]
  },
  {
   "cell_type": "code",
   "execution_count": 17,
   "metadata": {},
   "outputs": [
    {
     "name": "stdout",
     "output_type": "stream",
     "text": [
      "This is my test file.\n",
      "This is my test file.\n"
     ]
    }
   ],
   "source": [
    "f = open('./test.txt', 'r')\n",
    "\n",
    "line1 = f.readline()\n",
    "line2 = f.readline()\n",
    "line3 = f.readline()\n",
    "\n",
    "f.close()\n",
    "\n",
    "print(line1, end=\"\")\n",
    "print(line1, end=\"\")\n"
   ]
  },
  {
   "cell_type": "markdown",
   "metadata": {},
   "source": [
    "##### readlines()\n",
    "- 파일의 모든 줄을 읽어서 각각의 줄을 요소로 갖는 '리스트' 반환"
   ]
  },
  {
   "cell_type": "code",
   "execution_count": 18,
   "metadata": {},
   "outputs": [
    {
     "name": "stdout",
     "output_type": "stream",
     "text": [
      "['This is my test file.\\n', 'This is a second line.\\n']\n"
     ]
    }
   ],
   "source": [
    "f = open(\"./test.txt\", \"r\")\n",
    "lines = f.readlines()\n",
    "f.close()\n",
    "\n",
    "print(lines)"
   ]
  },
  {
   "cell_type": "code",
   "execution_count": 19,
   "metadata": {},
   "outputs": [
    {
     "name": "stdout",
     "output_type": "stream",
     "text": [
      "['This is my test file.', 'This is a second line.']\n"
     ]
    }
   ],
   "source": [
    "f = open(\"./test.txt\", \"r\")\n",
    "lines = f.readlines()\n",
    "f.close()\n",
    "\n",
    "for x in range(len(lines)):\n",
    "    lines[x] = lines[x].strip()\n",
    "     \n",
    "\n",
    "print(lines)"
   ]
  },
  {
   "cell_type": "markdown",
   "metadata": {},
   "source": [
    "---"
   ]
  },
  {
   "cell_type": "markdown",
   "metadata": {},
   "source": [
    "### with 문\n",
    "- 파일을 열고 닫는 것을 자동으로 처리\n",
    "- with 블록을 벗어나는 순간, 열린 파일 객체 f가 자동으로 close 되어 편리함"
   ]
  },
  {
   "cell_type": "markdown",
   "metadata": {},
   "source": [
    "##### 파일 쓰기"
   ]
  },
  {
   "cell_type": "code",
   "execution_count": 20,
   "metadata": {},
   "outputs": [],
   "source": [
    "# 파일 쓰기\n",
    "with open(\"./test_with.txt\", \"w\") as f:\n",
    "    f.write('read/write test line 1 : line1\\n')\n",
    "    f.write('read/write test line 2 : line2\\n')\n",
    "    f.write('read/write test line 3 : line3\\n')"
   ]
  },
  {
   "cell_type": "markdown",
   "metadata": {},
   "source": [
    "##### 파일 읽기"
   ]
  },
  {
   "cell_type": "code",
   "execution_count": 21,
   "metadata": {},
   "outputs": [
    {
     "name": "stdout",
     "output_type": "stream",
     "text": [
      "read/write test line 1 : line1\n",
      "read/write test line 2 : line2\n",
      "read/write test line 3 : line3\n",
      "\n"
     ]
    }
   ],
   "source": [
    "# 파일 읽기\n",
    "with open(\"./test_with.txt\", 'r') as f:\n",
    "    data = f.read()\n",
    "\n",
    "print(data)\n",
    "# print(data, end=\"\")"
   ]
  },
  {
   "cell_type": "code",
   "execution_count": 22,
   "metadata": {},
   "outputs": [
    {
     "name": "stdout",
     "output_type": "stream",
     "text": [
      "read/write test line 1 : line1\n",
      "read/write test line 2 : line2\n",
      "read/write test line 3 : line3\n"
     ]
    }
   ],
   "source": [
    "with open(\"./test_with.txt\", \"r\") as f:\n",
    "    \n",
    "    # f: readlines()\n",
    "    for x in f:\n",
    "        # x: read/write test line 1 : line1\\n\n",
    "        print(x.strip())"
   ]
  }
 ],
 "metadata": {
  "interpreter": {
   "hash": "1ef078467dd63487d90c66fda3d945ae0cf08fcbb11ad780475c9b39620e3c77"
  },
  "kernelspec": {
   "display_name": "Python 3.9.7 ('base')",
   "language": "python",
   "name": "python3"
  },
  "language_info": {
   "codemirror_mode": {
    "name": "ipython",
    "version": 3
   },
   "file_extension": ".py",
   "mimetype": "text/x-python",
   "name": "python",
   "nbconvert_exporter": "python",
   "pygments_lexer": "ipython3",
   "version": "3.9.7"
  },
  "orig_nbformat": 4
 },
 "nbformat": 4,
 "nbformat_minor": 2
}
