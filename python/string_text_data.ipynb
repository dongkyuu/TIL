{
 "cells": [
  {
   "cell_type": "markdown",
   "metadata": {},
   "source": [
    "## 문자열 다루기"
   ]
  },
  {
   "cell_type": "markdown",
   "metadata": {},
   "source": [
    "#### 1. 문자열 분리하기 (split)"
   ]
  },
  {
   "cell_type": "code",
   "execution_count": 1,
   "metadata": {},
   "outputs": [],
   "source": [
    "str1 = \"aa bb cc\"\n",
    "str2 = \"aa bb cc\\n\"\n",
    "str3 = \"a,      b, c\""
   ]
  },
  {
   "cell_type": "code",
   "execution_count": 2,
   "metadata": {},
   "outputs": [
    {
     "name": "stdout",
     "output_type": "stream",
     "text": [
      "['aa', 'bb', 'cc']\n",
      "['aa', 'bb', 'cc\\n']\n",
      "['aa', 'bb', 'cc']\n",
      "['a,', 'b,', 'c']\n",
      "['a,', '', '', '', '', '', 'b,', 'c']\n",
      "['a', '      b', ' c']\n"
     ]
    }
   ],
   "source": [
    "print(str1.split())\n",
    "\n",
    "print(str2.split(\" \"))\n",
    "print(str2.split())\n",
    "\n",
    "print(str3.split())\n",
    "print(str3.split(\" \"))\n",
    "print(str3.split(\",\"))"
   ]
  },
  {
   "cell_type": "code",
   "execution_count": 3,
   "metadata": {},
   "outputs": [
    {
     "data": {
      "text/plain": [
       "['a', 'b', 'c d e']"
      ]
     },
     "execution_count": 3,
     "metadata": {},
     "output_type": "execute_result"
    }
   ],
   "source": [
    "# maxsplit\n",
    "\n",
    "str4 = \"a b c d e\"\n",
    "str4.split(\" \", maxsplit=2)"
   ]
  },
  {
   "cell_type": "markdown",
   "metadata": {},
   "source": [
    "---"
   ]
  },
  {
   "cell_type": "markdown",
   "metadata": {},
   "source": [
    "#### 2. 필요없는 문자열 삭제\n",
    "\n",
    "* strip() : 양쪽 문자열 삭제\n",
    "* lstrip() : 왼쪽 문자열 삭제\n",
    "* rstrip() : 오른쪽 문자열 삭제"
   ]
  },
  {
   "cell_type": "markdown",
   "metadata": {},
   "source": [
    "##### strip()"
   ]
  },
  {
   "cell_type": "code",
   "execution_count": 4,
   "metadata": {},
   "outputs": [],
   "source": [
    "python = \"\\n Python \\n \""
   ]
  },
  {
   "cell_type": "code",
   "execution_count": 5,
   "metadata": {},
   "outputs": [
    {
     "data": {
      "text/plain": [
       "'Python'"
      ]
     },
     "execution_count": 5,
     "metadata": {},
     "output_type": "execute_result"
    }
   ],
   "source": [
    "python.strip()"
   ]
  },
  {
   "cell_type": "code",
   "execution_count": 6,
   "metadata": {},
   "outputs": [
    {
     "data": {
      "text/plain": [
       "'\\n Python \\n'"
      ]
     },
     "execution_count": 6,
     "metadata": {},
     "output_type": "execute_result"
    }
   ],
   "source": [
    "python.strip(\" \")"
   ]
  },
  {
   "cell_type": "code",
   "execution_count": 7,
   "metadata": {},
   "outputs": [
    {
     "data": {
      "text/plain": [
       "' Python \\n '"
      ]
     },
     "execution_count": 7,
     "metadata": {},
     "output_type": "execute_result"
    }
   ],
   "source": [
    "python.strip(\"\\n\")"
   ]
  },
  {
   "cell_type": "code",
   "execution_count": 8,
   "metadata": {},
   "outputs": [
    {
     "data": {
      "text/plain": [
       "'Python'"
      ]
     },
     "execution_count": 8,
     "metadata": {},
     "output_type": "execute_result"
    }
   ],
   "source": [
    "python.strip(\" \\n\")"
   ]
  },
  {
   "cell_type": "code",
   "execution_count": 9,
   "metadata": {},
   "outputs": [
    {
     "data": {
      "text/plain": [
       "'Python'"
      ]
     },
     "execution_count": 9,
     "metadata": {},
     "output_type": "execute_result"
    }
   ],
   "source": [
    "python.strip(\"\\n \")"
   ]
  },
  {
   "cell_type": "code",
   "execution_count": 10,
   "metadata": {},
   "outputs": [
    {
     "data": {
      "text/plain": [
       "'Ball'"
      ]
     },
     "execution_count": 10,
     "metadata": {},
     "output_type": "execute_result"
    }
   ],
   "source": [
    "\"aaaBallaaa\".strip('a')"
   ]
  },
  {
   "cell_type": "code",
   "execution_count": 11,
   "metadata": {},
   "outputs": [
    {
     "data": {
      "text/plain": [
       "'This is python'"
      ]
     },
     "execution_count": 11,
     "metadata": {},
     "output_type": "execute_result"
    }
   ],
   "source": [
    "\" \\n This is python \\n \".strip()"
   ]
  },
  {
   "cell_type": "markdown",
   "metadata": {},
   "source": [
    "##### lstrip(), rstrip()"
   ]
  },
  {
   "cell_type": "code",
   "execution_count": 12,
   "metadata": {},
   "outputs": [],
   "source": [
    "tmp = \"!!!!This is python!!!!\""
   ]
  },
  {
   "cell_type": "code",
   "execution_count": 13,
   "metadata": {},
   "outputs": [
    {
     "name": "stdout",
     "output_type": "stream",
     "text": [
      "This is python\n",
      "This is python!!!!\n",
      "!!!!This is python\n"
     ]
    }
   ],
   "source": [
    "print(tmp.strip(\"!\"))\n",
    "\n",
    "print(tmp.lstrip(\"!\"))\n",
    "print(tmp.rstrip(\"!\"))"
   ]
  },
  {
   "cell_type": "code",
   "execution_count": 14,
   "metadata": {},
   "outputs": [],
   "source": [
    "fruit = \" apple, banana,  grape  ,  watermelon  \""
   ]
  },
  {
   "cell_type": "code",
   "execution_count": 15,
   "metadata": {},
   "outputs": [
    {
     "data": {
      "text/plain": [
       "[' apple', ' banana', '  grape  ', '  watermelon  ']"
      ]
     },
     "execution_count": 15,
     "metadata": {},
     "output_type": "execute_result"
    }
   ],
   "source": [
    "fruit.split(\",\")"
   ]
  },
  {
   "cell_type": "code",
   "execution_count": 16,
   "metadata": {},
   "outputs": [
    {
     "data": {
      "text/plain": [
       "['apple', 'banana', 'grape', 'watermelon']"
      ]
     },
     "execution_count": 16,
     "metadata": {},
     "output_type": "execute_result"
    }
   ],
   "source": [
    "[x.strip() for x in fruit.split(\",\")]"
   ]
  },
  {
   "cell_type": "markdown",
   "metadata": {},
   "source": [
    "---"
   ]
  },
  {
   "cell_type": "markdown",
   "metadata": {},
   "source": [
    "#### 3. 문자열 연결하기"
   ]
  },
  {
   "cell_type": "code",
   "execution_count": 17,
   "metadata": {},
   "outputs": [],
   "source": [
    "list1 = ['This', 'is', 'python']"
   ]
  },
  {
   "cell_type": "code",
   "execution_count": 18,
   "metadata": {},
   "outputs": [
    {
     "data": {
      "text/plain": [
       "'This is python'"
      ]
     },
     "execution_count": 18,
     "metadata": {},
     "output_type": "execute_result"
    }
   ],
   "source": [
    "\" \".join(list1)"
   ]
  },
  {
   "cell_type": "code",
   "execution_count": 19,
   "metadata": {},
   "outputs": [
    {
     "data": {
      "text/plain": [
       "'Thisispython'"
      ]
     },
     "execution_count": 19,
     "metadata": {},
     "output_type": "execute_result"
    }
   ],
   "source": [
    "\"\".join(list1)"
   ]
  },
  {
   "cell_type": "code",
   "execution_count": 20,
   "metadata": {},
   "outputs": [
    {
     "data": {
      "text/plain": [
       "'This *^-^* is *^-^* python'"
      ]
     },
     "execution_count": 20,
     "metadata": {},
     "output_type": "execute_result"
    }
   ],
   "source": [
    "\" *^-^* \".join(list1)"
   ]
  },
  {
   "cell_type": "markdown",
   "metadata": {},
   "source": [
    "---"
   ]
  },
  {
   "cell_type": "markdown",
   "metadata": {},
   "source": [
    "#### 4. 문자열 찾기"
   ]
  },
  {
   "cell_type": "markdown",
   "metadata": {},
   "source": [
    "* find(str, start, end)\n",
    "    * 검색범위 : start ~ end - 1"
   ]
  },
  {
   "cell_type": "code",
   "execution_count": 21,
   "metadata": {},
   "outputs": [],
   "source": [
    "tmp = \"Python is powerful. Python is easy to learn. Python is open.\""
   ]
  },
  {
   "cell_type": "code",
   "execution_count": 22,
   "metadata": {},
   "outputs": [
    {
     "name": "stdout",
     "output_type": "stream",
     "text": [
      "0\n",
      "-1\n",
      "30\n",
      "-1\n"
     ]
    }
   ],
   "source": [
    "print( tmp.find(\"Python\") )\n",
    "print( tmp.find(\"python\"))\n",
    "\n",
    "print( tmp.find(\"easy\"))\n",
    "print( tmp.find(\"easy  \"))"
   ]
  },
  {
   "cell_type": "code",
   "execution_count": 23,
   "metadata": {},
   "outputs": [
    {
     "data": {
      "text/plain": [
       "20"
      ]
     },
     "execution_count": 23,
     "metadata": {},
     "output_type": "execute_result"
    }
   ],
   "source": [
    "tmp.find(\"Python\", 10, 30)"
   ]
  },
  {
   "cell_type": "markdown",
   "metadata": {},
   "source": [
    "* count(str, start, end)"
   ]
  },
  {
   "cell_type": "code",
   "execution_count": 24,
   "metadata": {},
   "outputs": [
    {
     "name": "stdout",
     "output_type": "stream",
     "text": [
      "3\n",
      "0\n"
     ]
    }
   ],
   "source": [
    "print(tmp.count('Python'))\n",
    "print(tmp.count(\"python\"))"
   ]
  },
  {
   "cell_type": "code",
   "execution_count": 25,
   "metadata": {},
   "outputs": [
    {
     "data": {
      "text/plain": [
       "1"
      ]
     },
     "execution_count": 25,
     "metadata": {},
     "output_type": "execute_result"
    }
   ],
   "source": [
    "tmp.count(\"Python\", 10, 30)"
   ]
  },
  {
   "cell_type": "markdown",
   "metadata": {},
   "source": [
    "* stratswith(prefix, start, end)\n",
    "* endswith(suffix, start, end)"
   ]
  },
  {
   "cell_type": "code",
   "execution_count": 26,
   "metadata": {},
   "outputs": [
    {
     "name": "stdout",
     "output_type": "stream",
     "text": [
      "True\n",
      "False\n",
      "True\n",
      "True\n"
     ]
    }
   ],
   "source": [
    "print(tmp.startswith(\"Pyth\"))\n",
    "print(tmp.startswith(\"Python\", 10, 30))\n",
    "\n",
    "print(tmp.endswith(\"open.\"))\n",
    "print(tmp.endswith(\"n.\", 10, 60))"
   ]
  },
  {
   "cell_type": "markdown",
   "metadata": {},
   "source": [
    "---"
   ]
  },
  {
   "cell_type": "markdown",
   "metadata": {},
   "source": [
    "#### 5. 문자열 바꾸기\n",
    "\n",
    "* replace(old, new, count)\n",
    "* old를 new로 count번 바꾸기"
   ]
  },
  {
   "cell_type": "code",
   "execution_count": 27,
   "metadata": {},
   "outputs": [],
   "source": [
    "tmp = \"Python is fast. Python is friendly. Python is open\""
   ]
  },
  {
   "cell_type": "code",
   "execution_count": 28,
   "metadata": {},
   "outputs": [
    {
     "name": "stdout",
     "output_type": "stream",
     "text": [
      "Java is fast. Java is friendly. Java is open\n",
      "Java is fast. Java is friendly. Python is open\n"
     ]
    }
   ],
   "source": [
    "print( tmp.replace('Python', 'Java') )\n",
    "print( tmp.replace('Python', 'Java', 2) )"
   ]
  },
  {
   "cell_type": "code",
   "execution_count": 29,
   "metadata": {},
   "outputs": [
    {
     "data": {
      "text/plain": [
       "'Python is fast'"
      ]
     },
     "execution_count": 29,
     "metadata": {},
     "output_type": "execute_result"
    }
   ],
   "source": [
    "# 삭제 가능\n",
    "tmp_a = \"[Python] [is] [fast]\"\n",
    "\n",
    "tmp_a.replace('[', '').replace(']', '')"
   ]
  },
  {
   "cell_type": "markdown",
   "metadata": {},
   "source": [
    "---"
   ]
  },
  {
   "cell_type": "markdown",
   "metadata": {},
   "source": [
    "#### 6. 문자열 구성 확인하기"
   ]
  },
  {
   "cell_type": "markdown",
   "metadata": {},
   "source": [
    "* isalpha()\n",
    "    * True : 문자열이 숫자, 특수 문자, 공백이 아닌 문자로만 구성되어 있을 때\n",
    "    * False : 그 외 경우"
   ]
  },
  {
   "cell_type": "markdown",
   "metadata": {},
   "source": [
    "* isdigit()\n",
    "    * True : 문자열이 모두 숫자로 구성되어 있을 때\n",
    "    * False : 그 외 경우"
   ]
  },
  {
   "cell_type": "markdown",
   "metadata": {},
   "source": [
    "* isalnum()\n",
    "    * True : 문자열이 특수 문자, 공백이 아닌 문자와 숫자로만 구성되어 있을 때\n",
    "    * False : 그 외 경우"
   ]
  },
  {
   "cell_type": "markdown",
   "metadata": {},
   "source": [
    "* isspace()\n",
    "    * True : 문자열이 모두 공백 문자로 구성되어 있을 때\n",
    "    * False : 그 외 경우"
   ]
  },
  {
   "cell_type": "markdown",
   "metadata": {},
   "source": [
    "* isupper()\n",
    "    * True : 문자열이 모두 로마자 대문자로 구성되어 있을 때\n",
    "    * False : 그 외 경우"
   ]
  },
  {
   "cell_type": "markdown",
   "metadata": {},
   "source": [
    "* islower()\n",
    "    * True : 문자열이 모두 로마자 소문자로 구성되어 있을 때\n",
    "    * False : 그 외 경우"
   ]
  },
  {
   "cell_type": "code",
   "execution_count": 30,
   "metadata": {},
   "outputs": [
    {
     "name": "stdout",
     "output_type": "stream",
     "text": [
      "True\n",
      "False\n"
     ]
    }
   ],
   "source": [
    "# isalpha()\n",
    "print('Python'.isalpha())\n",
    "print('Python_!'.isalpha())"
   ]
  },
  {
   "cell_type": "code",
   "execution_count": 31,
   "metadata": {},
   "outputs": [
    {
     "name": "stdout",
     "output_type": "stream",
     "text": [
      "True\n",
      "False\n"
     ]
    }
   ],
   "source": [
    "# isdigit()\n",
    "print('100'.isdigit())\n",
    "print('100,000'.isdigit())"
   ]
  },
  {
   "cell_type": "code",
   "execution_count": 32,
   "metadata": {},
   "outputs": [
    {
     "name": "stdout",
     "output_type": "stream",
     "text": [
      "True\n",
      "False\n",
      "False\n"
     ]
    }
   ],
   "source": [
    "# isalnum()\n",
    "print('Python3'.isalnum())\n",
    "print('Python 3'.isalnum())\n",
    "print('Python!'.isalnum())"
   ]
  },
  {
   "cell_type": "code",
   "execution_count": 33,
   "metadata": {},
   "outputs": [
    {
     "name": "stdout",
     "output_type": "stream",
     "text": [
      "True\n",
      "False\n"
     ]
    }
   ],
   "source": [
    "# isspace()\n",
    "print(' '.isspace())\n",
    "print('  Python  '.isspace())"
   ]
  },
  {
   "cell_type": "code",
   "execution_count": 34,
   "metadata": {},
   "outputs": [
    {
     "name": "stdout",
     "output_type": "stream",
     "text": [
      "True\n",
      "True\n"
     ]
    }
   ],
   "source": [
    "# isupper()\n",
    "print('PYTHON'.isupper())\n",
    "print('PYTHON @!'.isupper())"
   ]
  },
  {
   "cell_type": "code",
   "execution_count": 35,
   "metadata": {},
   "outputs": [
    {
     "name": "stdout",
     "output_type": "stream",
     "text": [
      "True\n",
      "False\n"
     ]
    }
   ],
   "source": [
    "# islower()\n",
    "print('python @!'.islower())\n",
    "print('Python'.islower())"
   ]
  },
  {
   "cell_type": "markdown",
   "metadata": {},
   "source": [
    "---"
   ]
  },
  {
   "cell_type": "markdown",
   "metadata": {},
   "source": [
    "#### 7. 대소문자로 변경하기\n",
    "\n",
    "* upper() : 대문자로 변경\n",
    "* lower() : 소문자로 변경"
   ]
  },
  {
   "cell_type": "code",
   "execution_count": 36,
   "metadata": {},
   "outputs": [],
   "source": [
    "tmp = 'Python is fast. PYTHON IS FAST'"
   ]
  },
  {
   "cell_type": "code",
   "execution_count": 37,
   "metadata": {},
   "outputs": [
    {
     "name": "stdout",
     "output_type": "stream",
     "text": [
      "PYTHON IS FAST. PYTHON IS FAST\n",
      "python is fast. python is fast\n"
     ]
    }
   ],
   "source": [
    "print( tmp.upper() )\n",
    "print( tmp.lower() )"
   ]
  },
  {
   "cell_type": "markdown",
   "metadata": {},
   "source": [
    "---"
   ]
  },
  {
   "cell_type": "markdown",
   "metadata": {},
   "source": [
    "## 텍스트 파일 데이터 다루기"
   ]
  },
  {
   "cell_type": "markdown",
   "metadata": {},
   "source": [
    "#### 데이터 파일 준비 및 읽기\n",
    "\n",
    "* 데이터 : 어느 커피 전문점에서 나흘 동안 기록한 메뉴별 커피 판매량\n",
    "* 원하는 작업 : 나흘 동안 메뉴당 전체 판매량과 하루 평균 판매량 구하기"
   ]
  },
  {
   "cell_type": "code",
   "execution_count": 38,
   "metadata": {},
   "outputs": [
    {
     "name": "stdout",
     "output_type": "stream",
     "text": [
      "날짜 에스프레소 아메리카노 카페라떼 카푸치노\n",
      "05.25 10 50 45 20\n",
      "05.26 12 45 41 18\n",
      "05.27 11 53 32 25\n",
      "05.28 15 49 38 22"
     ]
    }
   ],
   "source": [
    "f = open('./coffeeShopSales.txt')\n",
    "\n",
    "for line in f:\n",
    "    print(line, end=\"\")\n",
    "    \n",
    "f.close()"
   ]
  },
  {
   "cell_type": "code",
   "execution_count": 39,
   "metadata": {},
   "outputs": [
    {
     "data": {
      "text/plain": [
       "'날짜 에스프레소 아메리카노 카페라떼 카푸치노\\n'"
      ]
     },
     "execution_count": 39,
     "metadata": {},
     "output_type": "execute_result"
    }
   ],
   "source": [
    "f = open('./coffeeShopSales.txt')\n",
    "header = f.readline()\n",
    "f.close()\n",
    "\n",
    "header"
   ]
  },
  {
   "cell_type": "code",
   "execution_count": 40,
   "metadata": {},
   "outputs": [
    {
     "data": {
      "text/plain": [
       "['날짜', '에스프레소', '아메리카노', '카페라떼', '카푸치노']"
      ]
     },
     "execution_count": 40,
     "metadata": {},
     "output_type": "execute_result"
    }
   ],
   "source": [
    "header_list = header.split()\n",
    "header_list"
   ]
  },
  {
   "cell_type": "code",
   "execution_count": 41,
   "metadata": {},
   "outputs": [
    {
     "name": "stdout",
     "output_type": "stream",
     "text": [
      "['날짜', '에스프레소', '아메리카노', '카페라떼', '카푸치노']\n",
      "['05.25', '10', '50', '45', '20']\n",
      "['05.26', '12', '45', '41', '18']\n",
      "['05.27', '11', '53', '32', '25']\n",
      "['05.28', '15', '49', '38', '22']\n"
     ]
    }
   ],
   "source": [
    "f = open('./coffeeShopSales.txt')   # 파일 열기\n",
    "\n",
    "header = f.readline()           # 데이터의 첫 번쨰 줄을 읽음\n",
    "header_list = header.split()    # 첫 줄의 문자열을 분리한 후 리스트로 변환\n",
    "print(header_list)\n",
    "\n",
    "for line in f:                  # 두 번째 줄부터 데이터를 읽어서 반복적으로 처리\n",
    "    data_list = line.split()    # 문자열을 분리해서 리스트로 변환\n",
    "    print(data_list)            # 결과 확인\n",
    "\n",
    "f.close()"
   ]
  },
  {
   "cell_type": "code",
   "execution_count": 42,
   "metadata": {},
   "outputs": [
    {
     "name": "stdout",
     "output_type": "stream",
     "text": [
      "에스프레소 : [10, 12, 11, 15]\n",
      "아메리카노 : [50, 45, 53, 49]\n",
      "카페라떼 : [45, 41, 32, 38]\n",
      "카푸치노 : [20, 18, 25, 22]\n"
     ]
    }
   ],
   "source": [
    "# 커피 종류별로 정수로 변환한 후, 리스트의 항목으로 추가\n",
    "\n",
    "f = open(\"./coffeeShopSales.txt\")\n",
    "\n",
    "header = f.readline()\n",
    "header_list = header.split()\n",
    "\n",
    "espresso = []\n",
    "americano = []\n",
    "cafelatte = []\n",
    "cappucino = []\n",
    "\n",
    "for line in f:\n",
    "    data_list = line.split()\n",
    "    espresso.append(int(data_list[1]))\n",
    "    americano.append(int(data_list[2]))\n",
    "    cafelatte.append(int(data_list[3]))\n",
    "    cappucino.append(int(data_list[4]))\n",
    "\n",
    "f.close()\n",
    "\n",
    "print('{} : {}'.format(header_list[1], espresso))\n",
    "print('{} : {}'.format(header_list[2], americano))\n",
    "print('{} : {}'.format(header_list[3], cafelatte))\n",
    "print('{} : {}'.format(header_list[4], cappucino))\n"
   ]
  },
  {
   "cell_type": "code",
   "execution_count": 43,
   "metadata": {},
   "outputs": [
    {
     "name": "stdout",
     "output_type": "stream",
     "text": [
      "[에스프레소] 판매량\n",
      "- 나흘 전체: 48, 하루 평균: 12.0\n",
      "\n",
      "[아메리카노] 판매량\n",
      "- 나흘 전체: 197, 하루 평균: 49.25\n",
      "\n",
      "[카페라떼] 판매량\n",
      "- 나흘 전체: 156, 하루 평균: 39.0\n",
      "\n",
      "[카푸치노] 판매량\n",
      "- 나흘 전체: 85, 하루 평균: 21.25\n",
      "\n"
     ]
    }
   ],
   "source": [
    "# 나흘간 메뉴별 전체 판매량과, 하루 평균 판매량 구하기\n",
    "total_sum = [sum(espresso), sum(americano), sum(cafelatte), sum(cappucino)]\n",
    "total_mean = [sum(espresso) / len(espresso), sum(americano) / len(americano), sum(cafelatte) / len(cafelatte), sum(cappucino) / len(cappucino)]\n",
    "\n",
    "for x in range(4):\n",
    "    print('[{}] 판매량'.format(header_list[x+1]))\n",
    "    print('- 나흘 전체: {}, 하루 평균: {}\\n'.format(total_sum[x], total_mean[x]))"
   ]
  }
 ],
 "metadata": {
  "interpreter": {
   "hash": "1ef078467dd63487d90c66fda3d945ae0cf08fcbb11ad780475c9b39620e3c77"
  },
  "kernelspec": {
   "display_name": "Python 3.9.7 ('base')",
   "language": "python",
   "name": "python3"
  },
  "language_info": {
   "codemirror_mode": {
    "name": "ipython",
    "version": 3
   },
   "file_extension": ".py",
   "mimetype": "text/x-python",
   "name": "python",
   "nbconvert_exporter": "python",
   "pygments_lexer": "ipython3",
   "version": "3.9.7"
  },
  "orig_nbformat": 4
 },
 "nbformat": 4,
 "nbformat_minor": 2
}
