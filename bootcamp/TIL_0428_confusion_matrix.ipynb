{
 "cells": [
  {
   "cell_type": "markdown",
   "metadata": {},
   "source": [
    "## 오차행렬"
   ]
  },
  {
   "cell_type": "markdown",
   "metadata": {},
   "source": [
    "![confusion_matrix](./confusion_matrix.JPG)"
   ]
  },
  {
   "cell_type": "markdown",
   "metadata": {},
   "source": [
    "* TN : 예측값을 Negative 값 0으로 예측했고, 실제 값 역시 Negative 값 0\n",
    "* FP : 예측값을 Positive 값 1로 예측했는데, 실제 값은 Negative 값 0\n",
    "* FN : 예측값을 Negative 값 0으로 예측했는데, 실제 값은 Positive 값 1\n",
    "* TP : 예측값을 Positive 값 1로 예측했는데, 실제 값 역시 Positive 값 1"
   ]
  },
  {
   "cell_type": "markdown",
   "metadata": {},
   "source": [
    "### 정확도 (Accuracy)\n",
    "* 예측 결과와 실제 값이 동일한 건수 / 전체 데이터 수\n",
    "* accuracy : (TN + TP) / (TN + FP + FN+TP)"
   ]
  },
  {
   "cell_type": "markdown",
   "metadata": {},
   "source": [
    "### 정밀도 (Precision) = TP / (FP + TP)\n",
    "* 예측을 Positive로 한 대상 중에 예측과 실제 값이 Positive로 일치한 데이터의 비율 \n",
    "* 공식의 분모인 FP + TP는 예측을 Positive로 한 모든 데이터 건수이며, 분자 TP는 예측과 실제 값이 Positive로 일치한 건수\n",
    "* Positive 예측 성능을 더욱 정밀하게 측정하기 위한 평가 지표로 양성 예측도라고 함"
   ]
  },
  {
   "cell_type": "markdown",
   "metadata": {},
   "source": [
    "\n",
    "### 재현율 (Recall) = TP / (FN + TP)\n",
    "* 실제 값이 Positive인 대상 중에 예측과 실제 값이 Positive로 일치한 데이터의 비율\n",
    "* 분모는 실제 값이 Positive인 모든 데이터 건수이며, 분자 TP는 예측과 실제 값이 Positive로 일치한 데이터 건수 \n",
    "* 민감도(Sensitivity) 또는 TPR(True Positive Rate)라고 부른다"
   ]
  },
  {
   "cell_type": "markdown",
   "metadata": {},
   "source": [
    "## 정밀도/재현율 트레이드 오프 Trade-off)"
   ]
  },
  {
   "cell_type": "markdown",
   "metadata": {},
   "source": [
    "* 분류하려는 업무의 특성상 정밀도 또는 재현율이 특별히 강조해야 할 경우, 분류의 결정 임계값(Threshold)을 조정해 정밀도 또는 재현율의 수치를 높일 수 있다.\n",
    "* 하지만 정밀도와 재현율은 상호 보완적인 평가 지표이기 때문에 어느 한쪽을 강제로 높이면 다른 하나의 수치가 떨어지기 쉽다 "
   ]
  },
  {
   "cell_type": "markdown",
   "metadata": {},
   "source": [
    "---"
   ]
  },
  {
   "cell_type": "code",
   "execution_count": 1,
   "metadata": {},
   "outputs": [],
   "source": [
    "import pandas as pd\n",
    "from sklearn.preprocessing import LabelEncoder\n",
    "from sklearn.model_selection import train_test_split"
   ]
  },
  {
   "cell_type": "code",
   "execution_count": 2,
   "metadata": {},
   "outputs": [],
   "source": [
    "df = pd.read_csv(\"./data/wisc_bc.csv\")"
   ]
  },
  {
   "cell_type": "code",
   "execution_count": 3,
   "metadata": {},
   "outputs": [
    {
     "data": {
      "text/plain": [
       "B    357\n",
       "M    212\n",
       "Name: diagnosis, dtype: int64"
      ]
     },
     "execution_count": 3,
     "metadata": {},
     "output_type": "execute_result"
    }
   ],
   "source": [
    "# M : 양성, B : 음성 \n",
    "df['diagnosis'].value_counts()"
   ]
  },
  {
   "cell_type": "code",
   "execution_count": 4,
   "metadata": {},
   "outputs": [
    {
     "data": {
      "text/html": [
       "<div>\n",
       "<style scoped>\n",
       "    .dataframe tbody tr th:only-of-type {\n",
       "        vertical-align: middle;\n",
       "    }\n",
       "\n",
       "    .dataframe tbody tr th {\n",
       "        vertical-align: top;\n",
       "    }\n",
       "\n",
       "    .dataframe thead th {\n",
       "        text-align: right;\n",
       "    }\n",
       "</style>\n",
       "<table border=\"1\" class=\"dataframe\">\n",
       "  <thead>\n",
       "    <tr style=\"text-align: right;\">\n",
       "      <th></th>\n",
       "      <th>radius_mean</th>\n",
       "      <th>texture_mean</th>\n",
       "      <th>perimeter_mean</th>\n",
       "      <th>area_mean</th>\n",
       "      <th>smoothness_mean</th>\n",
       "      <th>compactness_mean</th>\n",
       "      <th>concavity_mean</th>\n",
       "      <th>points_mean</th>\n",
       "      <th>symmetry_mean</th>\n",
       "      <th>dimension_mean</th>\n",
       "      <th>...</th>\n",
       "      <th>radius_worst</th>\n",
       "      <th>texture_worst</th>\n",
       "      <th>perimeter_worst</th>\n",
       "      <th>area_worst</th>\n",
       "      <th>smoothness_worst</th>\n",
       "      <th>compactness_worst</th>\n",
       "      <th>concavity_worst</th>\n",
       "      <th>points_worst</th>\n",
       "      <th>symmetry_worst</th>\n",
       "      <th>dimension_worst</th>\n",
       "    </tr>\n",
       "  </thead>\n",
       "  <tbody>\n",
       "    <tr>\n",
       "      <th>0</th>\n",
       "      <td>12.32</td>\n",
       "      <td>12.39</td>\n",
       "      <td>78.85</td>\n",
       "      <td>464.1</td>\n",
       "      <td>0.10280</td>\n",
       "      <td>0.06981</td>\n",
       "      <td>0.03987</td>\n",
       "      <td>0.03700</td>\n",
       "      <td>0.1959</td>\n",
       "      <td>0.05955</td>\n",
       "      <td>...</td>\n",
       "      <td>13.50</td>\n",
       "      <td>15.64</td>\n",
       "      <td>86.97</td>\n",
       "      <td>549.1</td>\n",
       "      <td>0.1385</td>\n",
       "      <td>0.1266</td>\n",
       "      <td>0.1242</td>\n",
       "      <td>0.09391</td>\n",
       "      <td>0.2827</td>\n",
       "      <td>0.06771</td>\n",
       "    </tr>\n",
       "    <tr>\n",
       "      <th>1</th>\n",
       "      <td>10.60</td>\n",
       "      <td>18.95</td>\n",
       "      <td>69.28</td>\n",
       "      <td>346.4</td>\n",
       "      <td>0.09688</td>\n",
       "      <td>0.11470</td>\n",
       "      <td>0.06387</td>\n",
       "      <td>0.02642</td>\n",
       "      <td>0.1922</td>\n",
       "      <td>0.06491</td>\n",
       "      <td>...</td>\n",
       "      <td>11.88</td>\n",
       "      <td>22.94</td>\n",
       "      <td>78.28</td>\n",
       "      <td>424.8</td>\n",
       "      <td>0.1213</td>\n",
       "      <td>0.2515</td>\n",
       "      <td>0.1916</td>\n",
       "      <td>0.07926</td>\n",
       "      <td>0.2940</td>\n",
       "      <td>0.07587</td>\n",
       "    </tr>\n",
       "    <tr>\n",
       "      <th>2</th>\n",
       "      <td>11.04</td>\n",
       "      <td>16.83</td>\n",
       "      <td>70.92</td>\n",
       "      <td>373.2</td>\n",
       "      <td>0.10770</td>\n",
       "      <td>0.07804</td>\n",
       "      <td>0.03046</td>\n",
       "      <td>0.02480</td>\n",
       "      <td>0.1714</td>\n",
       "      <td>0.06340</td>\n",
       "      <td>...</td>\n",
       "      <td>12.41</td>\n",
       "      <td>26.44</td>\n",
       "      <td>79.93</td>\n",
       "      <td>471.4</td>\n",
       "      <td>0.1369</td>\n",
       "      <td>0.1482</td>\n",
       "      <td>0.1067</td>\n",
       "      <td>0.07431</td>\n",
       "      <td>0.2998</td>\n",
       "      <td>0.07881</td>\n",
       "    </tr>\n",
       "  </tbody>\n",
       "</table>\n",
       "<p>3 rows × 30 columns</p>\n",
       "</div>"
      ],
      "text/plain": [
       "   radius_mean  texture_mean  perimeter_mean  area_mean  smoothness_mean  \\\n",
       "0        12.32         12.39           78.85      464.1          0.10280   \n",
       "1        10.60         18.95           69.28      346.4          0.09688   \n",
       "2        11.04         16.83           70.92      373.2          0.10770   \n",
       "\n",
       "   compactness_mean  concavity_mean  points_mean  symmetry_mean  \\\n",
       "0           0.06981         0.03987      0.03700         0.1959   \n",
       "1           0.11470         0.06387      0.02642         0.1922   \n",
       "2           0.07804         0.03046      0.02480         0.1714   \n",
       "\n",
       "   dimension_mean  ...  radius_worst  texture_worst  perimeter_worst  \\\n",
       "0         0.05955  ...         13.50          15.64            86.97   \n",
       "1         0.06491  ...         11.88          22.94            78.28   \n",
       "2         0.06340  ...         12.41          26.44            79.93   \n",
       "\n",
       "   area_worst  smoothness_worst  compactness_worst  concavity_worst  \\\n",
       "0       549.1            0.1385             0.1266           0.1242   \n",
       "1       424.8            0.1213             0.2515           0.1916   \n",
       "2       471.4            0.1369             0.1482           0.1067   \n",
       "\n",
       "   points_worst  symmetry_worst  dimension_worst  \n",
       "0       0.09391          0.2827          0.06771  \n",
       "1       0.07926          0.2940          0.07587  \n",
       "2       0.07431          0.2998          0.07881  \n",
       "\n",
       "[3 rows x 30 columns]"
      ]
     },
     "execution_count": 4,
     "metadata": {},
     "output_type": "execute_result"
    }
   ],
   "source": [
    "X_data = df.drop(['id', 'diagnosis'], axis=1)\n",
    "X_data.head(3)"
   ]
  },
  {
   "cell_type": "code",
   "execution_count": 5,
   "metadata": {},
   "outputs": [],
   "source": [
    "encoder = LabelEncoder()\n",
    "labels = encoder.fit_transform(df['diagnosis'])"
   ]
  },
  {
   "cell_type": "code",
   "execution_count": 6,
   "metadata": {},
   "outputs": [],
   "source": [
    "train_input, test_input, train_target, test_target = train_test_split(X_data, labels, random_state=42)"
   ]
  },
  {
   "cell_type": "code",
   "execution_count": 7,
   "metadata": {},
   "outputs": [
    {
     "name": "stderr",
     "output_type": "stream",
     "text": [
      "C:\\Users\\LimDongKyu\\anaconda3\\lib\\site-packages\\sklearn\\linear_model\\_logistic.py:763: ConvergenceWarning: lbfgs failed to converge (status=1):\n",
      "STOP: TOTAL NO. of ITERATIONS REACHED LIMIT.\n",
      "\n",
      "Increase the number of iterations (max_iter) or scale the data as shown in:\n",
      "    https://scikit-learn.org/stable/modules/preprocessing.html\n",
      "Please also refer to the documentation for alternative solver options:\n",
      "    https://scikit-learn.org/stable/modules/linear_model.html#logistic-regression\n",
      "  n_iter_i = _check_optimize_result(\n"
     ]
    },
    {
     "data": {
      "text/plain": [
       "LogisticRegression(max_iter=1000)"
      ]
     },
     "execution_count": 7,
     "metadata": {},
     "output_type": "execute_result"
    }
   ],
   "source": [
    "from sklearn.linear_model import LogisticRegression\n",
    "lr = LogisticRegression(max_iter=1000)\n",
    "lr.fit(train_input, train_target)"
   ]
  },
  {
   "cell_type": "code",
   "execution_count": 8,
   "metadata": {},
   "outputs": [
    {
     "name": "stdout",
     "output_type": "stream",
     "text": [
      "0.9577464788732394\n",
      "0.972027972027972\n"
     ]
    }
   ],
   "source": [
    "print (lr.score(train_input, train_target))\n",
    "print (lr.score(test_input, test_target))"
   ]
  },
  {
   "cell_type": "code",
   "execution_count": 9,
   "metadata": {},
   "outputs": [
    {
     "data": {
      "text/plain": [
       "array([[0.99684621, 0.00315379],\n",
       "       [0.68454368, 0.31545632],\n",
       "       [0.90429906, 0.09570094],\n",
       "       [0.00001922, 0.99998078],\n",
       "       [0.00168031, 0.99831969],\n",
       "       [0.99268863, 0.00731137],\n",
       "       [0.00000002, 0.99999998],\n",
       "       [0.99569616, 0.00430384],\n",
       "       [0.99793331, 0.00206669],\n",
       "       [0.        , 1.        ],\n",
       "       [0.        , 1.        ],\n",
       "       [0.00002748, 0.99997252],\n",
       "       [0.        , 1.        ],\n",
       "       [0.        , 1.        ],\n",
       "       [0.00799707, 0.99200293],\n",
       "       [0.78516549, 0.21483451],\n",
       "       [0.0010242 , 0.9989758 ],\n",
       "       [0.99055951, 0.00944049],\n",
       "       [0.99999575, 0.00000425],\n",
       "       [0.99556693, 0.00443307],\n",
       "       [0.13458825, 0.86541175],\n",
       "       [0.97635114, 0.02364886],\n",
       "       [0.00000002, 0.99999998],\n",
       "       [0.00545537, 0.99454463],\n",
       "       [0.00000001, 0.99999999],\n",
       "       [0.00180344, 0.99819656],\n",
       "       [0.996582  , 0.003418  ],\n",
       "       [0.        , 1.        ],\n",
       "       [0.9864862 , 0.0135138 ],\n",
       "       [0.98717373, 0.01282627],\n",
       "       [0.99781675, 0.00218325],\n",
       "       [0.99989684, 0.00010316],\n",
       "       [0.99895175, 0.00104825],\n",
       "       [0.99706768, 0.00293232],\n",
       "       [0.        , 1.        ],\n",
       "       [0.99481922, 0.00518078],\n",
       "       [0.00000005, 0.99999995],\n",
       "       [0.99867114, 0.00132886],\n",
       "       [0.96000474, 0.03999526],\n",
       "       [0.99946359, 0.00053641],\n",
       "       [0.99288509, 0.00711491],\n",
       "       [0.95310724, 0.04689276],\n",
       "       [0.99956826, 0.00043174],\n",
       "       [0.01442279, 0.98557721],\n",
       "       [0.        , 1.        ],\n",
       "       [0.99410027, 0.00589973],\n",
       "       [0.98262382, 0.01737618],\n",
       "       [0.58748818, 0.41251182],\n",
       "       [0.98351612, 0.01648388],\n",
       "       [0.00006162, 0.99993838],\n",
       "       [0.00001421, 0.99998579],\n",
       "       [0.98893504, 0.01106496],\n",
       "       [0.9964053 , 0.0035947 ],\n",
       "       [0.99813935, 0.00186065],\n",
       "       [0.99792782, 0.00207218],\n",
       "       [0.00000008, 0.99999992],\n",
       "       [0.89113248, 0.10886752],\n",
       "       [0.98307977, 0.01692023],\n",
       "       [0.10071451, 0.89928549],\n",
       "       [0.00000424, 0.99999576],\n",
       "       [0.0013943 , 0.9986057 ],\n",
       "       [0.98970936, 0.01029064],\n",
       "       [0.97652375, 0.02347625],\n",
       "       [0.9980672 , 0.0019328 ],\n",
       "       [0.00121909, 0.99878091],\n",
       "       [0.00488212, 0.99511788],\n",
       "       [0.        , 1.        ],\n",
       "       [0.99373569, 0.00626431],\n",
       "       [0.00001042, 0.99998958],\n",
       "       [0.96875053, 0.03124947],\n",
       "       [0.00102998, 0.99897002],\n",
       "       [0.98849493, 0.01150507],\n",
       "       [0.98512981, 0.01487019],\n",
       "       [0.99568551, 0.00431449],\n",
       "       [0.98540888, 0.01459112],\n",
       "       [0.        , 1.        ],\n",
       "       [0.9794271 , 0.0205729 ],\n",
       "       [0.9882041 , 0.0117959 ],\n",
       "       [0.02096473, 0.97903527],\n",
       "       [0.90611987, 0.09388013],\n",
       "       [0.94080485, 0.05919515],\n",
       "       [0.99963296, 0.00036704],\n",
       "       [0.99677137, 0.00322863],\n",
       "       [0.86336483, 0.13663517],\n",
       "       [0.00000016, 0.99999984],\n",
       "       [0.60028082, 0.39971918],\n",
       "       [0.99786068, 0.00213932],\n",
       "       [0.99761408, 0.00238592],\n",
       "       [0.57884036, 0.42115964],\n",
       "       [0.0000001 , 0.9999999 ],\n",
       "       [0.99225213, 0.00774787],\n",
       "       [0.90169359, 0.09830641],\n",
       "       [0.24952286, 0.75047714],\n",
       "       [0.9867713 , 0.0132287 ],\n",
       "       [0.99981543, 0.00018457],\n",
       "       [0.93836403, 0.06163597],\n",
       "       [0.99976795, 0.00023205],\n",
       "       [0.99722615, 0.00277385],\n",
       "       [0.99893432, 0.00106568],\n",
       "       [0.89854165, 0.10145835],\n",
       "       [0.99870125, 0.00129875],\n",
       "       [0.00001632, 0.99998368],\n",
       "       [0.99687889, 0.00312111],\n",
       "       [0.00077248, 0.99922752],\n",
       "       [0.97678121, 0.02321879],\n",
       "       [0.94453426, 0.05546574],\n",
       "       [0.9996073 , 0.0003927 ],\n",
       "       [0.9982498 , 0.0017502 ],\n",
       "       [0.99960747, 0.00039253],\n",
       "       [0.98188597, 0.01811403],\n",
       "       [0.94122648, 0.05877352],\n",
       "       [0.95966091, 0.04033909],\n",
       "       [0.94097546, 0.05902454],\n",
       "       [0.10501943, 0.89498057],\n",
       "       [0.99091031, 0.00908969],\n",
       "       [0.00016943, 0.99983057],\n",
       "       [0.55755202, 0.44244798],\n",
       "       [0.9987035 , 0.0012965 ],\n",
       "       [0.        , 1.        ],\n",
       "       [0.94795783, 0.05204217],\n",
       "       [0.99344914, 0.00655086],\n",
       "       [0.99852546, 0.00147454],\n",
       "       [0.91800785, 0.08199215],\n",
       "       [0.00000011, 0.99999989],\n",
       "       [0.        , 1.        ],\n",
       "       [0.        , 1.        ],\n",
       "       [0.00000204, 0.99999796],\n",
       "       [0.96958055, 0.03041945],\n",
       "       [0.99933239, 0.00066761],\n",
       "       [0.91770422, 0.08229578],\n",
       "       [0.9989733 , 0.0010267 ],\n",
       "       [0.94874879, 0.05125121],\n",
       "       [0.99813749, 0.00186251],\n",
       "       [0.00000079, 0.99999921],\n",
       "       [0.        , 1.        ],\n",
       "       [0.98087636, 0.01912364],\n",
       "       [0.99802525, 0.00197475],\n",
       "       [0.99548651, 0.00451349],\n",
       "       [0.93378044, 0.06621956],\n",
       "       [0.99406627, 0.00593373],\n",
       "       [0.98972774, 0.01027226],\n",
       "       [0.        , 1.        ],\n",
       "       [0.0000051 , 0.9999949 ]])"
      ]
     },
     "execution_count": 9,
     "metadata": {},
     "output_type": "execute_result"
    }
   ],
   "source": [
    "import numpy as np\n",
    "np.set_printoptions(suppress=True)\n",
    "lr.predict_proba(test_input)"
   ]
  },
  {
   "cell_type": "code",
   "execution_count": 10,
   "metadata": {},
   "outputs": [],
   "source": [
    "from sklearn.metrics import confusion_matrix, accuracy_score, precision_score, recall_score"
   ]
  },
  {
   "cell_type": "code",
   "execution_count": 11,
   "metadata": {},
   "outputs": [
    {
     "data": {
      "text/plain": [
       "array([[91,  1],\n",
       "       [ 3, 48]], dtype=int64)"
      ]
     },
     "execution_count": 11,
     "metadata": {},
     "output_type": "execute_result"
    }
   ],
   "source": [
    "confusion_matrix(test_target, lr.predict(test_input))"
   ]
  },
  {
   "cell_type": "code",
   "execution_count": 12,
   "metadata": {},
   "outputs": [
    {
     "name": "stdout",
     "output_type": "stream",
     "text": [
      "accuracy : 0.972027972027972\n",
      "accuracy : 0.972027972027972\n"
     ]
    }
   ],
   "source": [
    "print('accuracy : {}'.format(accuracy_score(test_target, lr.predict(test_input))))\n",
    "print('accuracy :', (91 + 48)  /  (91 + 1 + 3 + 48)) "
   ]
  },
  {
   "cell_type": "code",
   "execution_count": 13,
   "metadata": {},
   "outputs": [
    {
     "name": "stdout",
     "output_type": "stream",
     "text": [
      "precision : 0.9795918367346939\n",
      "precision : 0.9795918367346939\n"
     ]
    }
   ],
   "source": [
    "print('precision : {}'.format(precision_score(test_target, lr.predict(test_input))))\n",
    "print('precision :', 48 / (1 + 48))"
   ]
  },
  {
   "cell_type": "code",
   "execution_count": 14,
   "metadata": {},
   "outputs": [
    {
     "name": "stdout",
     "output_type": "stream",
     "text": [
      "recall : 0.9411764705882353\n",
      "recall : 0.9411764705882353\n"
     ]
    }
   ],
   "source": [
    "print('recall : {}'.format(recall_score(test_target, lr.predict(test_input))))\n",
    "print('recall :', 48 / (3 + 48))"
   ]
  },
  {
   "cell_type": "code",
   "execution_count": 15,
   "metadata": {},
   "outputs": [
    {
     "data": {
      "text/plain": [
       "array([[85,  7],\n",
       "       [ 0, 51]], dtype=int64)"
      ]
     },
     "execution_count": 15,
     "metadata": {},
     "output_type": "execute_result"
    }
   ],
   "source": [
    "from sklearn.preprocessing import Binarizer\n",
    "\n",
    "custom_threshold = 0.1\n",
    "pred_proba_1 = lr.predict_proba(test_input)[:,-1].reshape(-1,1)\n",
    "binarizer = Binarizer(threshold=custom_threshold).fit(pred_proba_1)\n",
    "custom_predict = binarizer.transform(pred_proba_1)\n",
    "confusion_matrix(test_target, custom_predict )"
   ]
  },
  {
   "cell_type": "code",
   "execution_count": 16,
   "metadata": {},
   "outputs": [
    {
     "name": "stdout",
     "output_type": "stream",
     "text": [
      "[[92  0]\n",
      " [ 6 45]]\n",
      "1.0\n",
      "0.8823529411764706\n",
      "[[91  1]\n",
      " [ 4 47]]\n",
      "0.9791666666666666\n",
      "0.9215686274509803\n",
      "[[91  1]\n",
      " [ 3 48]]\n",
      "0.9795918367346939\n",
      "0.9411764705882353\n",
      "[[91  1]\n",
      " [ 3 48]]\n",
      "0.9795918367346939\n",
      "0.9411764705882353\n",
      "[[91  1]\n",
      " [ 3 48]]\n",
      "0.9795918367346939\n",
      "0.9411764705882353\n",
      "[[90  2]\n",
      " [ 1 50]]\n",
      "0.9615384615384616\n",
      "0.9803921568627451\n",
      "[[89  3]\n",
      " [ 0 51]]\n",
      "0.9444444444444444\n",
      "1.0\n",
      "[[88  4]\n",
      " [ 0 51]]\n",
      "0.9272727272727272\n",
      "1.0\n"
     ]
    }
   ],
   "source": [
    "for thre in [0.9, 0.8, 0.7, 0.6, 0.5, 0.4, 0.3, 0.2]:\n",
    "    custom_threshold = thre\n",
    "    pred_proba_1 = lr.predict_proba(test_input)[:,-1].reshape(-1,1)\n",
    "    binarizer = Binarizer(threshold=custom_threshold).fit(pred_proba_1)\n",
    "    custom_predict = binarizer.transform(pred_proba_1)\n",
    "    print (confusion_matrix(test_target, custom_predict ))\n",
    "    print (precision_score(test_target, custom_predict ))\n",
    "    print (recall_score(test_target, custom_predict ))"
   ]
  },
  {
   "cell_type": "code",
   "execution_count": 17,
   "metadata": {},
   "outputs": [],
   "source": [
    "from sklearn.metrics import precision_recall_curve"
   ]
  },
  {
   "cell_type": "code",
   "execution_count": 18,
   "metadata": {},
   "outputs": [],
   "source": [
    "import matplotlib.pyplot as plt\n",
    "import matplotlib.ticker as ticker"
   ]
  },
  {
   "cell_type": "code",
   "execution_count": 19,
   "metadata": {},
   "outputs": [],
   "source": [
    "def precision_recall_curve_plot(y_test , pred_proba_c1):\n",
    "    # threshold ndarray와 이 threshold에 따른 정밀도, 재현율 ndarray 추출. \n",
    "    precisions, recalls, thresholds = precision_recall_curve( y_test, pred_proba_c1)\n",
    "    \n",
    "    # X축을 threshold값으로, Y축은 정밀도, 재현율 값으로 각각 Plot 수행. 정밀도는 점선으로 표시\n",
    "    plt.figure(figsize=(8,6))\n",
    "    threshold_boundary = thresholds.shape[0]\n",
    "    plt.plot(thresholds, precisions[0:threshold_boundary], linestyle='--', label='precision')\n",
    "    plt.plot(thresholds, recalls[0:threshold_boundary],label='recall')\n",
    "    \n",
    "    # threshold 값 X 축의 Scale을 0.1 단위로 변경\n",
    "    start, end = plt.xlim()\n",
    "    plt.xticks(np.round(np.arange(start, end, 0.1),2))\n",
    "    \n",
    "    # x축, y축 label과 legend, 그리고 grid 설정\n",
    "    plt.xlabel('Threshold value'); plt.ylabel('Precision and Recall value')\n",
    "    plt.legend(); plt.grid()\n",
    "    plt.show()"
   ]
  },
  {
   "cell_type": "code",
   "execution_count": 20,
   "metadata": {},
   "outputs": [
    {
     "data": {
      "image/png": "[encoded data removed]",
      "text/plain": [
       "<Figure size 576x432 with 1 Axes>"
      ]
     },
     "metadata": {
      "needs_background": "light"
     },
     "output_type": "display_data"
    }
   ],
   "source": [
    "precision_recall_curve_plot(test_target, lr.predict_proba(test_input)[:, 1].reshape(-1,1))"
   ]
  },
  {
   "cell_type": "markdown",
   "metadata": {},
   "source": [
    "### F1 스코어\n",
    "* 정밀도와 재현율을 결합한 지표\n",
    "* F1 스코어는 정밀도와 재현율이 어느 한 쪽으로 치우치지 않는 수치를 나타낼 때 상대적으로 높은 값을 가진다\n",
    "* F1 Score : 2 * (precision * recall) / (precision + recall)"
   ]
  },
  {
   "cell_type": "code",
   "execution_count": 21,
   "metadata": {},
   "outputs": [],
   "source": [
    "from sklearn.metrics import f1_score"
   ]
  },
  {
   "cell_type": "code",
   "execution_count": 22,
   "metadata": {},
   "outputs": [],
   "source": [
    "precision = precision_score(test_target, lr.predict(test_input))\n",
    "recall = recall_score(test_target, lr.predict(test_input))"
   ]
  },
  {
   "cell_type": "code",
   "execution_count": 23,
   "metadata": {},
   "outputs": [
    {
     "name": "stdout",
     "output_type": "stream",
     "text": [
      "F1 score : 0.96\n",
      "F1 score : 0.96\n"
     ]
    }
   ],
   "source": [
    "print('F1 score : {}'.format(f1_score(test_target, lr.predict(test_input))))\n",
    "print('F1 score : {}'.format( 2 * precision * recall / (precision + recall) ))"
   ]
  },
  {
   "cell_type": "markdown",
   "metadata": {},
   "source": [
    "### ROC 곡선과 AUC\n",
    "* ROC 곡선과 이에 기반한 AUC 스코어는 이진 분류의 예측 성능 측정에서 중요하게 사용되는 지표 \n",
    "* ROC 곡선(Receiver Operation Characteristic Curve)은 우리말로 수신자 판단 곡선\n",
    "    > 2차대전 때 통신 장비 성능 평가를 위해 고안된 수치\n",
    "    \n",
    "    > 의학 분야에서 많이 사용되고, 머신러닝의 이진 분류 모델의 예측 성능을 판단하는 지표"
   ]
  },
  {
   "cell_type": "markdown",
   "metadata": {},
   "source": [
    "* ROC 곡선은 FPR(False Positive Rate)이 변활 때 TPR(True Positive Rate)이 어떻게 변하하는지 나타내는 곡선\n",
    "* FPR을 X축으로, TPR을 Y축으로 잡으면 FPR의 변화에 따른 TPR의 변화가 곡선 형태로 나타남\n",
    "    > TPR : recall (민감도)\n",
    "    \n",
    "    > FPR : FP / (TN + FP) = 1 - TNR = 1 - 특이도\n",
    "\n",
    "    > TNR (특이도) : TN / (TN + FP)\n",
    "\n",
    "* ROC 곡선은 FPR을 0부터 1까지 변경하면서 TPR의 변화 값을 구한다\n",
    "* 가운데 직선에 가까울수록 성능이 떨어지고 멀어질수록 성능이 좋다"
   ]
  },
  {
   "cell_type": "markdown",
   "metadata": {},
   "source": [
    "#### AUC(Area Under Curve)\n",
    "* 일반적으로 ROC 곡선 자체는 FPR과 TPR의 변화 값을 보는 데 이용하며, 분류의 성능 지표로 사용되는 것은 ROC 곡선 면적에 기반한 AUC 값으로 결정\n",
    "* ROC 곡선 밑의 면적을 구하는 것으로, 일반적으로 1에 가까울수록 좋은 수치\n",
    "* AUC 수치가 커지려면, FPR이 작은 상태에서 얼마나 큰 TPR을 얻을 수 있는지가 중요합니다. \n",
    "* 가운데 직선에서 멀어지고 왼쪽 상단 모서리 쪽으로 가파르게 곡선이 이동할수록, 직사각형에 가까운 곡선이 되어, 면적이 1에 가까워지는 좋은 ROC AUC 성능 수치\n",
    "* 보통의 분류는 0.5이상의 AUC를 갖는다"
   ]
  }
 ],
 "metadata": {
  "interpreter": {
   "hash": "425a1af5f1e5390d8981f7ca16a01614bb8c35f7954543dfc17a8690ba4dff91"
  },
  "kernelspec": {
   "display_name": "Python 3.9.7 ('base')",
   "language": "python",
   "name": "python3"
  },
  "language_info": {
   "codemirror_mode": {
    "name": "ipython",
    "version": 3
   },
   "file_extension": ".py",
   "mimetype": "text/x-python",
   "name": "python",
   "nbconvert_exporter": "python",
   "pygments_lexer": "ipython3",
   "version": "3.9.7"
  },
  "orig_nbformat": 4
 },
 "nbformat": 4,
 "nbformat_minor": 2
}
