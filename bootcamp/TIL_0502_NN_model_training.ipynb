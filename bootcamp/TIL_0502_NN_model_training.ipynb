{
 "cells": [
  {
   "cell_type": "markdown",
   "metadata": {},
   "source": [
    "## 손실 곡선"
   ]
  },
  {
   "cell_type": "code",
   "execution_count": 1,
   "metadata": {},
   "outputs": [],
   "source": [
    "from tensorflow import keras\n",
    "from sklearn.model_selection import train_test_split\n",
    "\n",
    "(train_input, train_target), (test_input, test_target) = keras.datasets.fashion_mnist.load_data()\n",
    "\n",
    "train_scaled = train_input / 255.0\n",
    "\n",
    "train_scaled, val_scaled, train_target, val_target = train_test_split(\n",
    "    train_scaled, train_target, test_size=0.2, random_state=42)"
   ]
  },
  {
   "cell_type": "code",
   "execution_count": 2,
   "metadata": {},
   "outputs": [],
   "source": [
    "def model_fn(a_layer=None):\n",
    "    model = keras.Sequential()\n",
    "    model.add(keras.layers.Flatten(input_shape=(28, 28)))\n",
    "    model.add(keras.layers.Dense(100, activation='relu'))\n",
    "    if a_layer:\n",
    "        model.add(a_layer)\n",
    "    model.add(keras.layers.Dense(10, activation='softmax'))\n",
    "    return model"
   ]
  },
  {
   "cell_type": "code",
   "execution_count": 3,
   "metadata": {},
   "outputs": [
    {
     "name": "stdout",
     "output_type": "stream",
     "text": [
      "Model: \"sequential\"\n",
      "_________________________________________________________________\n",
      " Layer (type)                Output Shape              Param #   \n",
      "=================================================================\n",
      " flatten (Flatten)           (None, 784)               0         \n",
      "                                                                 \n",
      " dense (Dense)               (None, 100)               78500     \n",
      "                                                                 \n",
      " dense_1 (Dense)             (None, 10)                1010      \n",
      "                                                                 \n",
      "=================================================================\n",
      "Total params: 79,510\n",
      "Trainable params: 79,510\n",
      "Non-trainable params: 0\n",
      "_________________________________________________________________\n"
     ]
    }
   ],
   "source": [
    "model = model_fn()\n",
    "\n",
    "model.summary()"
   ]
  },
  {
   "cell_type": "code",
   "execution_count": 4,
   "metadata": {},
   "outputs": [
    {
     "data": {
      "text/plain": [
       "7"
      ]
     },
     "execution_count": 4,
     "metadata": {},
     "output_type": "execute_result"
    }
   ],
   "source": [
    "train_target[0]"
   ]
  },
  {
   "cell_type": "markdown",
   "metadata": {},
   "source": [
    "* [0, 0, 0, 0, 0, 0, 0, 1, 0, 0] -> categorical_crossentropy\n",
    "* 7 -> sparce_categorical_crossentropy"
   ]
  },
  {
   "cell_type": "code",
   "execution_count": 5,
   "metadata": {},
   "outputs": [
    {
     "name": "stdout",
     "output_type": "stream",
     "text": [
      "Epoch 1/10\n",
      "1500/1500 [==============================] - 3s 2ms/step - loss: 0.5309 - accuracy: 0.8142\n",
      "Epoch 2/10\n",
      "1500/1500 [==============================] - 3s 2ms/step - loss: 0.3886 - accuracy: 0.8614\n",
      "Epoch 3/10\n",
      "1500/1500 [==============================] - 3s 2ms/step - loss: 0.3524 - accuracy: 0.8742\n",
      "Epoch 4/10\n",
      "1500/1500 [==============================] - 3s 2ms/step - loss: 0.3331 - accuracy: 0.8813\n",
      "Epoch 5/10\n",
      "1500/1500 [==============================] - 3s 2ms/step - loss: 0.3174 - accuracy: 0.8885\n",
      "Epoch 6/10\n",
      "1500/1500 [==============================] - 3s 2ms/step - loss: 0.3075 - accuracy: 0.8917\n",
      "Epoch 7/10\n",
      "1500/1500 [==============================] - 3s 2ms/step - loss: 0.2982 - accuracy: 0.8953\n",
      "Epoch 8/10\n",
      "1500/1500 [==============================] - 3s 2ms/step - loss: 0.2891 - accuracy: 0.8989\n",
      "Epoch 9/10\n",
      "1500/1500 [==============================] - 3s 2ms/step - loss: 0.2829 - accuracy: 0.9014\n",
      "Epoch 10/10\n",
      "1500/1500 [==============================] - 3s 2ms/step - loss: 0.2764 - accuracy: 0.9038\n"
     ]
    }
   ],
   "source": [
    "model.compile(loss='sparse_categorical_crossentropy', metrics='accuracy')\n",
    "\n",
    "history = model.fit(train_scaled, train_target, epochs=10, verbose=1)"
   ]
  },
  {
   "cell_type": "markdown",
   "metadata": {},
   "source": [
    "* history 변수 : 훈련 측정값이 딕셔너리 형태로 저장되어 있음\n",
    "* 케라스는 기본적으로 에포크마다 손실을 계산\n",
    "    * 정확도 : compile() 메서드에서 metrics 매개변수에 'accuracy'를 추가했기 때문에 history 속성에 포함 "
   ]
  },
  {
   "cell_type": "code",
   "execution_count": 6,
   "metadata": {},
   "outputs": [
    {
     "data": {
      "text/plain": [
       "dict_keys(['loss', 'accuracy'])"
      ]
     },
     "execution_count": 6,
     "metadata": {},
     "output_type": "execute_result"
    }
   ],
   "source": [
    "history.history.keys()"
   ]
  },
  {
   "cell_type": "code",
   "execution_count": 7,
   "metadata": {},
   "outputs": [
    {
     "data": {
      "image/png": "[encoded data removed]",
      "text/plain": [
       "<Figure size 432x288 with 1 Axes>"
      ]
     },
     "metadata": {
      "needs_background": "light"
     },
     "output_type": "display_data"
    }
   ],
   "source": [
    "import matplotlib.pyplot as plt\n",
    "\n",
    "plt.plot(history.history['loss'])\n",
    "plt.xlabel('epoch')\n",
    "plt.ylabel('loss')\n",
    "plt.savefig('epoch-loss', dpi=300)\n",
    "plt.show()"
   ]
  },
  {
   "cell_type": "code",
   "execution_count": 8,
   "metadata": {},
   "outputs": [
    {
     "data": {
      "image/png": "[encoded data removed]",
      "text/plain": [
       "<Figure size 432x288 with 1 Axes>"
      ]
     },
     "metadata": {
      "needs_background": "light"
     },
     "output_type": "display_data"
    }
   ],
   "source": [
    "plt.plot(history.history['accuracy'])\n",
    "plt.xlabel('epoch')\n",
    "plt.ylabel('accuracy')\n",
    "plt.savefig('epoch-accuracy', dpi=300)\n",
    "plt.show()"
   ]
  },
  {
   "cell_type": "markdown",
   "metadata": {},
   "source": [
    "* epoch=20"
   ]
  },
  {
   "cell_type": "code",
   "execution_count": 9,
   "metadata": {},
   "outputs": [],
   "source": [
    "model = model_fn()\n",
    "model.compile(loss='sparse_categorical_crossentropy', metrics='accuracy')\n",
    "\n",
    "history = model.fit(train_scaled, train_target, epochs=20, verbose=0)"
   ]
  },
  {
   "cell_type": "code",
   "execution_count": 10,
   "metadata": {},
   "outputs": [
    {
     "data": {
      "image/png": "[encoded data removed]",
      "text/plain": [
       "<Figure size 432x288 with 1 Axes>"
      ]
     },
     "metadata": {
      "needs_background": "light"
     },
     "output_type": "display_data"
    }
   ],
   "source": [
    "plt.plot(history.history['loss'])\n",
    "plt.xlabel('epoch')\n",
    "plt.ylabel('loss')\n",
    "plt.savefig('epoch_20-loss', dpi=300)\n",
    "plt.show()"
   ]
  },
  {
   "cell_type": "code",
   "execution_count": 11,
   "metadata": {},
   "outputs": [
    {
     "data": {
      "image/png": "[encoded data removed]",
      "text/plain": [
       "<Figure size 432x288 with 1 Axes>"
      ]
     },
     "metadata": {
      "needs_background": "light"
     },
     "output_type": "display_data"
    }
   ],
   "source": [
    "plt.plot(history.history['accuracy'])\n",
    "plt.xlabel('epoch')\n",
    "plt.ylabel('accuracy')\n",
    "plt.savefig('epoch_20-accuracy', dpi=300)\n",
    "plt.show()"
   ]
  },
  {
   "cell_type": "markdown",
   "metadata": {},
   "source": [
    "---"
   ]
  },
  {
   "cell_type": "markdown",
   "metadata": {},
   "source": [
    "## 검증 손실\n",
    "* 에포크에 따른 과대적합과 과소적합을 파악하려면, 훈련 세트에 대한 점수뿐만 아니라 검증 세트에 대한 점수도 필요 \n",
    "* 따라서 앞에서처럼 훈련 세트의 손실만 그려서는 안된다"
   ]
  },
  {
   "cell_type": "markdown",
   "metadata": {},
   "source": [
    "* 모델이 최적화하는 대상은 정확도가 아니라 **손실 함수** \n",
    "    * 이따금 손실 감소에 비례하여 정확도가 높아지지 않는 경우도 있음\n",
    "* 따라서 모델이 잘 훈련되었는지 판단하려면 정확도보다는 손실 함수의 값을 확인하는 것이 더 좋음"
   ]
  },
  {
   "cell_type": "code",
   "execution_count": 12,
   "metadata": {},
   "outputs": [
    {
     "name": "stdout",
     "output_type": "stream",
     "text": [
      "Epoch 1/20\n",
      "1500/1500 [==============================] - 4s 2ms/step - loss: 0.5221 - accuracy: 0.8184 - val_loss: 0.4844 - val_accuracy: 0.8189\n",
      "Epoch 2/20\n",
      "1500/1500 [==============================] - 3s 2ms/step - loss: 0.3881 - accuracy: 0.8608 - val_loss: 0.3889 - val_accuracy: 0.8633\n",
      "Epoch 3/20\n",
      "1500/1500 [==============================] - 4s 2ms/step - loss: 0.3525 - accuracy: 0.8722 - val_loss: 0.4377 - val_accuracy: 0.8526\n",
      "Epoch 4/20\n",
      "1500/1500 [==============================] - 4s 2ms/step - loss: 0.3313 - accuracy: 0.8796 - val_loss: 0.3672 - val_accuracy: 0.8713\n",
      "Epoch 5/20\n",
      "1500/1500 [==============================] - 4s 2ms/step - loss: 0.3165 - accuracy: 0.8887 - val_loss: 0.3587 - val_accuracy: 0.8750\n",
      "Epoch 6/20\n",
      "1500/1500 [==============================] - 4s 2ms/step - loss: 0.3049 - accuracy: 0.8915 - val_loss: 0.3606 - val_accuracy: 0.8759\n",
      "Epoch 7/20\n",
      "1500/1500 [==============================] - 4s 2ms/step - loss: 0.2965 - accuracy: 0.8954 - val_loss: 0.3698 - val_accuracy: 0.8795\n",
      "Epoch 8/20\n",
      "1500/1500 [==============================] - 4s 2ms/step - loss: 0.2878 - accuracy: 0.8983 - val_loss: 0.3655 - val_accuracy: 0.8813\n",
      "Epoch 9/20\n",
      "1500/1500 [==============================] - 4s 2ms/step - loss: 0.2817 - accuracy: 0.9003 - val_loss: 0.4213 - val_accuracy: 0.8692\n",
      "Epoch 10/20\n",
      "1500/1500 [==============================] - 3s 2ms/step - loss: 0.2752 - accuracy: 0.9035 - val_loss: 0.3950 - val_accuracy: 0.8779\n",
      "Epoch 11/20\n",
      "1500/1500 [==============================] - 4s 2ms/step - loss: 0.2700 - accuracy: 0.9051 - val_loss: 0.3853 - val_accuracy: 0.8835\n",
      "Epoch 12/20\n",
      "1500/1500 [==============================] - 4s 2ms/step - loss: 0.2618 - accuracy: 0.9085 - val_loss: 0.4504 - val_accuracy: 0.8735\n",
      "Epoch 13/20\n",
      "1500/1500 [==============================] - 4s 2ms/step - loss: 0.2601 - accuracy: 0.9094 - val_loss: 0.4395 - val_accuracy: 0.8806\n",
      "Epoch 14/20\n",
      "1500/1500 [==============================] - 4s 2ms/step - loss: 0.2556 - accuracy: 0.9122 - val_loss: 0.4068 - val_accuracy: 0.8822\n",
      "Epoch 15/20\n",
      "1500/1500 [==============================] - 4s 2ms/step - loss: 0.2501 - accuracy: 0.9136 - val_loss: 0.4248 - val_accuracy: 0.8812\n",
      "Epoch 16/20\n",
      "1500/1500 [==============================] - 3s 2ms/step - loss: 0.2439 - accuracy: 0.9149 - val_loss: 0.4207 - val_accuracy: 0.8847\n",
      "Epoch 17/20\n",
      "1500/1500 [==============================] - 4s 2ms/step - loss: 0.2402 - accuracy: 0.9162 - val_loss: 0.4492 - val_accuracy: 0.8764\n",
      "Epoch 18/20\n",
      "1500/1500 [==============================] - 4s 2ms/step - loss: 0.2383 - accuracy: 0.9188 - val_loss: 0.4667 - val_accuracy: 0.8810\n",
      "Epoch 19/20\n",
      "1500/1500 [==============================] - 4s 2ms/step - loss: 0.2340 - accuracy: 0.9210 - val_loss: 0.4407 - val_accuracy: 0.8863\n",
      "Epoch 20/20\n",
      "1500/1500 [==============================] - 4s 2ms/step - loss: 0.2282 - accuracy: 0.9219 - val_loss: 0.4539 - val_accuracy: 0.8808\n"
     ]
    }
   ],
   "source": [
    "model = model_fn()\n",
    "model.compile(loss='sparse_categorical_crossentropy', metrics='accuracy')\n",
    "\n",
    "history = model.fit(train_scaled, train_target, epochs=20, verbose=1, \n",
    "                    validation_data=(val_scaled, val_target))"
   ]
  },
  {
   "cell_type": "code",
   "execution_count": 13,
   "metadata": {},
   "outputs": [
    {
     "name": "stdout",
     "output_type": "stream",
     "text": [
      "dict_keys(['loss', 'accuracy', 'val_loss', 'val_accuracy'])\n"
     ]
    }
   ],
   "source": [
    "print(history.history.keys())"
   ]
  },
  {
   "cell_type": "code",
   "execution_count": 14,
   "metadata": {},
   "outputs": [
    {
     "data": {
      "image/png": "[encoded data removed]",
      "text/plain": [
       "<Figure size 432x288 with 1 Axes>"
      ]
     },
     "metadata": {
      "needs_background": "light"
     },
     "output_type": "display_data"
    }
   ],
   "source": [
    "plt.plot(history.history['loss'])\n",
    "plt.plot(history.history['val_loss'])\n",
    "plt.xlabel('epoch')\n",
    "plt.ylabel('loss')\n",
    "plt.legend(['train', 'val'])\n",
    "plt.savefig('epoch_20-loss(val_loss)', dpi=300)\n",
    "plt.show()"
   ]
  },
  {
   "cell_type": "markdown",
   "metadata": {},
   "source": [
    "* 5번째 에포크 만에 검증 손실이 상승하기 시작..\n",
    "* 훈련 손실은 꾸준히 감소하기 때문에 전형적인 과대적합 모델이 만들어진다 \n",
    "* 검증 손실이 상승하는 시점을 가능한 뒤로 늦추기\n",
    "    * 검증 세트에 대한 손실이 줄어들 뿐만 아니라, 검증 세트에 대한 정확도도 증가할 것"
   ]
  },
  {
   "cell_type": "markdown",
   "metadata": {},
   "source": [
    "* 옵티마이저 하이퍼파라미터를 조정하여 과대적합을 완화시킬 수 있는지 확인해보자\n",
    "    * 기본 RMSprop 옵티마이저 : 많은 문제에서 잘 동작한다\n",
    "    * 만약, 이 옵티마이저 대신 다른 옵티마이저를 테스트해 본다면 **Adam** 추천\n",
    "* Adam : 적응적 학습률을 사용\n",
    "    * 에포크가 진행되면서 학습률의 크기 조정 가능"
   ]
  },
  {
   "cell_type": "markdown",
   "metadata": {},
   "source": [
    "##### Adam"
   ]
  },
  {
   "cell_type": "code",
   "execution_count": 15,
   "metadata": {},
   "outputs": [
    {
     "name": "stdout",
     "output_type": "stream",
     "text": [
      "Epoch 1/20\n",
      "1500/1500 [==============================] - 3s 2ms/step - loss: 0.5181 - accuracy: 0.8183 - val_loss: 0.4790 - val_accuracy: 0.8262\n",
      "Epoch 2/20\n",
      "1500/1500 [==============================] - 3s 2ms/step - loss: 0.3920 - accuracy: 0.8596 - val_loss: 0.3720 - val_accuracy: 0.8659\n",
      "Epoch 3/20\n",
      "1500/1500 [==============================] - 3s 2ms/step - loss: 0.3519 - accuracy: 0.8725 - val_loss: 0.4091 - val_accuracy: 0.8447\n",
      "Epoch 4/20\n",
      "1500/1500 [==============================] - 3s 2ms/step - loss: 0.3274 - accuracy: 0.8792 - val_loss: 0.3551 - val_accuracy: 0.8704\n",
      "Epoch 5/20\n",
      "1500/1500 [==============================] - 3s 2ms/step - loss: 0.3076 - accuracy: 0.8877 - val_loss: 0.3338 - val_accuracy: 0.8839\n",
      "Epoch 6/20\n",
      "1500/1500 [==============================] - 3s 2ms/step - loss: 0.2901 - accuracy: 0.8926 - val_loss: 0.3309 - val_accuracy: 0.8788\n",
      "Epoch 7/20\n",
      "1500/1500 [==============================] - 3s 2ms/step - loss: 0.2778 - accuracy: 0.8989 - val_loss: 0.3289 - val_accuracy: 0.8827\n",
      "Epoch 8/20\n",
      "1500/1500 [==============================] - 3s 2ms/step - loss: 0.2653 - accuracy: 0.9016 - val_loss: 0.3186 - val_accuracy: 0.8841\n",
      "Epoch 9/20\n",
      "1500/1500 [==============================] - 3s 2ms/step - loss: 0.2542 - accuracy: 0.9051 - val_loss: 0.3390 - val_accuracy: 0.8832\n",
      "Epoch 10/20\n",
      "1500/1500 [==============================] - 3s 2ms/step - loss: 0.2476 - accuracy: 0.9076 - val_loss: 0.3306 - val_accuracy: 0.8876\n",
      "Epoch 11/20\n",
      "1500/1500 [==============================] - 3s 2ms/step - loss: 0.2375 - accuracy: 0.9109 - val_loss: 0.3334 - val_accuracy: 0.8792\n",
      "Epoch 12/20\n",
      "1500/1500 [==============================] - 3s 2ms/step - loss: 0.2322 - accuracy: 0.9141 - val_loss: 0.3368 - val_accuracy: 0.8875\n",
      "Epoch 13/20\n",
      "1500/1500 [==============================] - 3s 2ms/step - loss: 0.2235 - accuracy: 0.9178 - val_loss: 0.3316 - val_accuracy: 0.8852\n",
      "Epoch 14/20\n",
      "1500/1500 [==============================] - 3s 2ms/step - loss: 0.2193 - accuracy: 0.9176 - val_loss: 0.3527 - val_accuracy: 0.8785\n",
      "Epoch 15/20\n",
      "1500/1500 [==============================] - 3s 2ms/step - loss: 0.2118 - accuracy: 0.9216 - val_loss: 0.3546 - val_accuracy: 0.8765\n",
      "Epoch 16/20\n",
      "1500/1500 [==============================] - 3s 2ms/step - loss: 0.2045 - accuracy: 0.9243 - val_loss: 0.3330 - val_accuracy: 0.8873\n",
      "Epoch 17/20\n",
      "1500/1500 [==============================] - 3s 2ms/step - loss: 0.2020 - accuracy: 0.9256 - val_loss: 0.3311 - val_accuracy: 0.8892\n",
      "Epoch 18/20\n",
      "1500/1500 [==============================] - 3s 2ms/step - loss: 0.1951 - accuracy: 0.9277 - val_loss: 0.3571 - val_accuracy: 0.8810\n",
      "Epoch 19/20\n",
      "1500/1500 [==============================] - 3s 2ms/step - loss: 0.1925 - accuracy: 0.9278 - val_loss: 0.3384 - val_accuracy: 0.8889\n",
      "Epoch 20/20\n",
      "1500/1500 [==============================] - 3s 2ms/step - loss: 0.1872 - accuracy: 0.9283 - val_loss: 0.3567 - val_accuracy: 0.8822\n"
     ]
    }
   ],
   "source": [
    "model = model_fn()\n",
    "model.compile(optimizer='adam', loss='sparse_categorical_crossentropy', metrics='accuracy')\n",
    "\n",
    "history = model.fit(train_scaled, train_target, epochs=20, verbose=1, \n",
    "                    validation_data=(val_scaled, val_target))"
   ]
  },
  {
   "cell_type": "code",
   "execution_count": 16,
   "metadata": {},
   "outputs": [
    {
     "data": {
      "image/png": "[encoded data removed]",
      "text/plain": [
       "<Figure size 432x288 with 1 Axes>"
      ]
     },
     "metadata": {
      "needs_background": "light"
     },
     "output_type": "display_data"
    }
   ],
   "source": [
    "plt.plot(history.history['loss'])\n",
    "plt.plot(history.history['val_loss'])\n",
    "plt.xlabel('epoch')\n",
    "plt.ylabel('loss')\n",
    "plt.legend(['train', 'val'])\n",
    "# plt.savefig('7_3-05', dpi=300)\n",
    "\n",
    "plt.show()"
   ]
  },
  {
   "cell_type": "markdown",
   "metadata": {},
   "source": [
    "##### RMSprop"
   ]
  },
  {
   "cell_type": "code",
   "execution_count": 17,
   "metadata": {},
   "outputs": [
    {
     "name": "stdout",
     "output_type": "stream",
     "text": [
      "Epoch 1/20\n",
      "1500/1500 [==============================] - 4s 3ms/step - loss: 0.5365 - accuracy: 0.8116 - val_loss: 0.4352 - val_accuracy: 0.8487\n",
      "Epoch 2/20\n",
      "1500/1500 [==============================] - 4s 2ms/step - loss: 0.3951 - accuracy: 0.8583 - val_loss: 0.3814 - val_accuracy: 0.8634\n",
      "Epoch 3/20\n",
      "1500/1500 [==============================] - 4s 2ms/step - loss: 0.3573 - accuracy: 0.8722 - val_loss: 0.4044 - val_accuracy: 0.8611\n",
      "Epoch 4/20\n",
      "1500/1500 [==============================] - 4s 2ms/step - loss: 0.3364 - accuracy: 0.8793 - val_loss: 0.3823 - val_accuracy: 0.8705\n",
      "Epoch 5/20\n",
      "1500/1500 [==============================] - 4s 3ms/step - loss: 0.3208 - accuracy: 0.8842 - val_loss: 0.3589 - val_accuracy: 0.8789\n",
      "Epoch 6/20\n",
      "1500/1500 [==============================] - 4s 2ms/step - loss: 0.3093 - accuracy: 0.8899 - val_loss: 0.3946 - val_accuracy: 0.8723\n",
      "Epoch 7/20\n",
      "1500/1500 [==============================] - 4s 2ms/step - loss: 0.3003 - accuracy: 0.8944 - val_loss: 0.3723 - val_accuracy: 0.8782\n",
      "Epoch 8/20\n",
      "1500/1500 [==============================] - 4s 2ms/step - loss: 0.2933 - accuracy: 0.8971 - val_loss: 0.3990 - val_accuracy: 0.8729\n",
      "Epoch 9/20\n",
      "1500/1500 [==============================] - 4s 2ms/step - loss: 0.2857 - accuracy: 0.9001 - val_loss: 0.3838 - val_accuracy: 0.8794\n",
      "Epoch 10/20\n",
      "1500/1500 [==============================] - 4s 2ms/step - loss: 0.2783 - accuracy: 0.9026 - val_loss: 0.4032 - val_accuracy: 0.8803\n",
      "Epoch 11/20\n",
      "1500/1500 [==============================] - 4s 2ms/step - loss: 0.2739 - accuracy: 0.9055 - val_loss: 0.3922 - val_accuracy: 0.8838\n",
      "Epoch 12/20\n",
      "1500/1500 [==============================] - 4s 2ms/step - loss: 0.2670 - accuracy: 0.9074 - val_loss: 0.3958 - val_accuracy: 0.8823\n",
      "Epoch 13/20\n",
      "1500/1500 [==============================] - 4s 2ms/step - loss: 0.2626 - accuracy: 0.9085 - val_loss: 0.3798 - val_accuracy: 0.8847\n",
      "Epoch 14/20\n",
      "1500/1500 [==============================] - 4s 2ms/step - loss: 0.2549 - accuracy: 0.9113 - val_loss: 0.4025 - val_accuracy: 0.8832\n",
      "Epoch 15/20\n",
      "1500/1500 [==============================] - 4s 2ms/step - loss: 0.2540 - accuracy: 0.9131 - val_loss: 0.4182 - val_accuracy: 0.8822\n",
      "Epoch 16/20\n",
      "1500/1500 [==============================] - 4s 2ms/step - loss: 0.2476 - accuracy: 0.9157 - val_loss: 0.4260 - val_accuracy: 0.8821\n",
      "Epoch 17/20\n",
      "1500/1500 [==============================] - 4s 2ms/step - loss: 0.2421 - accuracy: 0.9161 - val_loss: 0.4313 - val_accuracy: 0.8813\n",
      "Epoch 18/20\n",
      "1500/1500 [==============================] - 4s 2ms/step - loss: 0.2419 - accuracy: 0.9172 - val_loss: 0.4560 - val_accuracy: 0.8798\n",
      "Epoch 19/20\n",
      "1500/1500 [==============================] - 4s 3ms/step - loss: 0.2357 - accuracy: 0.9192 - val_loss: 0.4250 - val_accuracy: 0.8853\n",
      "Epoch 20/20\n",
      "1500/1500 [==============================] - 4s 2ms/step - loss: 0.2324 - accuracy: 0.9220 - val_loss: 0.4535 - val_accuracy: 0.8831\n"
     ]
    }
   ],
   "source": [
    "model = model_fn()\n",
    "model.compile(optimizer='rmsprop', loss='sparse_categorical_crossentropy', metrics='accuracy')\n",
    "\n",
    "history = model.fit(train_scaled, train_target, epochs=20, verbose=1, \n",
    "                    validation_data=(val_scaled, val_target))"
   ]
  },
  {
   "cell_type": "code",
   "execution_count": 18,
   "metadata": {},
   "outputs": [
    {
     "data": {
      "image/png": "[encoded data removed]",
      "text/plain": [
       "<Figure size 432x288 with 1 Axes>"
      ]
     },
     "metadata": {
      "needs_background": "light"
     },
     "output_type": "display_data"
    }
   ],
   "source": [
    "plt.plot(history.history['loss'])\n",
    "plt.plot(history.history['val_loss'])\n",
    "plt.xlabel('epoch')\n",
    "plt.ylabel('loss')\n",
    "plt.legend(['train', 'val'])\n",
    "# plt.savefig('7_3-05', dpi=300)\n",
    "\n",
    "plt.show()"
   ]
  },
  {
   "cell_type": "markdown",
   "metadata": {},
   "source": [
    "---"
   ]
  },
  {
   "cell_type": "markdown",
   "metadata": {},
   "source": [
    "## 드롭아웃\n",
    "* 드롭아웃은 인공지능의 3대 거장 제프리 힌튼이 소개\n",
    "* 훈련 과정에서 층에 있는 일부 뉴런을 랜덤하게 꺼서(뉴런의 출력을 0으로 만들어) 과대적합을 막는다"
   ]
  },
  {
   "cell_type": "markdown",
   "metadata": {},
   "source": [
    "* 이전 층의 일부 뉴런이 랜덤하게 꺼지면, 특정 뉴런에 과대하게 의존하는 것을 줄일 수 있고 모든 입력에 대해 주의를 기울여야 한다\n",
    "* 일부 뉴런의 출력이 없을 수 있다는 것을 감안하면, 이 신경망은 더 안정적인 예측을 만들 수 있을 것이다"
   ]
  },
  {
   "cell_type": "code",
   "execution_count": 19,
   "metadata": {},
   "outputs": [
    {
     "name": "stdout",
     "output_type": "stream",
     "text": [
      "Model: \"sequential_5\"\n",
      "_________________________________________________________________\n",
      " Layer (type)                Output Shape              Param #   \n",
      "=================================================================\n",
      " flatten_5 (Flatten)         (None, 784)               0         \n",
      "                                                                 \n",
      " dense_10 (Dense)            (None, 100)               78500     \n",
      "                                                                 \n",
      " dropout (Dropout)           (None, 100)               0         \n",
      "                                                                 \n",
      " dense_11 (Dense)            (None, 10)                1010      \n",
      "                                                                 \n",
      "=================================================================\n",
      "Total params: 79,510\n",
      "Trainable params: 79,510\n",
      "Non-trainable params: 0\n",
      "_________________________________________________________________\n"
     ]
    }
   ],
   "source": [
    "# rate=0.3 : 0.7(70%)에 해당하는 노드들만 남겨두고 다 지워버리는 것\n",
    "model = model_fn(keras.layers.Dropout(0.3))\n",
    "\n",
    "model.summary()"
   ]
  },
  {
   "cell_type": "code",
   "execution_count": 20,
   "metadata": {},
   "outputs": [
    {
     "name": "stdout",
     "output_type": "stream",
     "text": [
      "Epoch 1/20\n",
      "1500/1500 [==============================] - 4s 2ms/step - loss: 0.5912 - accuracy: 0.7920 - val_loss: 0.4311 - val_accuracy: 0.8457\n",
      "Epoch 2/20\n",
      "1500/1500 [==============================] - 3s 2ms/step - loss: 0.4419 - accuracy: 0.8407 - val_loss: 0.3893 - val_accuracy: 0.8587\n",
      "Epoch 3/20\n",
      "1500/1500 [==============================] - 3s 2ms/step - loss: 0.4067 - accuracy: 0.8527 - val_loss: 0.3687 - val_accuracy: 0.8678\n",
      "Epoch 4/20\n",
      "1500/1500 [==============================] - 3s 2ms/step - loss: 0.3828 - accuracy: 0.8600 - val_loss: 0.3701 - val_accuracy: 0.8655\n",
      "Epoch 5/20\n",
      "1500/1500 [==============================] - 3s 2ms/step - loss: 0.3679 - accuracy: 0.8661 - val_loss: 0.3635 - val_accuracy: 0.8693\n",
      "Epoch 6/20\n",
      "1500/1500 [==============================] - 3s 2ms/step - loss: 0.3580 - accuracy: 0.8692 - val_loss: 0.3377 - val_accuracy: 0.8781\n",
      "Epoch 7/20\n",
      "1500/1500 [==============================] - 3s 2ms/step - loss: 0.3458 - accuracy: 0.8726 - val_loss: 0.3324 - val_accuracy: 0.8817\n",
      "Epoch 8/20\n",
      "1500/1500 [==============================] - 3s 2ms/step - loss: 0.3372 - accuracy: 0.8755 - val_loss: 0.3441 - val_accuracy: 0.8753\n",
      "Epoch 9/20\n",
      "1500/1500 [==============================] - 3s 2ms/step - loss: 0.3310 - accuracy: 0.8792 - val_loss: 0.3249 - val_accuracy: 0.8827\n",
      "Epoch 10/20\n",
      "1500/1500 [==============================] - 3s 2ms/step - loss: 0.3209 - accuracy: 0.8815 - val_loss: 0.3327 - val_accuracy: 0.8779\n",
      "Epoch 11/20\n",
      "1500/1500 [==============================] - 3s 2ms/step - loss: 0.3183 - accuracy: 0.8818 - val_loss: 0.3229 - val_accuracy: 0.8822\n",
      "Epoch 12/20\n",
      "1500/1500 [==============================] - 3s 2ms/step - loss: 0.3115 - accuracy: 0.8844 - val_loss: 0.3268 - val_accuracy: 0.8823\n",
      "Epoch 13/20\n",
      "1500/1500 [==============================] - 3s 2ms/step - loss: 0.3054 - accuracy: 0.8860 - val_loss: 0.3310 - val_accuracy: 0.8825\n",
      "Epoch 14/20\n",
      "1500/1500 [==============================] - 3s 2ms/step - loss: 0.3013 - accuracy: 0.8869 - val_loss: 0.3240 - val_accuracy: 0.8811\n",
      "Epoch 15/20\n",
      "1500/1500 [==============================] - 3s 2ms/step - loss: 0.2963 - accuracy: 0.8894 - val_loss: 0.3396 - val_accuracy: 0.8748\n",
      "Epoch 16/20\n",
      "1500/1500 [==============================] - 3s 2ms/step - loss: 0.2935 - accuracy: 0.8907 - val_loss: 0.3334 - val_accuracy: 0.8803\n",
      "Epoch 17/20\n",
      "1500/1500 [==============================] - 3s 2ms/step - loss: 0.2882 - accuracy: 0.8913 - val_loss: 0.3338 - val_accuracy: 0.8807\n",
      "Epoch 18/20\n",
      "1500/1500 [==============================] - 3s 2ms/step - loss: 0.2871 - accuracy: 0.8925 - val_loss: 0.3274 - val_accuracy: 0.8879\n",
      "Epoch 19/20\n",
      "1500/1500 [==============================] - 3s 2ms/step - loss: 0.2802 - accuracy: 0.8936 - val_loss: 0.3150 - val_accuracy: 0.8878\n",
      "Epoch 20/20\n",
      "1500/1500 [==============================] - 3s 2ms/step - loss: 0.2799 - accuracy: 0.8944 - val_loss: 0.3299 - val_accuracy: 0.8832\n"
     ]
    }
   ],
   "source": [
    "model.compile(optimizer='adam', loss='sparse_categorical_crossentropy', metrics='accuracy')\n",
    "\n",
    "history = model.fit(train_scaled, train_target, epochs=20, verbose=1, \n",
    "                    validation_data=(val_scaled, val_target))"
   ]
  },
  {
   "cell_type": "code",
   "execution_count": 21,
   "metadata": {},
   "outputs": [
    {
     "data": {
      "image/png": "[encoded data removed]",
      "text/plain": [
       "<Figure size 432x288 with 1 Axes>"
      ]
     },
     "metadata": {
      "needs_background": "light"
     },
     "output_type": "display_data"
    }
   ],
   "source": [
    "plt.plot(history.history['loss'])\n",
    "plt.plot(history.history['val_loss'])\n",
    "plt.xlabel('epoch')\n",
    "plt.ylabel('loss')\n",
    "plt.legend(['train', 'val'])\n",
    "# plt.savefig('7_3-05', dpi=300)\n",
    "\n",
    "plt.show()"
   ]
  },
  {
   "cell_type": "markdown",
   "metadata": {},
   "source": [
    "---"
   ]
  },
  {
   "cell_type": "markdown",
   "metadata": {},
   "source": [
    "## 모델 저장과 복원"
   ]
  },
  {
   "cell_type": "code",
   "execution_count": 22,
   "metadata": {},
   "outputs": [
    {
     "name": "stdout",
     "output_type": "stream",
     "text": [
      "Epoch 1/10\n",
      "1500/1500 [==============================] - 4s 2ms/step - loss: 0.5897 - accuracy: 0.7895 - val_loss: 0.4441 - val_accuracy: 0.8351\n",
      "Epoch 2/10\n",
      "1500/1500 [==============================] - 3s 2ms/step - loss: 0.4427 - accuracy: 0.8412 - val_loss: 0.3957 - val_accuracy: 0.8524\n",
      "Epoch 3/10\n",
      "1500/1500 [==============================] - 3s 2ms/step - loss: 0.4069 - accuracy: 0.8520 - val_loss: 0.3671 - val_accuracy: 0.8660\n",
      "Epoch 4/10\n",
      "1500/1500 [==============================] - 3s 2ms/step - loss: 0.3863 - accuracy: 0.8605 - val_loss: 0.3594 - val_accuracy: 0.8668\n",
      "Epoch 5/10\n",
      "1500/1500 [==============================] - 3s 2ms/step - loss: 0.3673 - accuracy: 0.8658 - val_loss: 0.3544 - val_accuracy: 0.8714\n",
      "Epoch 6/10\n",
      "1500/1500 [==============================] - 3s 2ms/step - loss: 0.3575 - accuracy: 0.8692 - val_loss: 0.3449 - val_accuracy: 0.8748\n",
      "Epoch 7/10\n",
      "1500/1500 [==============================] - 3s 2ms/step - loss: 0.3449 - accuracy: 0.8722 - val_loss: 0.3558 - val_accuracy: 0.8744\n",
      "Epoch 8/10\n",
      "1500/1500 [==============================] - 3s 2ms/step - loss: 0.3358 - accuracy: 0.8761 - val_loss: 0.3465 - val_accuracy: 0.8700\n",
      "Epoch 9/10\n",
      "1500/1500 [==============================] - 3s 2ms/step - loss: 0.3300 - accuracy: 0.8785 - val_loss: 0.3243 - val_accuracy: 0.8804\n",
      "Epoch 10/10\n",
      "1500/1500 [==============================] - 3s 2ms/step - loss: 0.3233 - accuracy: 0.8803 - val_loss: 0.3259 - val_accuracy: 0.8802\n"
     ]
    }
   ],
   "source": [
    "model = model_fn(keras.layers.Dropout(0.3))\n",
    "model.compile(optimizer='adam', loss='sparse_categorical_crossentropy', metrics='accuracy')\n",
    "\n",
    "history = model.fit(train_scaled, train_target, epochs=10, verbose=1, \n",
    "                    validation_data=(val_scaled, val_target))"
   ]
  },
  {
   "cell_type": "code",
   "execution_count": 23,
   "metadata": {},
   "outputs": [
    {
     "name": "stdout",
     "output_type": "stream",
     "text": [
      "Model: \"sequential_6\"\n",
      "_________________________________________________________________\n",
      " Layer (type)                Output Shape              Param #   \n",
      "=================================================================\n",
      " flatten_6 (Flatten)         (None, 784)               0         \n",
      "                                                                 \n",
      " dense_12 (Dense)            (None, 100)               78500     \n",
      "                                                                 \n",
      " dropout_1 (Dropout)         (None, 100)               0         \n",
      "                                                                 \n",
      " dense_13 (Dense)            (None, 10)                1010      \n",
      "                                                                 \n",
      "=================================================================\n",
      "Total params: 79,510\n",
      "Trainable params: 79,510\n",
      "Non-trainable params: 0\n",
      "_________________________________________________________________\n"
     ]
    }
   ],
   "source": [
    "model.summary()"
   ]
  },
  {
   "cell_type": "code",
   "execution_count": 24,
   "metadata": {},
   "outputs": [
    {
     "data": {
      "text/plain": [
       "[<tf.Variable 'dense_12/kernel:0' shape=(784, 100) dtype=float32, numpy=\n",
       " array([[-0.17507866, -0.06548321,  0.01027568, ..., -0.05089957,\n",
       "          0.14770848, -0.24121247],\n",
       "        [ 0.16268638,  0.03085833, -0.18049978, ...,  0.28757873,\n",
       "          0.33682755, -0.07272613],\n",
       "        [ 0.11980955,  0.05146995, -0.03522272, ..., -0.11527837,\n",
       "          0.24584322,  0.0774897 ],\n",
       "        ...,\n",
       "        [ 0.11740404, -0.02669111, -0.14031811, ...,  0.07288112,\n",
       "         -0.0057454 ,  0.00932602],\n",
       "        [-0.01220272, -0.00837676, -0.21880797, ..., -0.03263787,\n",
       "          0.43482366, -0.2287037 ],\n",
       "        [-0.10453478,  0.01128627, -0.16020152, ...,  0.01708207,\n",
       "          0.21277633, -0.32343975]], dtype=float32)>,\n",
       " <tf.Variable 'dense_12/bias:0' shape=(100,) dtype=float32, numpy=\n",
       " array([ 0.07106474, -0.01864074, -0.09386887,  0.32875767,  0.19478117,\n",
       "         0.06138681, -0.01409778, -0.06749169,  0.46668708, -0.01577993,\n",
       "         0.33602118, -0.012518  , -0.28428155,  0.30928722,  0.25416043,\n",
       "        -0.01474376,  0.24673094,  0.17579488,  0.33628744, -0.2651557 ,\n",
       "        -0.01641096,  0.04738873,  0.23536962, -0.00588519,  0.06659626,\n",
       "         0.52513176, -0.30858105,  0.10312798,  0.29985762,  0.09376644,\n",
       "        -0.23921537, -0.5049872 ,  0.6261351 ,  0.23797153, -0.01982177,\n",
       "         0.37917602,  0.4017615 ,  0.45570895, -0.02789749,  0.25970867,\n",
       "         0.3943708 ,  0.01303176,  0.2993437 , -0.25633523, -0.03189964,\n",
       "         0.44168264,  0.66394585,  0.25545993, -0.08536322, -0.01194661,\n",
       "         0.4207013 ,  0.16048613,  0.05959666,  1.0556602 ,  0.14825308,\n",
       "         0.33872738,  0.7967504 ,  0.14671937,  0.21310285, -0.44283655,\n",
       "         0.0952006 ,  0.34056878,  0.08457975,  0.15339647,  0.650564  ,\n",
       "        -0.4836003 ,  0.08519363,  0.4611394 , -0.01135637,  0.26504502,\n",
       "         0.06844316,  0.08330033, -0.09360538, -0.03809275,  0.48779818,\n",
       "         0.20083599,  0.50007874,  0.22103512, -0.11042972,  0.431351  ,\n",
       "         0.2799401 , -0.04255463, -0.11427881,  0.4315989 , -0.12263024,\n",
       "         0.48541802, -0.11147795,  0.06286451,  0.20220605, -0.01068815,\n",
       "        -0.01281404,  0.00961195, -0.62534297,  0.06790385,  0.6534116 ,\n",
       "        -0.02080301,  0.32768884,  0.34454063,  0.19144377,  0.41583917],\n",
       "       dtype=float32)>,\n",
       " <tf.Variable 'dense_13/kernel:0' shape=(100, 10) dtype=float32, numpy=\n",
       " array([[ 1.58774063e-01,  3.38704467e-01,  1.69852600e-01,\n",
       "         -1.06678838e-02, -4.62904610e-02, -2.68204957e-01,\n",
       "         -1.45826548e-01, -1.16186452e+00, -6.97508454e-02,\n",
       "         -3.95424634e-01],\n",
       "        [-2.01917589e-01,  8.31307545e-02,  5.78630343e-02,\n",
       "         -3.49597819e-02,  1.27284139e-01, -1.04805551e-01,\n",
       "         -1.05957747e-01,  1.99097648e-01,  1.09698370e-01,\n",
       "          7.09453672e-02],\n",
       "        [-3.58716071e-01,  6.79381490e-02,  7.16184527e-02,\n",
       "          1.03902824e-01,  2.23475993e-01,  3.86713088e-01,\n",
       "         -1.83930416e-02, -4.69749540e-01, -1.47292987e-01,\n",
       "         -7.91432202e-01],\n",
       "        [-1.17974930e-01,  3.47447634e-01, -3.26751590e-01,\n",
       "         -4.72474396e-01, -4.35464323e-01,  2.07621157e-01,\n",
       "         -5.84253311e-01,  2.54125059e-01, -6.51541591e-01,\n",
       "          2.81246185e-01],\n",
       "        [-5.73523827e-02, -3.18265140e-01,  9.10464153e-02,\n",
       "         -2.47700602e-01,  8.25625584e-02, -2.50630140e-01,\n",
       "          2.56046534e-01,  9.79747972e-04,  9.74543616e-02,\n",
       "         -1.57411546e-01],\n",
       "        [ 8.05942416e-02,  8.29712152e-02, -1.38809690e-02,\n",
       "         -1.60693929e-01, -2.85323650e-01,  2.63550311e-01,\n",
       "          1.53021351e-01, -3.57630521e-01, -3.25068921e-01,\n",
       "          2.56216735e-01],\n",
       "        [-8.74130055e-02, -1.69333220e-01,  1.40568614e-01,\n",
       "          9.95956808e-02,  2.10888907e-01, -1.43282846e-01,\n",
       "         -1.76760390e-01, -2.20913097e-01, -1.10409401e-01,\n",
       "          1.12220608e-01],\n",
       "        [-9.07834899e-03,  5.93827516e-02, -1.21661276e-01,\n",
       "         -1.90030485e-01,  2.20231805e-02,  8.17133188e-02,\n",
       "          3.87385100e-01, -6.37736082e-01,  2.74698913e-01,\n",
       "          1.17637917e-01],\n",
       "        [ 7.28883315e-03, -4.19663973e-02,  1.52846262e-01,\n",
       "         -1.55919477e-01, -2.02383459e-01,  1.40057266e-01,\n",
       "          1.15730353e-01, -4.86477643e-01,  3.11506510e-01,\n",
       "         -5.30280054e-01],\n",
       "        [ 1.18311383e-01,  3.26152444e-02, -9.58556905e-02,\n",
       "          1.03718210e-02,  1.20578945e-01, -6.28712699e-02,\n",
       "          3.48898433e-02,  1.29247442e-01, -2.06792533e-01,\n",
       "          1.20256603e-01],\n",
       "        [ 4.16266825e-03, -7.84275949e-01,  2.21194103e-01,\n",
       "         -2.30594173e-01, -8.73125717e-02, -2.34028637e-01,\n",
       "          2.47171018e-02,  1.94081530e-01, -1.67356700e-01,\n",
       "         -2.66285598e-01],\n",
       "        [-1.90570101e-01,  5.59628978e-02, -1.41965613e-01,\n",
       "          7.80607089e-02,  1.11764930e-01, -1.62822545e-01,\n",
       "         -1.38823241e-01, -7.89438486e-02, -1.76590741e-01,\n",
       "          1.66343302e-02],\n",
       "        [-1.12513550e-01,  2.94253141e-01, -1.64378405e-01,\n",
       "          7.72055537e-02, -1.01671644e-01, -2.78447360e-01,\n",
       "         -2.15616807e-01, -9.98891424e-03,  4.27333295e-01,\n",
       "          8.27026516e-02],\n",
       "        [ 2.26477087e-01, -3.64834577e-01, -3.80418509e-01,\n",
       "         -7.86346942e-02, -4.64620680e-01,  1.06609799e-01,\n",
       "         -5.83071150e-02,  2.15079546e-01, -5.09460688e-01,\n",
       "          2.46831521e-01],\n",
       "        [ 2.40713462e-01,  1.64492298e-02, -5.74791074e-01,\n",
       "         -8.98996741e-02, -6.42583907e-01, -3.80303562e-01,\n",
       "          2.26329267e-02, -8.26076269e-01, -4.11541998e-01,\n",
       "         -5.51423490e-01],\n",
       "        [-1.01380676e-01, -5.16780429e-02, -1.95507720e-01,\n",
       "         -1.41497523e-01, -1.16826788e-01, -1.94493860e-01,\n",
       "          1.26850337e-01, -6.69475123e-02,  2.07438678e-01,\n",
       "         -5.23287803e-02],\n",
       "        [ 1.64754674e-01, -4.07160074e-01, -1.75907269e-01,\n",
       "          6.30220622e-02,  1.08611256e-01, -8.17484021e-01,\n",
       "          2.13647559e-01,  8.92065316e-02,  4.87974565e-03,\n",
       "         -5.42458653e-01],\n",
       "        [ 2.40575597e-01,  2.56338984e-01, -4.72288400e-01,\n",
       "         -9.57247242e-02, -1.49768323e-01,  1.81204259e-01,\n",
       "          2.17368945e-01, -7.42180586e-01, -2.41159081e-01,\n",
       "         -5.18660009e-01],\n",
       "        [ 2.11438879e-01, -4.48024869e-01,  1.15527481e-01,\n",
       "         -1.16282336e-01, -2.78494805e-01, -1.60436213e-01,\n",
       "          2.25230440e-01, -1.30244702e-01,  2.06606537e-01,\n",
       "          1.40344918e-01],\n",
       "        [-4.45278168e-01, -4.09506401e-03, -4.01808202e-01,\n",
       "          2.04702578e-02,  6.58848137e-02, -3.71725380e-01,\n",
       "         -4.75669861e-01,  1.56765252e-01, -1.48805529e-01,\n",
       "          1.32547945e-01],\n",
       "        [ 1.02296874e-01, -2.16038242e-01, -1.91337854e-01,\n",
       "          6.64203167e-02, -1.84550345e-01, -1.25380233e-01,\n",
       "         -4.72786650e-02, -1.48198947e-01, -4.41827849e-02,\n",
       "          2.12170869e-01],\n",
       "        [-9.24196243e-02,  1.56484231e-01,  8.53018165e-02,\n",
       "          5.44593707e-02,  1.13805801e-01, -1.09757304e+00,\n",
       "          1.06472962e-01, -7.69518733e-01, -7.99766406e-02,\n",
       "         -4.41169143e-01],\n",
       "        [ 2.73681223e-01, -3.66498619e-01,  1.85251553e-02,\n",
       "         -1.14241101e-01,  1.72112763e-01, -7.98320413e-01,\n",
       "          2.69506186e-01, -9.76865053e-01, -1.09817475e-01,\n",
       "         -4.10975486e-01],\n",
       "        [ 5.72328791e-02, -3.85606319e-01, -1.33119524e-01,\n",
       "         -1.85265794e-01,  2.46598899e-01,  2.19068453e-02,\n",
       "         -3.14363986e-01,  3.21771234e-01, -1.12762436e-01,\n",
       "         -3.61445546e-02],\n",
       "        [-2.80800700e-01,  1.29785389e-01, -3.98233831e-02,\n",
       "          2.84723546e-02,  6.93148002e-02,  1.00228645e-01,\n",
       "         -4.64946538e-01, -9.03616399e-02,  2.84213454e-01,\n",
       "         -2.07410738e-01],\n",
       "        [ 3.95358540e-02, -6.00330651e-01, -5.28743386e-01,\n",
       "         -1.03720355e+00, -3.91855925e-01,  6.90774381e-01,\n",
       "         -6.83292449e-01, -1.43873945e-01, -3.27415645e-01,\n",
       "         -4.46750313e-01],\n",
       "        [-1.29889727e-01,  3.48664761e-01,  1.02585778e-01,\n",
       "         -1.33343175e-01,  1.31739900e-01, -1.33815944e-01,\n",
       "         -1.04971603e-01, -5.58399141e-01, -6.94648325e-02,\n",
       "         -7.63166428e-01],\n",
       "        [ 1.44779924e-02,  1.50379539e-01, -1.08201802e-01,\n",
       "          4.67306077e-02,  9.82068852e-02, -5.78530073e-01,\n",
       "         -1.98471516e-01, -1.41451192e+00, -2.55972464e-02,\n",
       "         -3.58292401e-01],\n",
       "        [ 2.22508624e-01,  4.87761348e-02,  1.73627827e-02,\n",
       "          2.03315124e-01, -2.49470040e-01, -2.56643236e-01,\n",
       "          2.32192948e-01,  1.73078701e-01, -3.21582854e-01,\n",
       "          6.66243285e-02],\n",
       "        [-8.65131542e-02, -7.15378106e-01, -9.09074247e-02,\n",
       "          1.46085754e-01, -1.68537110e-01, -2.01629773e-01,\n",
       "          1.24921560e-01,  6.86091334e-02, -3.60606194e-01,\n",
       "          2.01228142e-01],\n",
       "        [-6.08980283e-02, -5.13719246e-02, -4.84465389e-03,\n",
       "         -1.47535980e-01,  8.34666789e-02, -5.47148921e-02,\n",
       "         -1.92119300e-01, -4.06377643e-01,  1.66524127e-01,\n",
       "         -6.65781558e-01],\n",
       "        [-3.32766593e-01, -3.26156735e-01,  3.70410047e-02,\n",
       "         -2.37501506e-03,  1.26653150e-01, -1.13404833e-01,\n",
       "         -8.93986225e-02,  2.90736910e-02,  3.06484941e-02,\n",
       "          1.63946167e-01],\n",
       "        [ 2.27871254e-01, -2.38223284e-01, -2.14886144e-01,\n",
       "          1.22879758e-01, -3.41885239e-01,  2.49095127e-01,\n",
       "          1.63247719e-01, -7.03928769e-01, -1.46784484e-01,\n",
       "          1.54880598e-01],\n",
       "        [-4.34265941e-01, -1.37001008e-01, -1.93516597e-01,\n",
       "          1.15460254e-01, -1.56037942e-01,  1.25712469e-01,\n",
       "         -2.54706353e-01,  1.35226324e-01,  1.96910799e-01,\n",
       "          1.51323497e-01],\n",
       "        [-3.86996657e-01, -6.75203979e-01,  1.36719942e-02,\n",
       "         -2.12096140e-01,  6.04202561e-02, -7.71106333e-02,\n",
       "          4.38305214e-02, -7.93012679e-01, -2.99147069e-01,\n",
       "         -4.64202166e-01],\n",
       "        [-1.57293990e-01, -1.27901569e-01, -1.28314242e-01,\n",
       "          2.13050619e-01,  1.77008897e-01,  3.74009818e-01,\n",
       "         -1.10280849e-01, -7.28915155e-01, -1.54365182e-01,\n",
       "         -7.37340033e-01],\n",
       "        [ 1.72064349e-01, -4.91218925e-01, -2.63171464e-01,\n",
       "          2.06985518e-01, -4.86533679e-02,  2.56103247e-01,\n",
       "          1.31218657e-01, -4.38056350e-01, -3.50861400e-01,\n",
       "         -2.91820951e-02],\n",
       "        [-3.14873576e-01, -2.30789155e-01, -1.84376240e-01,\n",
       "         -5.93531847e-01, -2.95435321e-02,  5.82420707e-01,\n",
       "         -3.33530366e-01, -1.46757409e-01,  3.67853492e-01,\n",
       "         -5.52893341e-01],\n",
       "        [-9.34449956e-03,  1.39559761e-01, -1.73169285e-01,\n",
       "          9.79435965e-02,  4.84985076e-02, -1.08879901e-01,\n",
       "         -6.01458251e-02,  1.23822793e-01, -9.19270292e-02,\n",
       "          2.16327429e-01],\n",
       "        [-1.96099788e-01, -5.24363697e-01,  2.07499310e-01,\n",
       "         -8.77970085e-02, -4.62290019e-01,  2.68117934e-01,\n",
       "         -2.18891159e-01, -2.29714200e-01,  1.25270933e-01,\n",
       "          2.57531464e-01],\n",
       "        [-5.45665979e-01, -8.99573267e-02, -7.48818934e-01,\n",
       "         -7.43726075e-01,  6.07154667e-02,  3.95090461e-01,\n",
       "         -5.77749550e-01, -4.67343807e-01, -6.48610055e-01,\n",
       "          1.49406984e-01],\n",
       "        [ 1.65466711e-01,  1.79830208e-01,  4.86737154e-02,\n",
       "         -2.87124030e-02, -1.34869590e-01,  1.30799010e-01,\n",
       "         -1.30916879e-01, -1.76345855e-01, -2.44945958e-01,\n",
       "         -4.62082252e-02],\n",
       "        [ 2.14164138e-01, -9.66976702e-01, -4.34729457e-01,\n",
       "         -1.07101440e+00, -4.23213243e-02,  5.83304226e-01,\n",
       "         -4.17767107e-01, -4.27366614e-01, -6.44711912e-01,\n",
       "         -5.27962267e-01],\n",
       "        [ 8.60283524e-03,  1.09934166e-01,  1.03311256e-01,\n",
       "         -6.86193645e-01,  1.25272378e-01, -3.37632000e-01,\n",
       "          3.78667675e-02, -3.25594008e-01,  2.22011637e-02,\n",
       "          5.66898622e-02],\n",
       "        [ 1.20765120e-01, -2.71048360e-02,  1.10563554e-01,\n",
       "         -2.41740778e-01,  1.47777826e-01, -1.73869118e-01,\n",
       "         -2.81489819e-01,  2.13633984e-01, -5.41652739e-03,\n",
       "          2.02210724e-01],\n",
       "        [-1.82353586e-01, -5.23265421e-01, -2.79914349e-01,\n",
       "          2.58536607e-01,  1.77178189e-01,  2.80993283e-01,\n",
       "          1.93461508e-01,  1.63948923e-01, -3.87952447e-01,\n",
       "         -5.72562993e-01],\n",
       "        [-2.62617618e-01, -4.16626275e-01, -9.41040456e-01,\n",
       "         -6.28866255e-01, -7.03865349e-01,  1.45241976e-01,\n",
       "         -6.39635444e-01,  1.50035352e-01, -6.86553776e-01,\n",
       "          1.78921759e-01],\n",
       "        [ 7.35370815e-02, -5.61684370e-01, -1.87365681e-01,\n",
       "         -1.54752445e+00,  1.41198248e-01,  4.35047656e-01,\n",
       "         -1.19143419e-01, -5.16449571e-01, -6.33393049e-01,\n",
       "          4.33243439e-02],\n",
       "        [-1.74361452e-01,  5.64349115e-01, -7.10887834e-02,\n",
       "         -2.37812370e-01, -4.04046714e-01,  4.50264402e-02,\n",
       "         -2.74302624e-02,  1.18508480e-01,  2.69353122e-01,\n",
       "          1.26394272e-01],\n",
       "        [ 1.97225630e-01,  1.38034701e-01, -2.03181282e-01,\n",
       "         -1.91303954e-01, -3.41855623e-02, -7.44433254e-02,\n",
       "         -1.23078749e-01, -1.69032842e-01, -2.51358887e-03,\n",
       "          9.63106155e-02],\n",
       "        [ 3.82862687e-02, -2.03279212e-01, -2.88026392e-01,\n",
       "         -4.89353240e-01, -3.50604773e-01,  2.13489428e-01,\n",
       "         -6.41237736e-01,  1.79841205e-01,  3.70666474e-01,\n",
       "         -2.26949081e-01],\n",
       "        [-2.97249496e-01, -5.66224098e-01,  2.48743057e-01,\n",
       "         -4.27680194e-01,  1.78505808e-01, -6.84195906e-02,\n",
       "         -1.25940785e-01,  1.36432633e-01,  1.81428894e-01,\n",
       "         -1.63589463e-01],\n",
       "        [-3.27990443e-01, -1.57804385e-01, -1.22492269e-01,\n",
       "         -5.07794142e-01, -3.77399057e-01,  9.30723920e-02,\n",
       "         -2.15492234e-01,  1.64268807e-01, -1.51936740e-01,\n",
       "          1.95864484e-01],\n",
       "        [-4.26565558e-01, -3.43449175e-01, -6.89413667e-01,\n",
       "         -1.03539038e+00, -8.65715206e-01,  2.29219541e-01,\n",
       "         -9.80102956e-01,  3.43955696e-01, -5.94091773e-01,\n",
       "         -1.83627397e-01],\n",
       "        [-1.95657402e-01, -1.05855517e-01,  1.74409956e-01,\n",
       "         -3.68094146e-02,  2.00230360e-01,  1.37123531e-02,\n",
       "          1.76342115e-01, -8.19388866e-01,  1.59288559e-03,\n",
       "         -8.04187477e-01],\n",
       "        [ 2.10592058e-02, -2.10532006e-02,  2.79716849e-01,\n",
       "         -5.33841133e-01, -2.91275918e-01,  4.89111871e-01,\n",
       "         -1.54070213e-01, -6.98678017e-01,  1.02759831e-01,\n",
       "         -2.78170139e-01],\n",
       "        [-5.66277146e-01, -8.84929955e-01, -1.33848536e+00,\n",
       "         -1.71750998e+00, -1.37236869e+00,  1.78166077e-01,\n",
       "         -1.13348269e+00,  1.61912009e-01, -7.67466068e-01,\n",
       "          1.98026121e-01],\n",
       "        [ 2.19758227e-01, -3.92885417e-01,  2.82313019e-01,\n",
       "          1.63573191e-01,  1.22998267e-01, -7.27730930e-01,\n",
       "          2.41249632e-02, -1.06900573e-01, -2.14384526e-01,\n",
       "         -9.35794890e-01],\n",
       "        [-1.13904081e-01,  3.11097920e-01,  1.72793821e-01,\n",
       "          1.26764804e-01, -1.02194734e-01, -9.35387313e-01,\n",
       "         -1.92121521e-01, -1.29753947e+00, -4.08410043e-01,\n",
       "         -3.45994383e-01],\n",
       "        [-3.05965722e-01,  3.31096798e-01, -2.91784797e-02,\n",
       "          8.86534154e-02, -1.61201358e-02, -1.35481238e-01,\n",
       "         -2.77841389e-01,  9.32168290e-02,  1.85767055e-01,\n",
       "          1.32408097e-01],\n",
       "        [-4.85084236e-01, -7.05901206e-01, -7.11298883e-01,\n",
       "         -4.50600564e-01, -5.84434688e-01,  1.61998391e-01,\n",
       "         -5.77884866e-03,  2.20812485e-01, -7.86951184e-01,\n",
       "          2.43856743e-01],\n",
       "        [-8.49368870e-02,  5.48409522e-01,  4.16523442e-02,\n",
       "         -4.58684675e-02, -6.55680746e-02,  5.26595235e-01,\n",
       "         -2.67071724e-01, -5.84982991e-01, -3.80701035e-01,\n",
       "         -7.76370585e-01],\n",
       "        [ 1.68813124e-01,  6.40416369e-02,  1.68514103e-01,\n",
       "         -5.23584113e-02,  1.16593555e-01, -5.95741928e-01,\n",
       "         -2.24056989e-02, -1.18524998e-01,  3.12665075e-01,\n",
       "         -4.44010586e-01],\n",
       "        [ 1.06983945e-01, -2.99477339e-01,  1.37159511e-01,\n",
       "          1.16238751e-01, -1.01898015e-01, -7.74060711e-02,\n",
       "          1.03663551e-02, -4.09515023e-01,  2.28262410e-01,\n",
       "         -1.48793027e-01],\n",
       "        [ 2.01881886e-01, -4.56959367e-01,  1.56920418e-01,\n",
       "          1.10827558e-01, -4.87154573e-02, -1.86143711e-01,\n",
       "          1.66908517e-01, -8.47198248e-01, -1.09435327e-01,\n",
       "         -9.08592105e-01],\n",
       "        [-7.90288392e-03,  2.79919934e-02,  5.99150360e-02,\n",
       "         -1.04377419e-02,  9.73930359e-02, -2.94474661e-01,\n",
       "         -1.93986744e-01,  2.62527000e-02, -5.37177980e-01,\n",
       "          6.86098710e-02],\n",
       "        [-1.09034553e-01,  3.05719107e-01, -4.03036326e-01,\n",
       "          3.34329486e-01, -4.60931242e-01, -7.76097715e-01,\n",
       "          7.13191628e-02, -6.00188136e-01, -2.80032128e-01,\n",
       "         -2.04947025e-01],\n",
       "        [-1.33895785e-01, -3.37243438e-01,  1.00366160e-01,\n",
       "         -5.97865403e-01,  1.10474601e-01, -5.15419580e-02,\n",
       "          8.92757550e-02,  1.17791720e-01, -6.59669816e-01,\n",
       "         -3.46313059e-01],\n",
       "        [ 2.17524841e-02, -2.63057679e-01,  1.49930090e-01,\n",
       "         -1.71717092e-01,  1.87137499e-01, -1.03331238e-01,\n",
       "          1.76047757e-01, -4.30320889e-01,  1.21611454e-01,\n",
       "         -1.11705385e-01],\n",
       "        [-4.04753387e-02,  1.29145458e-01, -3.49670202e-01,\n",
       "          2.17826277e-01, -1.20045006e-01, -2.23863408e-01,\n",
       "         -2.54239500e-01, -6.24620914e-01,  5.04368469e-02,\n",
       "         -4.35905844e-01],\n",
       "        [ 2.33830083e-02, -4.28966463e-01,  2.25589186e-01,\n",
       "          2.00420365e-01, -1.13143511e-01, -7.80123025e-02,\n",
       "         -9.42339972e-02,  2.38442212e-01,  1.80381805e-01,\n",
       "          1.69376820e-01],\n",
       "        [ 7.61178434e-02, -3.47862899e-01,  1.36621282e-01,\n",
       "         -1.61415130e-01,  9.31418687e-02, -2.86033332e-01,\n",
       "          1.10490091e-01, -5.13892546e-02,  1.72836378e-01,\n",
       "         -3.13711464e-01],\n",
       "        [-6.09564841e-01,  4.25578237e-01, -3.90725017e-01,\n",
       "         -4.30475056e-01, -5.49723268e-01,  2.72742901e-02,\n",
       "         -4.77066815e-01,  2.96267420e-01, -5.46417058e-01,\n",
       "          3.17709029e-01],\n",
       "        [ 1.67427942e-01,  1.51851028e-01,  6.52443618e-02,\n",
       "         -1.40790015e-01,  7.79127628e-02, -5.48077114e-02,\n",
       "          8.86312053e-02, -5.56329750e-02, -1.68570831e-01,\n",
       "         -1.84970558e-01],\n",
       "        [ 3.27103771e-02, -6.72327936e-01, -3.53950530e-01,\n",
       "         -3.56764466e-01, -7.53299519e-02,  1.54980496e-01,\n",
       "          1.77418128e-01,  2.02994302e-01,  2.34080687e-01,\n",
       "         -5.54313898e-01],\n",
       "        [-6.87519312e-02, -5.80798030e-01, -5.67679882e-01,\n",
       "         -8.79051089e-01, -6.18136287e-01,  5.76582909e-01,\n",
       "         -3.50757390e-01, -4.34135407e-01, -4.96681303e-01,\n",
       "         -1.32297039e+00],\n",
       "        [ 1.01244047e-01,  1.73280060e-01,  1.52655020e-01,\n",
       "          5.52648306e-02,  4.64887805e-02,  6.03203066e-02,\n",
       "         -2.52467573e-01,  2.07985982e-01, -5.68474770e-01,\n",
       "         -3.46125811e-01],\n",
       "        [-6.46435022e-01,  5.12696683e-01, -5.28831899e-01,\n",
       "         -4.53239501e-01, -4.52054918e-01,  4.92490411e-01,\n",
       "         -6.68835714e-02,  8.72774273e-02, -6.11973345e-01,\n",
       "         -5.02889752e-01],\n",
       "        [-4.02283877e-01,  4.95527774e-01, -8.42730224e-01,\n",
       "         -5.30062430e-02,  2.18123600e-01, -3.86906356e-01,\n",
       "         -2.38736734e-01, -9.92792189e-01,  2.00745091e-01,\n",
       "         -5.76154232e-01],\n",
       "        [ 1.60661176e-01,  1.99606583e-01, -5.43925107e-01,\n",
       "          1.94493890e-01, -1.84628174e-01, -6.21809125e-01,\n",
       "         -1.92899816e-02, -1.47425795e+00, -2.24533871e-01,\n",
       "         -8.19495499e-01],\n",
       "        [-5.54183304e-01, -2.98794895e-01, -1.59900505e-02,\n",
       "         -5.48596144e-01,  4.39112633e-02,  7.29773402e-01,\n",
       "          1.48446579e-02, -1.56185746e-01, -3.53741944e-01,\n",
       "         -3.32029611e-01],\n",
       "        [ 1.51945964e-01, -3.27008277e-01, -4.86038066e-02,\n",
       "         -2.06481606e-01, -2.26613283e-01, -1.97083026e-01,\n",
       "          1.35418355e-01, -9.73046869e-02,  2.68889517e-01,\n",
       "         -8.58934671e-02],\n",
       "        [-3.08374137e-01, -2.24345550e-01, -1.38630196e-01,\n",
       "          2.29765564e-01,  1.92144156e-01, -5.26569724e-01,\n",
       "          2.66527742e-01, -6.08317852e-01, -3.84373099e-01,\n",
       "          1.39557585e-01],\n",
       "        [ 1.68845862e-01,  8.06432217e-02, -2.35624477e-01,\n",
       "          1.47419155e-01, -2.64751852e-01, -7.52957404e-01,\n",
       "          1.74420863e-01, -1.36138976e+00, -4.54844147e-01,\n",
       "         -9.42601502e-01],\n",
       "        [-1.67169943e-01, -3.40835541e-01, -5.81832945e-01,\n",
       "         -5.03094673e-01, -3.92985791e-01,  6.74813911e-02,\n",
       "         -4.36698288e-01,  6.81522638e-02,  2.39658445e-01,\n",
       "          1.31259099e-01],\n",
       "        [-3.34538102e-01, -2.68258095e-01, -4.34922874e-02,\n",
       "          5.11701405e-01, -5.51537693e-01,  9.08085704e-02,\n",
       "         -2.75022149e-01,  2.90863395e-01,  2.99466610e-01,\n",
       "         -4.45865184e-01],\n",
       "        [ 2.36142591e-01, -3.34064275e-01,  2.26125985e-01,\n",
       "         -2.69549638e-01, -7.00325966e-02, -2.59932846e-01,\n",
       "          1.01732723e-01, -5.66950925e-02, -2.38453358e-01,\n",
       "          2.25708067e-01],\n",
       "        [ 9.82852578e-02, -3.13164592e-01, -4.08571176e-02,\n",
       "         -5.51929921e-02,  8.97295475e-02,  6.27088770e-02,\n",
       "          7.70646036e-02, -2.87058651e-01,  1.78431049e-01,\n",
       "         -5.15164793e-01],\n",
       "        [-2.67984360e-01,  2.80456487e-02, -1.25092760e-01,\n",
       "          7.63623267e-02,  6.72967061e-02, -4.51563120e-01,\n",
       "         -3.51358682e-01,  2.77345538e-01, -1.85402691e-01,\n",
       "         -3.42474282e-01],\n",
       "        [ 7.65048414e-02,  1.09402701e-01,  7.70527348e-02,\n",
       "          8.93423632e-02,  1.16746254e-01, -1.11062407e+00,\n",
       "          8.66350606e-02, -3.49541903e-01, -1.68917999e-01,\n",
       "         -6.47991002e-01],\n",
       "        [ 1.73362687e-01, -1.06575064e-01,  1.20474519e-02,\n",
       "         -1.55838775e-02,  2.22045183e-01, -1.88084543e-01,\n",
       "         -5.56881055e-02, -9.26255137e-02, -1.42852038e-01,\n",
       "         -1.86883926e-01],\n",
       "        [-3.29760522e-01, -5.05511556e-03, -4.64010209e-01,\n",
       "         -5.56554310e-02, -4.17827278e-01,  1.56003073e-01,\n",
       "         -4.37735260e-01, -1.79608122e-01, -2.76765138e-01,\n",
       "          1.98402539e-01],\n",
       "        [ 9.21464711e-02, -3.14993441e-01, -1.71556741e-01,\n",
       "         -4.59051758e-01,  1.23841763e-01,  4.67164889e-02,\n",
       "         -5.85259497e-02, -1.76182330e-01,  2.91200310e-01,\n",
       "          1.21538959e-01],\n",
       "        [ 1.77768126e-01, -1.70899764e-01,  1.74780458e-01,\n",
       "          1.32267952e-01,  1.83711484e-01, -5.56690931e-01,\n",
       "          1.89795956e-01, -7.03468263e-01,  9.98234823e-02,\n",
       "         -3.91498864e-01],\n",
       "        [ 1.04693621e-01, -9.98356342e-01,  1.23855829e-01,\n",
       "         -3.96223873e-01, -3.82702261e-01,  3.26752841e-01,\n",
       "          5.42306565e-02, -2.26454288e-01, -2.25980192e-01,\n",
       "         -9.25911486e-01],\n",
       "        [ 1.06236741e-01, -6.06156513e-02,  5.27447313e-02,\n",
       "          1.79219738e-01,  2.07499608e-01, -1.03871711e-01,\n",
       "          1.22384638e-01,  2.05767900e-01,  9.75905731e-02,\n",
       "          1.43917859e-01],\n",
       "        [-3.06081116e-01, -1.35749653e-01, -8.38207304e-02,\n",
       "          2.73162246e-01,  3.76245975e-02,  1.74615994e-01,\n",
       "         -2.57270098e-01, -4.51729536e-01,  4.80320096e-01,\n",
       "         -3.69578838e-01],\n",
       "        [-3.51243287e-01, -4.20899838e-01, -4.17520195e-01,\n",
       "          1.77630052e-01, -2.88018852e-01,  1.92326441e-01,\n",
       "         -4.10966903e-01,  2.59100169e-01,  2.02032432e-01,\n",
       "          2.73941368e-01],\n",
       "        [-1.47499233e-01, -2.11644098e-01,  6.25122339e-02,\n",
       "          7.34373555e-02,  8.68891552e-02, -1.01503201e-01,\n",
       "          1.10615037e-01, -6.95848465e-01, -4.51918334e-01,\n",
       "         -5.30881166e-01],\n",
       "        [ 4.16014455e-02, -6.95519924e-01, -3.40094090e-01,\n",
       "         -3.16091001e-01, -5.68926156e-01,  9.17869285e-02,\n",
       "         -1.45247117e-01,  2.19714284e-01,  1.22086927e-01,\n",
       "         -2.05325454e-01]], dtype=float32)>,\n",
       " <tf.Variable 'dense_13/bias:0' shape=(10,) dtype=float32, numpy=\n",
       " array([ 0.09868444, -0.5481871 ,  0.12562373,  0.30687916, -0.2953039 ,\n",
       "        -0.03426767,  0.28043935,  0.21908517, -0.16888517, -0.62850994],\n",
       "       dtype=float32)>]"
      ]
     },
     "execution_count": 24,
     "metadata": {},
     "output_type": "execute_result"
    }
   ],
   "source": [
    "model.weights"
   ]
  },
  {
   "cell_type": "markdown",
   "metadata": {},
   "source": [
    "### save_weights()\n",
    "\n",
    "* 케라스 모델은 훈련된 모델의 파라미터를 저장하는 간편한 save_weights() 메서드를 제공\n",
    "* 텐서플로의 체크포인트 포맷으로 저장하지만, 파일의 확장자가 h5일 경우 HDF5 포맷으로 저장"
   ]
  },
  {
   "cell_type": "code",
   "execution_count": 25,
   "metadata": {},
   "outputs": [],
   "source": [
    "model.save_weights('model-weights.h5')"
   ]
  },
  {
   "cell_type": "markdown",
   "metadata": {},
   "source": [
    "### save()"
   ]
  },
  {
   "cell_type": "markdown",
   "metadata": {},
   "source": [
    "* 모델 구조와 모델 파라미터를 함께 저장하는 save() 메서드 제공\n",
    "* 텐서플로의 SavedModel 포맷으로 저장하지만, 파일의 확장자가 h5일 경우 HDF5 포맷으로 저장"
   ]
  },
  {
   "cell_type": "code",
   "execution_count": 26,
   "metadata": {},
   "outputs": [],
   "source": [
    "model.save('model-whole.h5')"
   ]
  },
  {
   "cell_type": "markdown",
   "metadata": {},
   "source": [
    "### load_weights()"
   ]
  },
  {
   "cell_type": "markdown",
   "metadata": {},
   "source": [
    "* load_weights() 메서드를 사용하려면 save_weights() 메서드로 저장했던 모델과 정확히 같은 구조를 가져야 한다\n",
    "* 그렇지 않으면 에러 발생\n",
    "    *  여기에서는 model_fn() 함수를 사용해 동일한 모델을 만들어 사용"
   ]
  },
  {
   "cell_type": "code",
   "execution_count": 27,
   "metadata": {},
   "outputs": [],
   "source": [
    "model_2 = model_fn(keras.layers.Dropout(0.3))"
   ]
  },
  {
   "cell_type": "code",
   "execution_count": 28,
   "metadata": {},
   "outputs": [],
   "source": [
    "model_2.load_weights('model-weights.h5')"
   ]
  },
  {
   "cell_type": "code",
   "execution_count": 29,
   "metadata": {},
   "outputs": [
    {
     "data": {
      "text/plain": [
       "[<tf.Variable 'dense_14/kernel:0' shape=(784, 100) dtype=float32, numpy=\n",
       " array([[-0.17507866, -0.06548321,  0.01027568, ..., -0.05089957,\n",
       "          0.14770848, -0.24121247],\n",
       "        [ 0.16268638,  0.03085833, -0.18049978, ...,  0.28757873,\n",
       "          0.33682755, -0.07272613],\n",
       "        [ 0.11980955,  0.05146995, -0.03522272, ..., -0.11527837,\n",
       "          0.24584322,  0.0774897 ],\n",
       "        ...,\n",
       "        [ 0.11740404, -0.02669111, -0.14031811, ...,  0.07288112,\n",
       "         -0.0057454 ,  0.00932602],\n",
       "        [-0.01220272, -0.00837676, -0.21880797, ..., -0.03263787,\n",
       "          0.43482366, -0.2287037 ],\n",
       "        [-0.10453478,  0.01128627, -0.16020152, ...,  0.01708207,\n",
       "          0.21277633, -0.32343975]], dtype=float32)>,\n",
       " <tf.Variable 'dense_14/bias:0' shape=(100,) dtype=float32, numpy=\n",
       " array([ 0.07106474, -0.01864074, -0.09386887,  0.32875767,  0.19478117,\n",
       "         0.06138681, -0.01409778, -0.06749169,  0.46668708, -0.01577993,\n",
       "         0.33602118, -0.012518  , -0.28428155,  0.30928722,  0.25416043,\n",
       "        -0.01474376,  0.24673094,  0.17579488,  0.33628744, -0.2651557 ,\n",
       "        -0.01641096,  0.04738873,  0.23536962, -0.00588519,  0.06659626,\n",
       "         0.52513176, -0.30858105,  0.10312798,  0.29985762,  0.09376644,\n",
       "        -0.23921537, -0.5049872 ,  0.6261351 ,  0.23797153, -0.01982177,\n",
       "         0.37917602,  0.4017615 ,  0.45570895, -0.02789749,  0.25970867,\n",
       "         0.3943708 ,  0.01303176,  0.2993437 , -0.25633523, -0.03189964,\n",
       "         0.44168264,  0.66394585,  0.25545993, -0.08536322, -0.01194661,\n",
       "         0.4207013 ,  0.16048613,  0.05959666,  1.0556602 ,  0.14825308,\n",
       "         0.33872738,  0.7967504 ,  0.14671937,  0.21310285, -0.44283655,\n",
       "         0.0952006 ,  0.34056878,  0.08457975,  0.15339647,  0.650564  ,\n",
       "        -0.4836003 ,  0.08519363,  0.4611394 , -0.01135637,  0.26504502,\n",
       "         0.06844316,  0.08330033, -0.09360538, -0.03809275,  0.48779818,\n",
       "         0.20083599,  0.50007874,  0.22103512, -0.11042972,  0.431351  ,\n",
       "         0.2799401 , -0.04255463, -0.11427881,  0.4315989 , -0.12263024,\n",
       "         0.48541802, -0.11147795,  0.06286451,  0.20220605, -0.01068815,\n",
       "        -0.01281404,  0.00961195, -0.62534297,  0.06790385,  0.6534116 ,\n",
       "        -0.02080301,  0.32768884,  0.34454063,  0.19144377,  0.41583917],\n",
       "       dtype=float32)>,\n",
       " <tf.Variable 'dense_15/kernel:0' shape=(100, 10) dtype=float32, numpy=\n",
       " array([[ 1.58774063e-01,  3.38704467e-01,  1.69852600e-01,\n",
       "         -1.06678838e-02, -4.62904610e-02, -2.68204957e-01,\n",
       "         -1.45826548e-01, -1.16186452e+00, -6.97508454e-02,\n",
       "         -3.95424634e-01],\n",
       "        [-2.01917589e-01,  8.31307545e-02,  5.78630343e-02,\n",
       "         -3.49597819e-02,  1.27284139e-01, -1.04805551e-01,\n",
       "         -1.05957747e-01,  1.99097648e-01,  1.09698370e-01,\n",
       "          7.09453672e-02],\n",
       "        [-3.58716071e-01,  6.79381490e-02,  7.16184527e-02,\n",
       "          1.03902824e-01,  2.23475993e-01,  3.86713088e-01,\n",
       "         -1.83930416e-02, -4.69749540e-01, -1.47292987e-01,\n",
       "         -7.91432202e-01],\n",
       "        [-1.17974930e-01,  3.47447634e-01, -3.26751590e-01,\n",
       "         -4.72474396e-01, -4.35464323e-01,  2.07621157e-01,\n",
       "         -5.84253311e-01,  2.54125059e-01, -6.51541591e-01,\n",
       "          2.81246185e-01],\n",
       "        [-5.73523827e-02, -3.18265140e-01,  9.10464153e-02,\n",
       "         -2.47700602e-01,  8.25625584e-02, -2.50630140e-01,\n",
       "          2.56046534e-01,  9.79747972e-04,  9.74543616e-02,\n",
       "         -1.57411546e-01],\n",
       "        [ 8.05942416e-02,  8.29712152e-02, -1.38809690e-02,\n",
       "         -1.60693929e-01, -2.85323650e-01,  2.63550311e-01,\n",
       "          1.53021351e-01, -3.57630521e-01, -3.25068921e-01,\n",
       "          2.56216735e-01],\n",
       "        [-8.74130055e-02, -1.69333220e-01,  1.40568614e-01,\n",
       "          9.95956808e-02,  2.10888907e-01, -1.43282846e-01,\n",
       "         -1.76760390e-01, -2.20913097e-01, -1.10409401e-01,\n",
       "          1.12220608e-01],\n",
       "        [-9.07834899e-03,  5.93827516e-02, -1.21661276e-01,\n",
       "         -1.90030485e-01,  2.20231805e-02,  8.17133188e-02,\n",
       "          3.87385100e-01, -6.37736082e-01,  2.74698913e-01,\n",
       "          1.17637917e-01],\n",
       "        [ 7.28883315e-03, -4.19663973e-02,  1.52846262e-01,\n",
       "         -1.55919477e-01, -2.02383459e-01,  1.40057266e-01,\n",
       "          1.15730353e-01, -4.86477643e-01,  3.11506510e-01,\n",
       "         -5.30280054e-01],\n",
       "        [ 1.18311383e-01,  3.26152444e-02, -9.58556905e-02,\n",
       "          1.03718210e-02,  1.20578945e-01, -6.28712699e-02,\n",
       "          3.48898433e-02,  1.29247442e-01, -2.06792533e-01,\n",
       "          1.20256603e-01],\n",
       "        [ 4.16266825e-03, -7.84275949e-01,  2.21194103e-01,\n",
       "         -2.30594173e-01, -8.73125717e-02, -2.34028637e-01,\n",
       "          2.47171018e-02,  1.94081530e-01, -1.67356700e-01,\n",
       "         -2.66285598e-01],\n",
       "        [-1.90570101e-01,  5.59628978e-02, -1.41965613e-01,\n",
       "          7.80607089e-02,  1.11764930e-01, -1.62822545e-01,\n",
       "         -1.38823241e-01, -7.89438486e-02, -1.76590741e-01,\n",
       "          1.66343302e-02],\n",
       "        [-1.12513550e-01,  2.94253141e-01, -1.64378405e-01,\n",
       "          7.72055537e-02, -1.01671644e-01, -2.78447360e-01,\n",
       "         -2.15616807e-01, -9.98891424e-03,  4.27333295e-01,\n",
       "          8.27026516e-02],\n",
       "        [ 2.26477087e-01, -3.64834577e-01, -3.80418509e-01,\n",
       "         -7.86346942e-02, -4.64620680e-01,  1.06609799e-01,\n",
       "         -5.83071150e-02,  2.15079546e-01, -5.09460688e-01,\n",
       "          2.46831521e-01],\n",
       "        [ 2.40713462e-01,  1.64492298e-02, -5.74791074e-01,\n",
       "         -8.98996741e-02, -6.42583907e-01, -3.80303562e-01,\n",
       "          2.26329267e-02, -8.26076269e-01, -4.11541998e-01,\n",
       "         -5.51423490e-01],\n",
       "        [-1.01380676e-01, -5.16780429e-02, -1.95507720e-01,\n",
       "         -1.41497523e-01, -1.16826788e-01, -1.94493860e-01,\n",
       "          1.26850337e-01, -6.69475123e-02,  2.07438678e-01,\n",
       "         -5.23287803e-02],\n",
       "        [ 1.64754674e-01, -4.07160074e-01, -1.75907269e-01,\n",
       "          6.30220622e-02,  1.08611256e-01, -8.17484021e-01,\n",
       "          2.13647559e-01,  8.92065316e-02,  4.87974565e-03,\n",
       "         -5.42458653e-01],\n",
       "        [ 2.40575597e-01,  2.56338984e-01, -4.72288400e-01,\n",
       "         -9.57247242e-02, -1.49768323e-01,  1.81204259e-01,\n",
       "          2.17368945e-01, -7.42180586e-01, -2.41159081e-01,\n",
       "         -5.18660009e-01],\n",
       "        [ 2.11438879e-01, -4.48024869e-01,  1.15527481e-01,\n",
       "         -1.16282336e-01, -2.78494805e-01, -1.60436213e-01,\n",
       "          2.25230440e-01, -1.30244702e-01,  2.06606537e-01,\n",
       "          1.40344918e-01],\n",
       "        [-4.45278168e-01, -4.09506401e-03, -4.01808202e-01,\n",
       "          2.04702578e-02,  6.58848137e-02, -3.71725380e-01,\n",
       "         -4.75669861e-01,  1.56765252e-01, -1.48805529e-01,\n",
       "          1.32547945e-01],\n",
       "        [ 1.02296874e-01, -2.16038242e-01, -1.91337854e-01,\n",
       "          6.64203167e-02, -1.84550345e-01, -1.25380233e-01,\n",
       "         -4.72786650e-02, -1.48198947e-01, -4.41827849e-02,\n",
       "          2.12170869e-01],\n",
       "        [-9.24196243e-02,  1.56484231e-01,  8.53018165e-02,\n",
       "          5.44593707e-02,  1.13805801e-01, -1.09757304e+00,\n",
       "          1.06472962e-01, -7.69518733e-01, -7.99766406e-02,\n",
       "         -4.41169143e-01],\n",
       "        [ 2.73681223e-01, -3.66498619e-01,  1.85251553e-02,\n",
       "         -1.14241101e-01,  1.72112763e-01, -7.98320413e-01,\n",
       "          2.69506186e-01, -9.76865053e-01, -1.09817475e-01,\n",
       "         -4.10975486e-01],\n",
       "        [ 5.72328791e-02, -3.85606319e-01, -1.33119524e-01,\n",
       "         -1.85265794e-01,  2.46598899e-01,  2.19068453e-02,\n",
       "         -3.14363986e-01,  3.21771234e-01, -1.12762436e-01,\n",
       "         -3.61445546e-02],\n",
       "        [-2.80800700e-01,  1.29785389e-01, -3.98233831e-02,\n",
       "          2.84723546e-02,  6.93148002e-02,  1.00228645e-01,\n",
       "         -4.64946538e-01, -9.03616399e-02,  2.84213454e-01,\n",
       "         -2.07410738e-01],\n",
       "        [ 3.95358540e-02, -6.00330651e-01, -5.28743386e-01,\n",
       "         -1.03720355e+00, -3.91855925e-01,  6.90774381e-01,\n",
       "         -6.83292449e-01, -1.43873945e-01, -3.27415645e-01,\n",
       "         -4.46750313e-01],\n",
       "        [-1.29889727e-01,  3.48664761e-01,  1.02585778e-01,\n",
       "         -1.33343175e-01,  1.31739900e-01, -1.33815944e-01,\n",
       "         -1.04971603e-01, -5.58399141e-01, -6.94648325e-02,\n",
       "         -7.63166428e-01],\n",
       "        [ 1.44779924e-02,  1.50379539e-01, -1.08201802e-01,\n",
       "          4.67306077e-02,  9.82068852e-02, -5.78530073e-01,\n",
       "         -1.98471516e-01, -1.41451192e+00, -2.55972464e-02,\n",
       "         -3.58292401e-01],\n",
       "        [ 2.22508624e-01,  4.87761348e-02,  1.73627827e-02,\n",
       "          2.03315124e-01, -2.49470040e-01, -2.56643236e-01,\n",
       "          2.32192948e-01,  1.73078701e-01, -3.21582854e-01,\n",
       "          6.66243285e-02],\n",
       "        [-8.65131542e-02, -7.15378106e-01, -9.09074247e-02,\n",
       "          1.46085754e-01, -1.68537110e-01, -2.01629773e-01,\n",
       "          1.24921560e-01,  6.86091334e-02, -3.60606194e-01,\n",
       "          2.01228142e-01],\n",
       "        [-6.08980283e-02, -5.13719246e-02, -4.84465389e-03,\n",
       "         -1.47535980e-01,  8.34666789e-02, -5.47148921e-02,\n",
       "         -1.92119300e-01, -4.06377643e-01,  1.66524127e-01,\n",
       "         -6.65781558e-01],\n",
       "        [-3.32766593e-01, -3.26156735e-01,  3.70410047e-02,\n",
       "         -2.37501506e-03,  1.26653150e-01, -1.13404833e-01,\n",
       "         -8.93986225e-02,  2.90736910e-02,  3.06484941e-02,\n",
       "          1.63946167e-01],\n",
       "        [ 2.27871254e-01, -2.38223284e-01, -2.14886144e-01,\n",
       "          1.22879758e-01, -3.41885239e-01,  2.49095127e-01,\n",
       "          1.63247719e-01, -7.03928769e-01, -1.46784484e-01,\n",
       "          1.54880598e-01],\n",
       "        [-4.34265941e-01, -1.37001008e-01, -1.93516597e-01,\n",
       "          1.15460254e-01, -1.56037942e-01,  1.25712469e-01,\n",
       "         -2.54706353e-01,  1.35226324e-01,  1.96910799e-01,\n",
       "          1.51323497e-01],\n",
       "        [-3.86996657e-01, -6.75203979e-01,  1.36719942e-02,\n",
       "         -2.12096140e-01,  6.04202561e-02, -7.71106333e-02,\n",
       "          4.38305214e-02, -7.93012679e-01, -2.99147069e-01,\n",
       "         -4.64202166e-01],\n",
       "        [-1.57293990e-01, -1.27901569e-01, -1.28314242e-01,\n",
       "          2.13050619e-01,  1.77008897e-01,  3.74009818e-01,\n",
       "         -1.10280849e-01, -7.28915155e-01, -1.54365182e-01,\n",
       "         -7.37340033e-01],\n",
       "        [ 1.72064349e-01, -4.91218925e-01, -2.63171464e-01,\n",
       "          2.06985518e-01, -4.86533679e-02,  2.56103247e-01,\n",
       "          1.31218657e-01, -4.38056350e-01, -3.50861400e-01,\n",
       "         -2.91820951e-02],\n",
       "        [-3.14873576e-01, -2.30789155e-01, -1.84376240e-01,\n",
       "         -5.93531847e-01, -2.95435321e-02,  5.82420707e-01,\n",
       "         -3.33530366e-01, -1.46757409e-01,  3.67853492e-01,\n",
       "         -5.52893341e-01],\n",
       "        [-9.34449956e-03,  1.39559761e-01, -1.73169285e-01,\n",
       "          9.79435965e-02,  4.84985076e-02, -1.08879901e-01,\n",
       "         -6.01458251e-02,  1.23822793e-01, -9.19270292e-02,\n",
       "          2.16327429e-01],\n",
       "        [-1.96099788e-01, -5.24363697e-01,  2.07499310e-01,\n",
       "         -8.77970085e-02, -4.62290019e-01,  2.68117934e-01,\n",
       "         -2.18891159e-01, -2.29714200e-01,  1.25270933e-01,\n",
       "          2.57531464e-01],\n",
       "        [-5.45665979e-01, -8.99573267e-02, -7.48818934e-01,\n",
       "         -7.43726075e-01,  6.07154667e-02,  3.95090461e-01,\n",
       "         -5.77749550e-01, -4.67343807e-01, -6.48610055e-01,\n",
       "          1.49406984e-01],\n",
       "        [ 1.65466711e-01,  1.79830208e-01,  4.86737154e-02,\n",
       "         -2.87124030e-02, -1.34869590e-01,  1.30799010e-01,\n",
       "         -1.30916879e-01, -1.76345855e-01, -2.44945958e-01,\n",
       "         -4.62082252e-02],\n",
       "        [ 2.14164138e-01, -9.66976702e-01, -4.34729457e-01,\n",
       "         -1.07101440e+00, -4.23213243e-02,  5.83304226e-01,\n",
       "         -4.17767107e-01, -4.27366614e-01, -6.44711912e-01,\n",
       "         -5.27962267e-01],\n",
       "        [ 8.60283524e-03,  1.09934166e-01,  1.03311256e-01,\n",
       "         -6.86193645e-01,  1.25272378e-01, -3.37632000e-01,\n",
       "          3.78667675e-02, -3.25594008e-01,  2.22011637e-02,\n",
       "          5.66898622e-02],\n",
       "        [ 1.20765120e-01, -2.71048360e-02,  1.10563554e-01,\n",
       "         -2.41740778e-01,  1.47777826e-01, -1.73869118e-01,\n",
       "         -2.81489819e-01,  2.13633984e-01, -5.41652739e-03,\n",
       "          2.02210724e-01],\n",
       "        [-1.82353586e-01, -5.23265421e-01, -2.79914349e-01,\n",
       "          2.58536607e-01,  1.77178189e-01,  2.80993283e-01,\n",
       "          1.93461508e-01,  1.63948923e-01, -3.87952447e-01,\n",
       "         -5.72562993e-01],\n",
       "        [-2.62617618e-01, -4.16626275e-01, -9.41040456e-01,\n",
       "         -6.28866255e-01, -7.03865349e-01,  1.45241976e-01,\n",
       "         -6.39635444e-01,  1.50035352e-01, -6.86553776e-01,\n",
       "          1.78921759e-01],\n",
       "        [ 7.35370815e-02, -5.61684370e-01, -1.87365681e-01,\n",
       "         -1.54752445e+00,  1.41198248e-01,  4.35047656e-01,\n",
       "         -1.19143419e-01, -5.16449571e-01, -6.33393049e-01,\n",
       "          4.33243439e-02],\n",
       "        [-1.74361452e-01,  5.64349115e-01, -7.10887834e-02,\n",
       "         -2.37812370e-01, -4.04046714e-01,  4.50264402e-02,\n",
       "         -2.74302624e-02,  1.18508480e-01,  2.69353122e-01,\n",
       "          1.26394272e-01],\n",
       "        [ 1.97225630e-01,  1.38034701e-01, -2.03181282e-01,\n",
       "         -1.91303954e-01, -3.41855623e-02, -7.44433254e-02,\n",
       "         -1.23078749e-01, -1.69032842e-01, -2.51358887e-03,\n",
       "          9.63106155e-02],\n",
       "        [ 3.82862687e-02, -2.03279212e-01, -2.88026392e-01,\n",
       "         -4.89353240e-01, -3.50604773e-01,  2.13489428e-01,\n",
       "         -6.41237736e-01,  1.79841205e-01,  3.70666474e-01,\n",
       "         -2.26949081e-01],\n",
       "        [-2.97249496e-01, -5.66224098e-01,  2.48743057e-01,\n",
       "         -4.27680194e-01,  1.78505808e-01, -6.84195906e-02,\n",
       "         -1.25940785e-01,  1.36432633e-01,  1.81428894e-01,\n",
       "         -1.63589463e-01],\n",
       "        [-3.27990443e-01, -1.57804385e-01, -1.22492269e-01,\n",
       "         -5.07794142e-01, -3.77399057e-01,  9.30723920e-02,\n",
       "         -2.15492234e-01,  1.64268807e-01, -1.51936740e-01,\n",
       "          1.95864484e-01],\n",
       "        [-4.26565558e-01, -3.43449175e-01, -6.89413667e-01,\n",
       "         -1.03539038e+00, -8.65715206e-01,  2.29219541e-01,\n",
       "         -9.80102956e-01,  3.43955696e-01, -5.94091773e-01,\n",
       "         -1.83627397e-01],\n",
       "        [-1.95657402e-01, -1.05855517e-01,  1.74409956e-01,\n",
       "         -3.68094146e-02,  2.00230360e-01,  1.37123531e-02,\n",
       "          1.76342115e-01, -8.19388866e-01,  1.59288559e-03,\n",
       "         -8.04187477e-01],\n",
       "        [ 2.10592058e-02, -2.10532006e-02,  2.79716849e-01,\n",
       "         -5.33841133e-01, -2.91275918e-01,  4.89111871e-01,\n",
       "         -1.54070213e-01, -6.98678017e-01,  1.02759831e-01,\n",
       "         -2.78170139e-01],\n",
       "        [-5.66277146e-01, -8.84929955e-01, -1.33848536e+00,\n",
       "         -1.71750998e+00, -1.37236869e+00,  1.78166077e-01,\n",
       "         -1.13348269e+00,  1.61912009e-01, -7.67466068e-01,\n",
       "          1.98026121e-01],\n",
       "        [ 2.19758227e-01, -3.92885417e-01,  2.82313019e-01,\n",
       "          1.63573191e-01,  1.22998267e-01, -7.27730930e-01,\n",
       "          2.41249632e-02, -1.06900573e-01, -2.14384526e-01,\n",
       "         -9.35794890e-01],\n",
       "        [-1.13904081e-01,  3.11097920e-01,  1.72793821e-01,\n",
       "          1.26764804e-01, -1.02194734e-01, -9.35387313e-01,\n",
       "         -1.92121521e-01, -1.29753947e+00, -4.08410043e-01,\n",
       "         -3.45994383e-01],\n",
       "        [-3.05965722e-01,  3.31096798e-01, -2.91784797e-02,\n",
       "          8.86534154e-02, -1.61201358e-02, -1.35481238e-01,\n",
       "         -2.77841389e-01,  9.32168290e-02,  1.85767055e-01,\n",
       "          1.32408097e-01],\n",
       "        [-4.85084236e-01, -7.05901206e-01, -7.11298883e-01,\n",
       "         -4.50600564e-01, -5.84434688e-01,  1.61998391e-01,\n",
       "         -5.77884866e-03,  2.20812485e-01, -7.86951184e-01,\n",
       "          2.43856743e-01],\n",
       "        [-8.49368870e-02,  5.48409522e-01,  4.16523442e-02,\n",
       "         -4.58684675e-02, -6.55680746e-02,  5.26595235e-01,\n",
       "         -2.67071724e-01, -5.84982991e-01, -3.80701035e-01,\n",
       "         -7.76370585e-01],\n",
       "        [ 1.68813124e-01,  6.40416369e-02,  1.68514103e-01,\n",
       "         -5.23584113e-02,  1.16593555e-01, -5.95741928e-01,\n",
       "         -2.24056989e-02, -1.18524998e-01,  3.12665075e-01,\n",
       "         -4.44010586e-01],\n",
       "        [ 1.06983945e-01, -2.99477339e-01,  1.37159511e-01,\n",
       "          1.16238751e-01, -1.01898015e-01, -7.74060711e-02,\n",
       "          1.03663551e-02, -4.09515023e-01,  2.28262410e-01,\n",
       "         -1.48793027e-01],\n",
       "        [ 2.01881886e-01, -4.56959367e-01,  1.56920418e-01,\n",
       "          1.10827558e-01, -4.87154573e-02, -1.86143711e-01,\n",
       "          1.66908517e-01, -8.47198248e-01, -1.09435327e-01,\n",
       "         -9.08592105e-01],\n",
       "        [-7.90288392e-03,  2.79919934e-02,  5.99150360e-02,\n",
       "         -1.04377419e-02,  9.73930359e-02, -2.94474661e-01,\n",
       "         -1.93986744e-01,  2.62527000e-02, -5.37177980e-01,\n",
       "          6.86098710e-02],\n",
       "        [-1.09034553e-01,  3.05719107e-01, -4.03036326e-01,\n",
       "          3.34329486e-01, -4.60931242e-01, -7.76097715e-01,\n",
       "          7.13191628e-02, -6.00188136e-01, -2.80032128e-01,\n",
       "         -2.04947025e-01],\n",
       "        [-1.33895785e-01, -3.37243438e-01,  1.00366160e-01,\n",
       "         -5.97865403e-01,  1.10474601e-01, -5.15419580e-02,\n",
       "          8.92757550e-02,  1.17791720e-01, -6.59669816e-01,\n",
       "         -3.46313059e-01],\n",
       "        [ 2.17524841e-02, -2.63057679e-01,  1.49930090e-01,\n",
       "         -1.71717092e-01,  1.87137499e-01, -1.03331238e-01,\n",
       "          1.76047757e-01, -4.30320889e-01,  1.21611454e-01,\n",
       "         -1.11705385e-01],\n",
       "        [-4.04753387e-02,  1.29145458e-01, -3.49670202e-01,\n",
       "          2.17826277e-01, -1.20045006e-01, -2.23863408e-01,\n",
       "         -2.54239500e-01, -6.24620914e-01,  5.04368469e-02,\n",
       "         -4.35905844e-01],\n",
       "        [ 2.33830083e-02, -4.28966463e-01,  2.25589186e-01,\n",
       "          2.00420365e-01, -1.13143511e-01, -7.80123025e-02,\n",
       "         -9.42339972e-02,  2.38442212e-01,  1.80381805e-01,\n",
       "          1.69376820e-01],\n",
       "        [ 7.61178434e-02, -3.47862899e-01,  1.36621282e-01,\n",
       "         -1.61415130e-01,  9.31418687e-02, -2.86033332e-01,\n",
       "          1.10490091e-01, -5.13892546e-02,  1.72836378e-01,\n",
       "         -3.13711464e-01],\n",
       "        [-6.09564841e-01,  4.25578237e-01, -3.90725017e-01,\n",
       "         -4.30475056e-01, -5.49723268e-01,  2.72742901e-02,\n",
       "         -4.77066815e-01,  2.96267420e-01, -5.46417058e-01,\n",
       "          3.17709029e-01],\n",
       "        [ 1.67427942e-01,  1.51851028e-01,  6.52443618e-02,\n",
       "         -1.40790015e-01,  7.79127628e-02, -5.48077114e-02,\n",
       "          8.86312053e-02, -5.56329750e-02, -1.68570831e-01,\n",
       "         -1.84970558e-01],\n",
       "        [ 3.27103771e-02, -6.72327936e-01, -3.53950530e-01,\n",
       "         -3.56764466e-01, -7.53299519e-02,  1.54980496e-01,\n",
       "          1.77418128e-01,  2.02994302e-01,  2.34080687e-01,\n",
       "         -5.54313898e-01],\n",
       "        [-6.87519312e-02, -5.80798030e-01, -5.67679882e-01,\n",
       "         -8.79051089e-01, -6.18136287e-01,  5.76582909e-01,\n",
       "         -3.50757390e-01, -4.34135407e-01, -4.96681303e-01,\n",
       "         -1.32297039e+00],\n",
       "        [ 1.01244047e-01,  1.73280060e-01,  1.52655020e-01,\n",
       "          5.52648306e-02,  4.64887805e-02,  6.03203066e-02,\n",
       "         -2.52467573e-01,  2.07985982e-01, -5.68474770e-01,\n",
       "         -3.46125811e-01],\n",
       "        [-6.46435022e-01,  5.12696683e-01, -5.28831899e-01,\n",
       "         -4.53239501e-01, -4.52054918e-01,  4.92490411e-01,\n",
       "         -6.68835714e-02,  8.72774273e-02, -6.11973345e-01,\n",
       "         -5.02889752e-01],\n",
       "        [-4.02283877e-01,  4.95527774e-01, -8.42730224e-01,\n",
       "         -5.30062430e-02,  2.18123600e-01, -3.86906356e-01,\n",
       "         -2.38736734e-01, -9.92792189e-01,  2.00745091e-01,\n",
       "         -5.76154232e-01],\n",
       "        [ 1.60661176e-01,  1.99606583e-01, -5.43925107e-01,\n",
       "          1.94493890e-01, -1.84628174e-01, -6.21809125e-01,\n",
       "         -1.92899816e-02, -1.47425795e+00, -2.24533871e-01,\n",
       "         -8.19495499e-01],\n",
       "        [-5.54183304e-01, -2.98794895e-01, -1.59900505e-02,\n",
       "         -5.48596144e-01,  4.39112633e-02,  7.29773402e-01,\n",
       "          1.48446579e-02, -1.56185746e-01, -3.53741944e-01,\n",
       "         -3.32029611e-01],\n",
       "        [ 1.51945964e-01, -3.27008277e-01, -4.86038066e-02,\n",
       "         -2.06481606e-01, -2.26613283e-01, -1.97083026e-01,\n",
       "          1.35418355e-01, -9.73046869e-02,  2.68889517e-01,\n",
       "         -8.58934671e-02],\n",
       "        [-3.08374137e-01, -2.24345550e-01, -1.38630196e-01,\n",
       "          2.29765564e-01,  1.92144156e-01, -5.26569724e-01,\n",
       "          2.66527742e-01, -6.08317852e-01, -3.84373099e-01,\n",
       "          1.39557585e-01],\n",
       "        [ 1.68845862e-01,  8.06432217e-02, -2.35624477e-01,\n",
       "          1.47419155e-01, -2.64751852e-01, -7.52957404e-01,\n",
       "          1.74420863e-01, -1.36138976e+00, -4.54844147e-01,\n",
       "         -9.42601502e-01],\n",
       "        [-1.67169943e-01, -3.40835541e-01, -5.81832945e-01,\n",
       "         -5.03094673e-01, -3.92985791e-01,  6.74813911e-02,\n",
       "         -4.36698288e-01,  6.81522638e-02,  2.39658445e-01,\n",
       "          1.31259099e-01],\n",
       "        [-3.34538102e-01, -2.68258095e-01, -4.34922874e-02,\n",
       "          5.11701405e-01, -5.51537693e-01,  9.08085704e-02,\n",
       "         -2.75022149e-01,  2.90863395e-01,  2.99466610e-01,\n",
       "         -4.45865184e-01],\n",
       "        [ 2.36142591e-01, -3.34064275e-01,  2.26125985e-01,\n",
       "         -2.69549638e-01, -7.00325966e-02, -2.59932846e-01,\n",
       "          1.01732723e-01, -5.66950925e-02, -2.38453358e-01,\n",
       "          2.25708067e-01],\n",
       "        [ 9.82852578e-02, -3.13164592e-01, -4.08571176e-02,\n",
       "         -5.51929921e-02,  8.97295475e-02,  6.27088770e-02,\n",
       "          7.70646036e-02, -2.87058651e-01,  1.78431049e-01,\n",
       "         -5.15164793e-01],\n",
       "        [-2.67984360e-01,  2.80456487e-02, -1.25092760e-01,\n",
       "          7.63623267e-02,  6.72967061e-02, -4.51563120e-01,\n",
       "         -3.51358682e-01,  2.77345538e-01, -1.85402691e-01,\n",
       "         -3.42474282e-01],\n",
       "        [ 7.65048414e-02,  1.09402701e-01,  7.70527348e-02,\n",
       "          8.93423632e-02,  1.16746254e-01, -1.11062407e+00,\n",
       "          8.66350606e-02, -3.49541903e-01, -1.68917999e-01,\n",
       "         -6.47991002e-01],\n",
       "        [ 1.73362687e-01, -1.06575064e-01,  1.20474519e-02,\n",
       "         -1.55838775e-02,  2.22045183e-01, -1.88084543e-01,\n",
       "         -5.56881055e-02, -9.26255137e-02, -1.42852038e-01,\n",
       "         -1.86883926e-01],\n",
       "        [-3.29760522e-01, -5.05511556e-03, -4.64010209e-01,\n",
       "         -5.56554310e-02, -4.17827278e-01,  1.56003073e-01,\n",
       "         -4.37735260e-01, -1.79608122e-01, -2.76765138e-01,\n",
       "          1.98402539e-01],\n",
       "        [ 9.21464711e-02, -3.14993441e-01, -1.71556741e-01,\n",
       "         -4.59051758e-01,  1.23841763e-01,  4.67164889e-02,\n",
       "         -5.85259497e-02, -1.76182330e-01,  2.91200310e-01,\n",
       "          1.21538959e-01],\n",
       "        [ 1.77768126e-01, -1.70899764e-01,  1.74780458e-01,\n",
       "          1.32267952e-01,  1.83711484e-01, -5.56690931e-01,\n",
       "          1.89795956e-01, -7.03468263e-01,  9.98234823e-02,\n",
       "         -3.91498864e-01],\n",
       "        [ 1.04693621e-01, -9.98356342e-01,  1.23855829e-01,\n",
       "         -3.96223873e-01, -3.82702261e-01,  3.26752841e-01,\n",
       "          5.42306565e-02, -2.26454288e-01, -2.25980192e-01,\n",
       "         -9.25911486e-01],\n",
       "        [ 1.06236741e-01, -6.06156513e-02,  5.27447313e-02,\n",
       "          1.79219738e-01,  2.07499608e-01, -1.03871711e-01,\n",
       "          1.22384638e-01,  2.05767900e-01,  9.75905731e-02,\n",
       "          1.43917859e-01],\n",
       "        [-3.06081116e-01, -1.35749653e-01, -8.38207304e-02,\n",
       "          2.73162246e-01,  3.76245975e-02,  1.74615994e-01,\n",
       "         -2.57270098e-01, -4.51729536e-01,  4.80320096e-01,\n",
       "         -3.69578838e-01],\n",
       "        [-3.51243287e-01, -4.20899838e-01, -4.17520195e-01,\n",
       "          1.77630052e-01, -2.88018852e-01,  1.92326441e-01,\n",
       "         -4.10966903e-01,  2.59100169e-01,  2.02032432e-01,\n",
       "          2.73941368e-01],\n",
       "        [-1.47499233e-01, -2.11644098e-01,  6.25122339e-02,\n",
       "          7.34373555e-02,  8.68891552e-02, -1.01503201e-01,\n",
       "          1.10615037e-01, -6.95848465e-01, -4.51918334e-01,\n",
       "         -5.30881166e-01],\n",
       "        [ 4.16014455e-02, -6.95519924e-01, -3.40094090e-01,\n",
       "         -3.16091001e-01, -5.68926156e-01,  9.17869285e-02,\n",
       "         -1.45247117e-01,  2.19714284e-01,  1.22086927e-01,\n",
       "         -2.05325454e-01]], dtype=float32)>,\n",
       " <tf.Variable 'dense_15/bias:0' shape=(10,) dtype=float32, numpy=\n",
       " array([ 0.09868444, -0.5481871 ,  0.12562373,  0.30687916, -0.2953039 ,\n",
       "        -0.03426767,  0.28043935,  0.21908517, -0.16888517, -0.62850994],\n",
       "       dtype=float32)>]"
      ]
     },
     "execution_count": 29,
     "metadata": {},
     "output_type": "execute_result"
    }
   ],
   "source": [
    "model_2.weights"
   ]
  },
  {
   "cell_type": "markdown",
   "metadata": {},
   "source": [
    "### load_model()"
   ]
  },
  {
   "cell_type": "code",
   "execution_count": 30,
   "metadata": {},
   "outputs": [],
   "source": [
    "model_whole = keras.models.load_model('model-whole.h5')"
   ]
  },
  {
   "cell_type": "code",
   "execution_count": 31,
   "metadata": {},
   "outputs": [
    {
     "name": "stdout",
     "output_type": "stream",
     "text": [
      "375/375 [==============================] - 1s 2ms/step - loss: 0.3259 - accuracy: 0.8802\n"
     ]
    },
    {
     "data": {
      "text/plain": [
       "[0.3259182274341583, 0.8802499771118164]"
      ]
     },
     "execution_count": 31,
     "metadata": {},
     "output_type": "execute_result"
    }
   ],
   "source": [
    "model_whole.evaluate(val_scaled, val_target)"
   ]
  },
  {
   "cell_type": "code",
   "execution_count": 32,
   "metadata": {},
   "outputs": [
    {
     "name": "stdout",
     "output_type": "stream",
     "text": [
      "375/375 [==============================] - 1s 2ms/step - loss: 0.3259 - accuracy: 0.8802\n"
     ]
    },
    {
     "data": {
      "text/plain": [
       "[0.3259182274341583, 0.8802499771118164]"
      ]
     },
     "execution_count": 32,
     "metadata": {},
     "output_type": "execute_result"
    }
   ],
   "source": [
    "model.evaluate(val_scaled, val_target)"
   ]
  },
  {
   "cell_type": "markdown",
   "metadata": {},
   "source": [
    "### 콜백\n",
    "\n",
    "* 콜백함수 : 어떤 이벤트에 의해 호출되어지는 함수를 의미\n",
    "    * 케라스에서는 훈련 과정 중간에 어떤 작업을 수행할 때 사용\n",
    "* keras.callbacks 패키지 아래에 있는 클래스\n",
    "* fit() 메서드의 callbacks 매개변수에 리스트로 전달하여 사용\n",
    "* ModelCheckpoint 콜백은 기본적으로 최상의 검증 점수를 만드는 모델을 저장\n",
    "    * 저장될 파일 이름은 best-model.h5로 지정하여 콜백을 적용 "
   ]
  },
  {
   "cell_type": "code",
   "execution_count": 33,
   "metadata": {},
   "outputs": [
    {
     "name": "stdout",
     "output_type": "stream",
     "text": [
      "Epoch 1/20\n",
      "1500/1500 [==============================] - 4s 2ms/step - loss: 0.5911 - accuracy: 0.7933 - val_loss: 0.4278 - val_accuracy: 0.8464\n",
      "Epoch 2/20\n",
      "1500/1500 [==============================] - 3s 2ms/step - loss: 0.4393 - accuracy: 0.8422 - val_loss: 0.3786 - val_accuracy: 0.8641\n",
      "Epoch 3/20\n",
      "1500/1500 [==============================] - 3s 2ms/step - loss: 0.4047 - accuracy: 0.8541 - val_loss: 0.3663 - val_accuracy: 0.8644\n",
      "Epoch 4/20\n",
      "1500/1500 [==============================] - 3s 2ms/step - loss: 0.3792 - accuracy: 0.8604 - val_loss: 0.3524 - val_accuracy: 0.8690\n",
      "Epoch 5/20\n",
      "1500/1500 [==============================] - 3s 2ms/step - loss: 0.3678 - accuracy: 0.8651 - val_loss: 0.3469 - val_accuracy: 0.8709\n",
      "Epoch 6/20\n",
      "1500/1500 [==============================] - 3s 2ms/step - loss: 0.3507 - accuracy: 0.8712 - val_loss: 0.3465 - val_accuracy: 0.8748\n",
      "Epoch 7/20\n",
      "1500/1500 [==============================] - 3s 2ms/step - loss: 0.3462 - accuracy: 0.8721 - val_loss: 0.3518 - val_accuracy: 0.8727\n",
      "Epoch 8/20\n",
      "1500/1500 [==============================] - 3s 2ms/step - loss: 0.3360 - accuracy: 0.8754 - val_loss: 0.3436 - val_accuracy: 0.8733\n",
      "Epoch 9/20\n",
      "1500/1500 [==============================] - 3s 2ms/step - loss: 0.3265 - accuracy: 0.8783 - val_loss: 0.3338 - val_accuracy: 0.8813\n",
      "Epoch 10/20\n",
      "1500/1500 [==============================] - 3s 2ms/step - loss: 0.3197 - accuracy: 0.8805 - val_loss: 0.3378 - val_accuracy: 0.8795\n",
      "Epoch 11/20\n",
      "1500/1500 [==============================] - 3s 2ms/step - loss: 0.3137 - accuracy: 0.8842 - val_loss: 0.3339 - val_accuracy: 0.8777\n",
      "Epoch 12/20\n",
      "1500/1500 [==============================] - 3s 2ms/step - loss: 0.3074 - accuracy: 0.8850 - val_loss: 0.3337 - val_accuracy: 0.8804\n",
      "Epoch 13/20\n",
      "1500/1500 [==============================] - 3s 2ms/step - loss: 0.3035 - accuracy: 0.8866 - val_loss: 0.3211 - val_accuracy: 0.8865\n",
      "Epoch 14/20\n",
      "1500/1500 [==============================] - 3s 2ms/step - loss: 0.2988 - accuracy: 0.8873 - val_loss: 0.3249 - val_accuracy: 0.8812\n",
      "Epoch 15/20\n",
      "1500/1500 [==============================] - 3s 2ms/step - loss: 0.2933 - accuracy: 0.8891 - val_loss: 0.3280 - val_accuracy: 0.8841\n",
      "Epoch 16/20\n",
      "1500/1500 [==============================] - 3s 2ms/step - loss: 0.2909 - accuracy: 0.8907 - val_loss: 0.3191 - val_accuracy: 0.8863\n",
      "Epoch 17/20\n",
      "1500/1500 [==============================] - 3s 2ms/step - loss: 0.2858 - accuracy: 0.8929 - val_loss: 0.3216 - val_accuracy: 0.8873\n",
      "Epoch 18/20\n",
      "1500/1500 [==============================] - 3s 2ms/step - loss: 0.2812 - accuracy: 0.8929 - val_loss: 0.3205 - val_accuracy: 0.8861\n",
      "Epoch 19/20\n",
      "1500/1500 [==============================] - 3s 2ms/step - loss: 0.2803 - accuracy: 0.8947 - val_loss: 0.3268 - val_accuracy: 0.8844\n",
      "Epoch 20/20\n",
      "1500/1500 [==============================] - 3s 2ms/step - loss: 0.2755 - accuracy: 0.8974 - val_loss: 0.3218 - val_accuracy: 0.8868\n"
     ]
    },
    {
     "data": {
      "text/plain": [
       "<keras.callbacks.History at 0x1af8063e250>"
      ]
     },
     "execution_count": 33,
     "metadata": {},
     "output_type": "execute_result"
    }
   ],
   "source": [
    "model_callback = model_fn(keras.layers.Dropout(0.3))\n",
    "model_callback.compile(optimizer='adam', loss='sparse_categorical_crossentropy', metrics='accuracy')\n",
    "\n",
    "checkpoint_cb = keras.callbacks.ModelCheckpoint('best-model.h5')\n",
    "\n",
    "model_callback.fit(train_scaled, train_target, epochs=20, verbose=1, \n",
    "          validation_data=(val_scaled, val_target),\n",
    "          callbacks=[checkpoint_cb])"
   ]
  },
  {
   "cell_type": "code",
   "execution_count": 34,
   "metadata": {},
   "outputs": [
    {
     "name": "stdout",
     "output_type": "stream",
     "text": [
      "375/375 [==============================] - 1s 2ms/step - loss: 0.3218 - accuracy: 0.8868\n"
     ]
    },
    {
     "data": {
      "text/plain": [
       "[0.3217734396457672, 0.8868333101272583]"
      ]
     },
     "execution_count": 34,
     "metadata": {},
     "output_type": "execute_result"
    }
   ],
   "source": [
    "model_callback.evaluate(val_scaled, val_target)"
   ]
  },
  {
   "cell_type": "code",
   "execution_count": 35,
   "metadata": {},
   "outputs": [
    {
     "name": "stdout",
     "output_type": "stream",
     "text": [
      "375/375 [==============================] - 1s 2ms/step - loss: 0.3218 - accuracy: 0.8868\n"
     ]
    },
    {
     "data": {
      "text/plain": [
       "[0.3217734396457672, 0.8868333101272583]"
      ]
     },
     "execution_count": 35,
     "metadata": {},
     "output_type": "execute_result"
    }
   ],
   "source": [
    "tmp = keras.models.load_model('best-model.h5')\n",
    "tmp.evaluate(val_scaled, val_target)"
   ]
  },
  {
   "cell_type": "markdown",
   "metadata": {},
   "source": [
    "---"
   ]
  },
  {
   "cell_type": "markdown",
   "metadata": {},
   "source": [
    "### 조기 종료(ealry stopping)"
   ]
  },
  {
   "cell_type": "markdown",
   "metadata": {},
   "source": [
    "* 에포크의 횟수 만큼 훈련을 진행하다보면 과적합이 발생하기 때문에 어느 시점 이상은 훈련을 계속할 필요성이 없어짐\n",
    "    * 이때 훈련을 중지하면 컴퓨터 자원과 시간을 절약할 수 있다"
   ]
  },
  {
   "cell_type": "markdown",
   "metadata": {},
   "source": [
    "* 이렇게 과대적합이 시작되기 전에 훈련을 미리 중지하는 것을 조기 종료(ealry stopping)라고 한다 \n",
    "* 훈련 에포크 횟수를 제한하는 역할이지만, 모델이 과대적합되는 것을 막아주기 때문에 규제 방법 중 하나로 생각할 수도 있다"
   ]
  },
  {
   "cell_type": "markdown",
   "metadata": {},
   "source": [
    "* 케라스에서는 EarlyStopping 콜백 함수를 제공 \n",
    "* patience = 2 : 2번 연속 검증 점수가 향상되지 않으면 훈련을 중지\n",
    "* restore_best_weights = True : 가장 낮은 검증 손실을 낸 모델 파라미터로 되돌린다"
   ]
  },
  {
   "cell_type": "code",
   "execution_count": 36,
   "metadata": {},
   "outputs": [
    {
     "name": "stdout",
     "output_type": "stream",
     "text": [
      "Epoch 1/20\n",
      "1500/1500 [==============================] - 4s 2ms/step - loss: 0.5966 - accuracy: 0.7921 - val_loss: 0.4375 - val_accuracy: 0.8399\n",
      "Epoch 2/20\n",
      "1500/1500 [==============================] - 3s 2ms/step - loss: 0.4435 - accuracy: 0.8414 - val_loss: 0.3883 - val_accuracy: 0.8576\n",
      "Epoch 3/20\n",
      "1500/1500 [==============================] - 3s 2ms/step - loss: 0.4104 - accuracy: 0.8499 - val_loss: 0.3727 - val_accuracy: 0.8658\n",
      "Epoch 4/20\n",
      "1500/1500 [==============================] - 3s 2ms/step - loss: 0.3844 - accuracy: 0.8594 - val_loss: 0.3526 - val_accuracy: 0.8711\n",
      "Epoch 5/20\n",
      "1500/1500 [==============================] - 3s 2ms/step - loss: 0.3704 - accuracy: 0.8653 - val_loss: 0.3456 - val_accuracy: 0.8723\n",
      "Epoch 6/20\n",
      "1500/1500 [==============================] - 3s 2ms/step - loss: 0.3602 - accuracy: 0.8676 - val_loss: 0.3420 - val_accuracy: 0.8748\n",
      "Epoch 7/20\n",
      "1500/1500 [==============================] - 3s 2ms/step - loss: 0.3484 - accuracy: 0.8708 - val_loss: 0.3327 - val_accuracy: 0.8790\n",
      "Epoch 8/20\n",
      "1500/1500 [==============================] - 3s 2ms/step - loss: 0.3387 - accuracy: 0.8740 - val_loss: 0.3495 - val_accuracy: 0.8733\n",
      "Epoch 9/20\n",
      "1500/1500 [==============================] - 3s 2ms/step - loss: 0.3301 - accuracy: 0.8781 - val_loss: 0.3344 - val_accuracy: 0.8781\n"
     ]
    }
   ],
   "source": [
    "model_final = model_fn(keras.layers.Dropout(0.3))\n",
    "model_final.compile(optimizer='adam', loss='sparse_categorical_crossentropy', metrics='accuracy')\n",
    "\n",
    "checkpoint_cb = keras.callbacks.ModelCheckpoint('best-model.h5')\n",
    "early_stopping_cb = keras.callbacks.EarlyStopping(patience=2, \n",
    "                                                  restore_best_weights=True)\n",
    "\n",
    "history = model_final.fit(train_scaled, train_target, epochs=20, verbose=1, \n",
    "                    validation_data=(val_scaled, val_target),\n",
    "                    callbacks=[checkpoint_cb, early_stopping_cb])"
   ]
  },
  {
   "cell_type": "code",
   "execution_count": 37,
   "metadata": {},
   "outputs": [
    {
     "name": "stdout",
     "output_type": "stream",
     "text": [
      "8\n"
     ]
    }
   ],
   "source": [
    "print(early_stopping_cb.stopped_epoch)"
   ]
  },
  {
   "cell_type": "code",
   "execution_count": 38,
   "metadata": {},
   "outputs": [
    {
     "data": {
      "image/png": "[encoded data removed]",
      "text/plain": [
       "<Figure size 432x288 with 1 Axes>"
      ]
     },
     "metadata": {
      "needs_background": "light"
     },
     "output_type": "display_data"
    }
   ],
   "source": [
    "plt.plot(history.history['loss'])\n",
    "plt.plot(history.history['val_loss'])\n",
    "plt.xlabel('epoch')\n",
    "plt.ylabel('loss')\n",
    "plt.legend(['train', 'val'])\n",
    "# plt.savefig('7_3-07', dpi=300)\n",
    "\n",
    "plt.show()"
   ]
  },
  {
   "cell_type": "code",
   "execution_count": 39,
   "metadata": {},
   "outputs": [
    {
     "name": "stdout",
     "output_type": "stream",
     "text": [
      "375/375 [==============================] - 1s 2ms/step - loss: 0.3327 - accuracy: 0.8790\n"
     ]
    },
    {
     "data": {
      "text/plain": [
       "[0.3326641023159027, 0.8790000081062317]"
      ]
     },
     "execution_count": 39,
     "metadata": {},
     "output_type": "execute_result"
    }
   ],
   "source": [
    "model_final.evaluate(val_scaled, val_target)"
   ]
  }
 ],
 "metadata": {
  "interpreter": {
   "hash": "1ef078467dd63487d90c66fda3d945ae0cf08fcbb11ad780475c9b39620e3c77"
  },
  "kernelspec": {
   "display_name": "Python 3.9.7 ('base')",
   "language": "python",
   "name": "python3"
  },
  "language_info": {
   "codemirror_mode": {
    "name": "ipython",
    "version": 3
   },
   "file_extension": ".py",
   "mimetype": "text/x-python",
   "name": "python",
   "nbconvert_exporter": "python",
   "pygments_lexer": "ipython3",
   "version": "3.9.7"
  },
  "orig_nbformat": 4
 },
 "nbformat": 4,
 "nbformat_minor": 2
}
