{
 "cells": [
  {
   "cell_type": "markdown",
   "metadata": {},
   "source": [
    "# 트리의 앙상블"
   ]
  },
  {
   "cell_type": "markdown",
   "metadata": {},
   "source": [
    "* 앙상블 모델(ensemble learning) : 정형 데이터를 다루는 데 가장 뛰어난 성과를 내는 알고리즘\n",
    "* 대부분 결정 트리를 기반으로 만들어져 있음"
   ]
  },
  {
   "cell_type": "markdown",
   "metadata": {},
   "source": [
    "* 정형 데이터\n",
    "    * csv, 엑셀, json, xml 등 구조화 된 방식으로 된 데이터\n",
    "* 비정형 데이터\n",
    "    * 이미지, 영상, 텍스트, 오디오"
   ]
  },
  {
   "cell_type": "markdown",
   "metadata": {},
   "source": [
    "### 랜덤포레스트 (random forest)\n",
    "* 앙상블 학습의 대표 주자 중 하나로 안정적인 성능 덕분에 널리 사용됨\n",
    "* 결정 트리를 랜덤하게 만들어 나무의 숲을 만든다 \n",
    "* 그리고, 각 결정 트리의 예측을 사용해 최종 예측 "
   ]
  },
  {
   "cell_type": "markdown",
   "metadata": {},
   "source": [
    "* 랜덤 포레스트는 각 트리를 훈련하기 위한 데이터를 랜덤하게 추출\n",
    "* 우리가 입력한 훈련 데이터에서 랜덤하게 샘플을 추출하여 훈련 데이터를 생성\n",
    "* 샘플 중복 가능\n",
    "* ex) \n",
    "    * 1000개 샘플이 담긴 가방에서 100개씩 샘플을 뽑는다면 먼저 1개를 뽑고, 뽑았던 1개를 다시 가방에 넣는다\n",
    "    * 이런 식으로 계속해서 100개를 가방에서 뽑으면 중복된 샘플을 뽑을 수 있다\n",
    "    * 이렇게 만들어진 샘플 : **부트스트랩 샘플(bootstrap sample)** \n",
    "    * 기본적으로 부트스트랩 샘플은 훈련 세트의 크기와 같게 만든다"
   ]
  },
  {
   "cell_type": "markdown",
   "metadata": {},
   "source": [
    "* 각 노드를 분할할 때 전체 특성 중에서 일부 특성을 무작위로 고른 다음 이 중에서 최선의 분할을 찾는다"
   ]
  },
  {
   "cell_type": "markdown",
   "metadata": {},
   "source": [
    "* **RandomForestClassifier (분류 모델)**\n",
    "    * 기본적으로 전체 특성 개수의 제곱근만큼의 특성을 선택 \n",
    "    * 4개의 특성이 있다면, 노드마다 2개를 랜덤하게 선택하여 사용\n",
    "* **RandomForestRegressor (회귀 모델)**\n",
    "    * 전체 특성 사용"
   ]
  },
  {
   "cell_type": "markdown",
   "metadata": {},
   "source": [
    "* 사이킷런의 랜덤 포레스트는 기본적으로 100개의 결정 트리를 위 방식으로 훈련\n",
    "    * 분류 : 각 트리의 클래스별 확률을 평균하여, 가장 높은 확률을 가진 클래스를 예측으로 삼는다 \n",
    "    * 회귀 : 평균을 출력"
   ]
  },
  {
   "cell_type": "markdown",
   "metadata": {},
   "source": [
    "* 랜덤 포레스트는 랜덤하게 선택한 샘플과 특성을 사용 ->\n",
    "    * 훈련 세트에 과대적합 되는 것을 방지\n",
    "    * 검증 세트와 테스트 세트에서 안정적인 성능 도출 \n",
    "* 종종 기본 매개변수 설정만으로도 아주 좋은 결과를 도출 "
   ]
  },
  {
   "cell_type": "markdown",
   "metadata": {},
   "source": [
    "---"
   ]
  },
  {
   "cell_type": "code",
   "execution_count": 1,
   "metadata": {},
   "outputs": [],
   "source": [
    "import numpy as np\n",
    "import pandas as pd\n",
    "from sklearn.model_selection import train_test_split\n",
    "\n",
    "wine = pd.read_csv('https://bit.ly/wine-date')\n",
    "\n",
    "data = wine[['alcohol', 'sugar', 'pH']].to_numpy()\n",
    "target = wine['class'].to_numpy()\n",
    "\n",
    "train_input, test_input, train_target, test_target = train_test_split(data, target, test_size=0.2, random_state=42)"
   ]
  },
  {
   "cell_type": "markdown",
   "metadata": {},
   "source": [
    "* return_train_score 매개변수를 True로 지정 : 검증 점수, 훈련 세트에 대한 점수를 같이 반환 \n",
    "* 훈련 세트와 검증 세트의 점수를 비교하면 과대적합을 파악하는데 용이함"
   ]
  },
  {
   "cell_type": "code",
   "execution_count": 10,
   "metadata": {},
   "outputs": [],
   "source": [
    "from sklearn.model_selection import cross_validate\n",
    "from sklearn.ensemble import RandomForestClassifier\n",
    "\n",
    "rf = RandomForestClassifier(n_jobs=-1, random_state=42)\n",
    "scores = cross_validate(rf, train_input, train_target, return_train_score=True, n_jobs=-1)"
   ]
  },
  {
   "cell_type": "code",
   "execution_count": 12,
   "metadata": {},
   "outputs": [
    {
     "data": {
      "text/plain": [
       "{'fit_time': array([0.4637835 , 0.45580506, 0.464782  , 0.45680141, 0.45779943]),\n",
       " 'score_time': array([0.05924201, 0.06223321, 0.07021165, 0.06223488, 0.05924082]),\n",
       " 'test_score': array([0.88461538, 0.88942308, 0.90279115, 0.88931665, 0.88642926]),\n",
       " 'train_score': array([0.9971133 , 0.99663219, 0.9978355 , 0.9973545 , 0.9978355 ])}"
      ]
     },
     "execution_count": 12,
     "metadata": {},
     "output_type": "execute_result"
    }
   ],
   "source": [
    "scores"
   ]
  },
  {
   "cell_type": "code",
   "execution_count": 17,
   "metadata": {},
   "outputs": [
    {
     "name": "stdout",
     "output_type": "stream",
     "text": [
      "train_score : 0.9973541965122431\n",
      "test_score : 0.8905151032797809\n"
     ]
    }
   ],
   "source": [
    "print('train_score : {}\\ntest_score : {}'.format(np.mean(scores['train_score']), np.mean(scores['test_score'])))"
   ]
  },
  {
   "cell_type": "markdown",
   "metadata": {},
   "source": [
    "* 변수 중요도 출력"
   ]
  },
  {
   "cell_type": "code",
   "execution_count": 20,
   "metadata": {},
   "outputs": [
    {
     "name": "stdout",
     "output_type": "stream",
     "text": [
      "[0.23167441 0.50039841 0.26792718]\n"
     ]
    }
   ],
   "source": [
    "rf.fit(train_input, train_target)\n",
    "\n",
    "print(rf.feature_importances_)"
   ]
  },
  {
   "cell_type": "markdown",
   "metadata": {},
   "source": [
    "* 결정 트리의 중요도하고 값이 다른 이유 :\n",
    "    * 랜덤 포레스트가 특성의 일부를 랜덤하게 선택하여 결정 트리를 훈련시키기 때문 \n",
    "    * 그 결과, 하나의 특성에 과도하게 집중하지 않고 좀 더 많은 특성이 훈련에 기여할 기회를 얻는다\n",
    "    * 이는 과대적합을 줄이고 일반화 성능을 높이는 데 도움이 된다 \n",
    "    * (TIL_0429_decision_tree.ipynb 참고)"
   ]
  },
  {
   "cell_type": "markdown",
   "metadata": {},
   "source": [
    "### OOB(Out of Bag)\n",
    "* OOB 샘플 : 부트스트랩 샘플에 포함되지 않고, 남는 샘플\n",
    "* OOB 샘플을 사용하여 부트스트랩 샘플로 훈련한 결정 트리를 평가 가능 \n",
    "* oob_score 파라미터의 값을 True로 지정"
   ]
  },
  {
   "cell_type": "code",
   "execution_count": 28,
   "metadata": {},
   "outputs": [
    {
     "name": "stdout",
     "output_type": "stream",
     "text": [
      "0.8934000384837406\n"
     ]
    }
   ],
   "source": [
    "rf = RandomForestClassifier(oob_score=True, n_jobs=-1, random_state=42)\n",
    "rf.fit(train_input, train_target)\n",
    "\n",
    "print(rf.oob_score_)"
   ]
  },
  {
   "cell_type": "markdown",
   "metadata": {},
   "source": [
    "---"
   ]
  },
  {
   "cell_type": "markdown",
   "metadata": {},
   "source": [
    "## 엑스트라트리\n",
    "* 엑스트라 트리(Extra Trees) : 랜덤 포레스트와 매우 비슷하게 동작\n",
    "* 기본적으로 100개의 결정 트리를 훈련"
   ]
  },
  {
   "cell_type": "markdown",
   "metadata": {},
   "source": [
    "* 랜덤 포레스트와 차이점 : \n",
    "    * 부트스트랩 샘플을 사용하지 않는다 "
   ]
  },
  {
   "cell_type": "markdown",
   "metadata": {},
   "source": [
    "* 결정 트리를 만들 때 전체 훈련 세트를 사용 : \n",
    "    * 대신 노드를 분할할 때, 가장 좋은 분할을 찾는 것이 아니라 **무작위**로 분할"
   ]
  },
  {
   "cell_type": "markdown",
   "metadata": {},
   "source": [
    "* DesicionTreeClassifier의 splitter 매개변수 : random으로 지정\n",
    "    * -> 엑스트라 트리가 사용하는 결정 트리"
   ]
  },
  {
   "cell_type": "markdown",
   "metadata": {},
   "source": [
    "* 하나의 결정 트리에서 특성을 무작위로 분할한다면 성능이 낮아지겠지만 많은 트리를 앙상블하기 때문에 과대적합을 막고 검증 세트의 점수를 높이는 효과를 볼수 있다"
   ]
  },
  {
   "cell_type": "code",
   "execution_count": 30,
   "metadata": {},
   "outputs": [
    {
     "name": "stdout",
     "output_type": "stream",
     "text": [
      "train_score : 0.9974503966084433\n",
      "test_score : 0.8887848893166506\n"
     ]
    }
   ],
   "source": [
    "from sklearn.ensemble import ExtraTreesClassifier\n",
    "\n",
    "et = ExtraTreesClassifier(n_jobs=-1, random_state=42)\n",
    "scores = cross_validate(et, train_input, train_target, return_train_score=True, n_jobs=-1)\n",
    "\n",
    "print('train_score : {}\\ntest_score : {}'.format(np.mean(scores['train_score']), np.mean(scores['test_score'])))"
   ]
  },
  {
   "cell_type": "code",
   "execution_count": 44,
   "metadata": {},
   "outputs": [
    {
     "name": "stdout",
     "output_type": "stream",
     "text": [
      "[0.20183568 0.52242907 0.27573525]\n"
     ]
    }
   ],
   "source": [
    "et.fit(train_input, train_target)\n",
    "\n",
    "print(et.feature_importances_)"
   ]
  },
  {
   "cell_type": "markdown",
   "metadata": {},
   "source": [
    "[알코올 동수, 당도, ph]"
   ]
  },
  {
   "cell_type": "markdown",
   "metadata": {},
   "source": [
    "* 보통 엑스트라 트리가 무작위성이 좀 더 크기 때문에, 랜덤 포레스트보다 더 많은 결정 트리를 훈련해야 한다\n",
    "* 하지만, 랜덤하게 노드를 분할하기 때문에 **빠른 계산 속도**가 엑스트라 트리의 장점\n",
    "    * 결정 트리는 최적의 분할을 찾는 데 시간을 많이 소모\n",
    "    * 특히, 고려해야 할 특성의 개수가 많을 때 더 그렇다\n",
    "    * 만약, 무작위로 나눈다면 휠씬 빨리 트리를 구성할 수 있다"
   ]
  },
  {
   "cell_type": "markdown",
   "metadata": {},
   "source": [
    "---"
   ]
  },
  {
   "cell_type": "markdown",
   "metadata": {},
   "source": [
    "## 그레이디언트 부스팅\n",
    "* gradient boosting은 깊이가 얕은 결정 트리를 사용하여 이전 트리의 오차를 보완하는 방식으로 앙상블 하는 방식\n",
    "* 사이킷런의 GradientBoostingClassifier : 기본적으로 깊이가 3인 결정 트리를 100개 사용"
   ]
  },
  {
   "cell_type": "markdown",
   "metadata": {},
   "source": [
    "* 깊이가 얕은 결정 트리를 사용 : 과대적합에 강하고 일반적으로 높은 일반화 성능을 기대할 수 있다\n",
    "* 경사 하강법을 사용합니다\n",
    "    * 이 방식으로 트리를 앙상블에 추가"
   ]
  },
  {
   "cell_type": "markdown",
   "metadata": {},
   "source": [
    "* 분류 : **로지스틱 손실 함수** 사용 \n",
    "* 회귀 : **평균 제곱 오차 함수** 사용"
   ]
  },
  {
   "cell_type": "code",
   "execution_count": 47,
   "metadata": {},
   "outputs": [
    {
     "name": "stdout",
     "output_type": "stream",
     "text": [
      "train_score : 0.8881086892152563\n",
      "test_score : 0.8720430147331015\n"
     ]
    }
   ],
   "source": [
    "from sklearn.ensemble import GradientBoostingClassifier\n",
    "\n",
    "gb = GradientBoostingClassifier(random_state=42)\n",
    "scores = cross_validate(gb, train_input, train_target, return_train_score=True, n_jobs=-1)\n",
    "\n",
    "print('train_score : {}\\ntest_score : {}'.format(np.mean(scores['train_score']), np.mean(scores['test_score'])))"
   ]
  },
  {
   "cell_type": "code",
   "execution_count": 48,
   "metadata": {},
   "outputs": [
    {
     "name": "stdout",
     "output_type": "stream",
     "text": [
      "train_score : 0.8872908264055726\n",
      "test_score : 0.8720428296438882\n"
     ]
    }
   ],
   "source": [
    "gb = GradientBoostingClassifier(n_estimators=500, learning_rate=0.02, random_state=42)\n",
    "scores = cross_validate(gb, train_input, train_target, return_train_score=True, n_jobs=-1)\n",
    "\n",
    "print('train_score : {}\\ntest_score : {}'.format(np.mean(scores['train_score']), np.mean(scores['test_score'])))"
   ]
  },
  {
   "cell_type": "code",
   "execution_count": 50,
   "metadata": {},
   "outputs": [
    {
     "name": "stdout",
     "output_type": "stream",
     "text": [
      "[0.12185869 0.74162442 0.13651689]\n"
     ]
    }
   ],
   "source": [
    "gb.fit(train_input, train_target)\n",
    "\n",
    "print(gb.feature_importances_)"
   ]
  },
  {
   "cell_type": "markdown",
   "metadata": {},
   "source": [
    "* 일반적으로 그레이디언트 부스팅이 랜덤 포레스트보다 조금 더 높은 성능을 얻는다\n",
    "* 하지만, 순서대로 트리를 추가하기 때문에 훈련 속도가 **느리다**"
   ]
  },
  {
   "cell_type": "markdown",
   "metadata": {},
   "source": [
    "---"
   ]
  },
  {
   "cell_type": "markdown",
   "metadata": {},
   "source": [
    "## 히스토그램 기반 부스팅\n",
    "* 히스토그램 기반 그레디언트 부스팅(Histogram-based Gradient Boosting) : 정형 데이터를 다루는 머신러닝 알고리즘 중에서 가장 인기 있는 알고리즘"
   ]
  },
  {
   "cell_type": "markdown",
   "metadata": {},
   "source": [
    "* 먼저 입력 특성을 256개의 구간으로 나눈다\n",
    "* 따라서, 노드를 분할할 때 최적의 분할을 매우 빠르게 찾을 수 있다\n",
    "* max_iter 매개변수 : 부스팅 반복 횟수를 지정"
   ]
  },
  {
   "cell_type": "code",
   "execution_count": 52,
   "metadata": {},
   "outputs": [],
   "source": [
    "from sklearn.experimental import enable_hist_gradient_boosting"
   ]
  },
  {
   "cell_type": "code",
   "execution_count": 55,
   "metadata": {},
   "outputs": [
    {
     "name": "stdout",
     "output_type": "stream",
     "text": [
      "train_score : 0.9321723946453317\n",
      "test_score : 0.8801241948619236\n"
     ]
    }
   ],
   "source": [
    "from sklearn.ensemble import HistGradientBoostingClassifier\n",
    "\n",
    "hgb = HistGradientBoostingClassifier(random_state=42)\n",
    "scores = cross_validate(hgb, train_input, train_target, return_train_score=True, n_jobs=-1)\n",
    "\n",
    "print('train_score : {}\\ntest_score : {}'.format(np.mean(scores['train_score']), np.mean(scores['test_score'])))"
   ]
  },
  {
   "cell_type": "code",
   "execution_count": 56,
   "metadata": {},
   "outputs": [
    {
     "data": {
      "text/plain": [
       "0.8723076923076923"
      ]
     },
     "execution_count": 56,
     "metadata": {},
     "output_type": "execute_result"
    }
   ],
   "source": [
    "hgb.fit(train_input, train_target)\n",
    "hgb.score(test_input, test_target)"
   ]
  },
  {
   "cell_type": "markdown",
   "metadata": {},
   "source": [
    "### Histogram-based Gradient Boosting의 특성 중요도\n",
    "* permutation_importance()\n",
    "* 이 함수는 특성을 하나씩 랜덤하게 섞어서 모델의 성능이 변화하는지를 관찰하여 어떤 특성이 중요한지를 계산\n",
    "* 훈련 세트 뿐만 아니라 테스트 세트에서도 적용할 수 있음\n",
    "* 사이킷런에서 제공하는 추정기 모델에 모두 사용 가능\n",
    "* n_repeats 매개변수 : 랜덤하게 섞을 횟수를 지정"
   ]
  },
  {
   "cell_type": "code",
   "execution_count": 64,
   "metadata": {},
   "outputs": [
    {
     "name": "stdout",
     "output_type": "stream",
     "text": [
      "[0.08876275 0.23438522 0.08027708]\n"
     ]
    }
   ],
   "source": [
    "from sklearn.inspection import permutation_importance\n",
    "hgb.fit(train_input, train_target)\n",
    "result = permutation_importance(hgb, train_input, train_target, n_repeats = 10, random_state=42, n_jobs=-1)\n",
    "\n",
    "# train data\n",
    "print(result.importances_mean)"
   ]
  },
  {
   "cell_type": "code",
   "execution_count": 65,
   "metadata": {},
   "outputs": [
    {
     "name": "stdout",
     "output_type": "stream",
     "text": [
      "[0.05969231 0.20238462 0.049     ]\n"
     ]
    }
   ],
   "source": [
    "result = permutation_importance(hgb, test_input, test_target, n_repeats = 10, random_state=42, n_jobs=-1)\n",
    "\n",
    "# test data\n",
    "print(result.importances_mean)"
   ]
  },
  {
   "cell_type": "markdown",
   "metadata": {},
   "source": [
    "#### XGBoost"
   ]
  },
  {
   "cell_type": "markdown",
   "metadata": {},
   "source": [
    "conda install -c anaconda py-xgboost"
   ]
  },
  {
   "cell_type": "code",
   "execution_count": 67,
   "metadata": {},
   "outputs": [
    {
     "name": "stdout",
     "output_type": "stream",
     "text": [
      "train_score : 0.9555033709953124\n",
      "test_score : 0.8799326275264677\n"
     ]
    }
   ],
   "source": [
    "from xgboost import XGBClassifier\n",
    "\n",
    "xgb = XGBClassifier(tree_method='hist', random_state=42)\n",
    "scores = cross_validate(xgb, train_input, train_target, return_train_score=True, n_jobs=-1)\n",
    "\n",
    "print('train_score : {}\\ntest_score : {}'.format(np.mean(scores['train_score']), np.mean(scores['test_score'])))"
   ]
  },
  {
   "cell_type": "markdown",
   "metadata": {},
   "source": [
    "#### LightGBM"
   ]
  },
  {
   "cell_type": "markdown",
   "metadata": {},
   "source": [
    "conda install -c conda-forge lightgbm"
   ]
  },
  {
   "cell_type": "code",
   "execution_count": 68,
   "metadata": {},
   "outputs": [
    {
     "name": "stdout",
     "output_type": "stream",
     "text": [
      "train_score : 0.935828414851749\n",
      "test_score : 0.8801251203079884\n"
     ]
    }
   ],
   "source": [
    "from lightgbm import LGBMClassifier\n",
    "\n",
    "lgb = LGBMClassifier(random_state=42)\n",
    "scores = cross_validate(lgb, train_input, train_target, return_train_score=True, n_jobs=-1)\n",
    "\n",
    "print('train_score : {}\\ntest_score : {}'.format(np.mean(scores['train_score']), np.mean(scores['test_score'])))"
   ]
  }
 ],
 "metadata": {
  "interpreter": {
   "hash": "425a1af5f1e5390d8981f7ca16a01614bb8c35f7954543dfc17a8690ba4dff91"
  },
  "kernelspec": {
   "display_name": "Python 3.9.7 ('base')",
   "language": "python",
   "name": "python3"
  },
  "language_info": {
   "codemirror_mode": {
    "name": "ipython",
    "version": 3
   },
   "file_extension": ".py",
   "mimetype": "text/x-python",
   "name": "python",
   "nbconvert_exporter": "python",
   "pygments_lexer": "ipython3",
   "version": "3.9.7"
  },
  "orig_nbformat": 4
 },
 "nbformat": 4,
 "nbformat_minor": 2
}
