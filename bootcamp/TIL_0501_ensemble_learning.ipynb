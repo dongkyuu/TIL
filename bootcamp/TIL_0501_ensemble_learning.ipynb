{
 "cells": [
  {
   "cell_type": "markdown",
   "metadata": {},
   "source": [
    "# 트리의 앙상블"
   ]
  },
  {
   "cell_type": "markdown",
   "metadata": {},
   "source": [
    "* 앙상블 모델(ensemble learning) : 정형 데이터를 다루는 데 가장 뛰어난 성과를 내는 알고리즘\n",
    "* 대부분 결정 트리를 기반으로 만들어져 있음"
   ]
  },
  {
   "cell_type": "markdown",
   "metadata": {},
   "source": [
    "* 정형 데이터\n",
    "    * csv, 엑셀, json, xml 등 구조화 된 방식으로 된 데이터\n",
    "* 비정형 데이터\n",
    "    * 이미지, 영상, 텍스트, 오디오"
   ]
  },
  {
   "cell_type": "markdown",
   "metadata": {},
   "source": [
    "### 랜덤포레스트 (random forest)\n",
    "* 앙상블 학습의 대표 주자 중 하나로 안정적인 성능 덕분에 널리 사용됨\n",
    "* 결정 트리를 랜덤하게 만들어 나무의 숲을 만든다 \n",
    "* 그리고, 각 결정 트리의 예측을 사용해 최종 예측 "
   ]
  },
  {
   "cell_type": "markdown",
   "metadata": {},
   "source": []
  }
 ],
 "metadata": {
  "interpreter": {
   "hash": "425a1af5f1e5390d8981f7ca16a01614bb8c35f7954543dfc17a8690ba4dff91"
  },
  "kernelspec": {
   "display_name": "Python 3.9.7 ('base')",
   "language": "python",
   "name": "python3"
  },
  "language_info": {
   "codemirror_mode": {
    "name": "ipython",
    "version": 3
   },
   "file_extension": ".py",
   "mimetype": "text/x-python",
   "name": "python",
   "nbconvert_exporter": "python",
   "pygments_lexer": "ipython3",
   "version": "3.9.7"
  },
  "orig_nbformat": 4
 },
 "nbformat": 4,
 "nbformat_minor": 2
}
