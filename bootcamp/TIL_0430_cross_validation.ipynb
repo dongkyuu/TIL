{
 "cells": [
  {
   "cell_type": "markdown",
   "metadata": {},
   "source": [
    "# 교차 검증과 그리드 서치"
   ]
  },
  {
   "cell_type": "markdown",
   "metadata": {},
   "source": [
    "## 검증 세트"
   ]
  },
  {
   "cell_type": "markdown",
   "metadata": {},
   "source": [
    "* 테스트 세트를 사용하지 않으면 모델이 과대적합인지 과소적합인지 판단하기 어렵다\n",
    "* 테스트 세트를 사용하지 않고 이를 측정하는 간단한 방법은 훈련 세트를 또 나누어 검증 세트(validation set)를 생성하는 것\n",
    "* 이 방법은 단순하고 실제로 많이 사용 "
   ]
  },
  {
   "cell_type": "markdown",
   "metadata": {},
   "source": [
    "* 훈련 세트에서 모델을 훈련하고 검증 세트로 모델을 평가 \n",
    "* 이런 식으로 테스트하고 싶은 매개변수를 바꿔가며 가장 좋은 모델을 선택 \n",
    "* 그 다음 이 매개변수를 사용해 훈련 세트와 검증 세트를 합쳐 전체 훈련 데이터에서 모델을 다시 훈련\n",
    "* 테스트 세트에서 최종 점수를 평가합니다. "
   ]
  },
  {
   "cell_type": "code",
   "execution_count": 49,
   "metadata": {},
   "outputs": [],
   "source": [
    "import pandas as pd\n",
    "import numpy as np\n",
    "\n",
    "wine = pd.read_csv('https://bit.ly/wine-date')"
   ]
  },
  {
   "cell_type": "code",
   "execution_count": 3,
   "metadata": {},
   "outputs": [],
   "source": [
    "data = wine[['alcohol', 'sugar', 'pH']].to_numpy()\n",
    "target = wine['class'].to_numpy()"
   ]
  },
  {
   "cell_type": "code",
   "execution_count": 4,
   "metadata": {},
   "outputs": [],
   "source": [
    "from sklearn.model_selection import train_test_split\n",
    "\n",
    "train_input, test_input, train_target, test_target = train_test_split(data, target, test_size=0.2, random_state=42)"
   ]
  },
  {
   "cell_type": "markdown",
   "metadata": {},
   "source": [
    "* 훈련 데이터에서 검증 데이터 분리"
   ]
  },
  {
   "cell_type": "code",
   "execution_count": 5,
   "metadata": {},
   "outputs": [],
   "source": [
    "sub_input, val_input, sub_target, val_target = train_test_split(train_input, train_target, test_size=0.2, random_state=42)"
   ]
  },
  {
   "cell_type": "markdown",
   "metadata": {},
   "source": [
    "* 데이터 비율 조사"
   ]
  },
  {
   "cell_type": "code",
   "execution_count": 15,
   "metadata": {},
   "outputs": [
    {
     "name": "stdout",
     "output_type": "stream",
     "text": [
      "원본 데이터 : (6497, 3)\n",
      "훈련 데이터 : (4157, 3)\n",
      "검증 데이터 : (1040, 3)\n",
      "테스트 데이터 : (1300, 3)\n"
     ]
    }
   ],
   "source": [
    "print('원본 데이터 : {}'.format(data.shape))\n",
    "print('훈련 데이터 : {}'.format(sub_input.shape))\n",
    "print('검증 데이터 : {}'.format(val_input.shape))\n",
    "print('테스트 데이터 : {}'.format(test_input.shape))"
   ]
  },
  {
   "cell_type": "markdown",
   "metadata": {},
   "source": [
    "## 모델 생성"
   ]
  },
  {
   "cell_type": "code",
   "execution_count": 26,
   "metadata": {},
   "outputs": [
    {
     "name": "stdout",
     "output_type": "stream",
     "text": [
      "(train, test) 데이터 사용 :\n",
      "train score : 0.996921300750433\n",
      "test score : 0.8584615384615385\n",
      "-------------------------\n",
      "(sub, val) 데이터 사용 :\n",
      "sub score : 0.9971133028626413\n",
      "val score : 0.864423076923077\n"
     ]
    }
   ],
   "source": [
    "from sklearn.tree import DecisionTreeClassifier\n",
    "\n",
    "dt1 = DecisionTreeClassifier(random_state=42)\n",
    "dt2 = DecisionTreeClassifier(random_state=42)\n",
    "dt1.fit(train_input, train_target)\n",
    "dt2.fit(sub_input, sub_target)\n",
    "\n",
    "print('(train, test) 데이터 사용 :')\n",
    "print('train score : {}'.format(dt1.score(train_input, train_target)))\n",
    "print('test score : {}'.format(dt1.score(test_input, test_target)))\n",
    "\n",
    "print('-------------------------')\n",
    "\n",
    "print('(sub, val) 데이터 사용 :')\n",
    "print('sub score : {}'.format(dt2.score(sub_input, sub_target)))\n",
    "print('val score : {}'.format(dt2.score(val_input, val_target)))"
   ]
  },
  {
   "cell_type": "markdown",
   "metadata": {},
   "source": [
    "---"
   ]
  },
  {
   "cell_type": "markdown",
   "metadata": {},
   "source": [
    "## 교차 검증\n",
    "* 검증 세트를 만드느라 훈련 세트가 줄었다.\n",
    "* 보통 많은 데이터를 훈련에 사용할수록, 좋은 모델이 만들어진다\n",
    "* 그렇다고 검증 세트를 너무 조금 떼어 놓으면 검증 점수가 들쭉날쭉하고 불안정할 것 \n",
    "* 교차 검증(cross validation)을 이용하면 안정적인 검증 점수를 얻고, 훈련에 더 많은 데이터를 사용할 수 있다"
   ]
  },
  {
   "cell_type": "markdown",
   "metadata": {},
   "source": [
    "#### k-fold 교차검증\n",
    "* 훈련 세트를 k개의 부분으로 나눠서 교차 검증을 수행하는 것"
   ]
  },
  {
   "cell_type": "code",
   "execution_count": 32,
   "metadata": {},
   "outputs": [
    {
     "name": "stdout",
     "output_type": "stream",
     "text": [
      "{'fit_time': array([0.00800276, 0.00894475, 0.00598168, 0.00801086, 0.00797558]), 'score_time': array([0.00099945, 0.00099969, 0.        , 0.00196481, 0.00099659]), 'test_score': array([0.86923077, 0.84615385, 0.87680462, 0.84889317, 0.83541867])}\n"
     ]
    }
   ],
   "source": [
    "from sklearn.model_selection import cross_validate\n",
    "\n",
    "dt = DecisionTreeClassifier(random_state=42)\n",
    "result = cross_validate(dt, train_input, train_target, cv=5)\n",
    "\n",
    "print(result)"
   ]
  },
  {
   "cell_type": "markdown",
   "metadata": {},
   "source": [
    "* cv : k값 설정\n",
    "    * 기본값 : 5"
   ]
  },
  {
   "cell_type": "code",
   "execution_count": 40,
   "metadata": {},
   "outputs": [
    {
     "name": "stdout",
     "output_type": "stream",
     "text": [
      "{'fit_time': array([0.00897598, 0.0079782 , 0.01096892, 0.00997543, 0.00893617,\n",
      "       0.00701046, 0.00599337, 0.01096511, 0.00995445, 0.00897217,\n",
      "       0.00894451, 0.0060358 , 0.0069623 , 0.00600505, 0.00792742,\n",
      "       0.00603366, 0.00696492, 0.00599599, 0.00593567, 0.00597405]), 'score_time': array([0.00099683, 0.        , 0.        , 0.00103307, 0.00099874,\n",
      "       0.00099826, 0.00099683, 0.        , 0.        , 0.00099778,\n",
      "       0.        , 0.00099754, 0.        , 0.        , 0.        ,\n",
      "       0.        , 0.        , 0.        , 0.0010066 , 0.        ]), 'test_score': array([0.85      , 0.83461538, 0.85384615, 0.87692308, 0.85      ,\n",
      "       0.88461538, 0.83846154, 0.86153846, 0.87692308, 0.89615385,\n",
      "       0.86538462, 0.88076923, 0.86923077, 0.85384615, 0.87307692,\n",
      "       0.88461538, 0.85384615, 0.86872587, 0.84942085, 0.83783784])}\n"
     ]
    }
   ],
   "source": [
    "result_cv10 = cross_validate(dt, train_input, train_target, cv=20)\n",
    "print(result_cv10)"
   ]
  },
  {
   "cell_type": "code",
   "execution_count": 44,
   "metadata": {},
   "outputs": [
    {
     "name": "stdout",
     "output_type": "stream",
     "text": [
      "dict_keys(['fit_time', 'score_time', 'test_score'])\n"
     ]
    }
   ],
   "source": [
    "print(result_cv10.keys())"
   ]
  },
  {
   "cell_type": "markdown",
   "metadata": {},
   "source": [
    "* 'fit_time' : 모델을 훈련하는 시간\n",
    "* 'socre_time' : 모델을 검증하는 시간\n",
    "* 'test_score' : 모델 평가 점수"
   ]
  },
  {
   "cell_type": "code",
   "execution_count": 45,
   "metadata": {},
   "outputs": [
    {
     "name": "stdout",
     "output_type": "stream",
     "text": [
      "0.8629915354915356\n"
     ]
    }
   ],
   "source": [
    "print(result_cv10['test_score'].mean())"
   ]
  },
  {
   "cell_type": "markdown",
   "metadata": {},
   "source": [
    "##### StratifiedKFold() :\n",
    "* 교차 검증 시 훈련 세트를 섞을 필요가 있을 때 사용\n",
    "* cross_validate()는 훈련 세트를 섞어 폴드를 나누지 않는다 "
   ]
  },
  {
   "cell_type": "code",
   "execution_count": 62,
   "metadata": {},
   "outputs": [
    {
     "name": "stdout",
     "output_type": "stream",
     "text": [
      "0.855300214703487\n"
     ]
    }
   ],
   "source": [
    "from sklearn.model_selection import StratifiedKFold\n",
    "\n",
    "dt = DecisionTreeClassifier(random_state=42)\n",
    "scores = cross_validate(dt, train_input, train_target, cv=StratifiedKFold())\n",
    "\n",
    "print(np.mean(scores['test_score']))"
   ]
  },
  {
   "cell_type": "markdown",
   "metadata": {},
   "source": [
    "* n_splits : 10 으로 설정하여 10-fold 교차 검증 수행"
   ]
  },
  {
   "cell_type": "code",
   "execution_count": 63,
   "metadata": {},
   "outputs": [
    {
     "name": "stdout",
     "output_type": "stream",
     "text": [
      "0.8574181117533719\n"
     ]
    }
   ],
   "source": [
    "dt = DecisionTreeClassifier(random_state=42)\n",
    "splitter = StratifiedKFold(n_splits=10, shuffle=True, random_state=42)\n",
    "scores = cross_validate(dt, train_input, train_target, cv=splitter)\n",
    "\n",
    "print(np.mean(scores['test_score']))"
   ]
  },
  {
   "cell_type": "markdown",
   "metadata": {},
   "source": [
    "## iris 데이터를 통한 교차검증"
   ]
  },
  {
   "cell_type": "code",
   "execution_count": 64,
   "metadata": {},
   "outputs": [],
   "source": [
    "from sklearn.datasets import load_iris"
   ]
  },
  {
   "cell_type": "code",
   "execution_count": 98,
   "metadata": {},
   "outputs": [
    {
     "name": "stdout",
     "output_type": "stream",
     "text": [
      "dict_keys(['data', 'target', 'frame', 'target_names', 'DESCR', 'feature_names', 'filename'])\n"
     ]
    }
   ],
   "source": [
    "iris = load_iris()\n",
    "print(iris.keys())"
   ]
  },
  {
   "cell_type": "code",
   "execution_count": 94,
   "metadata": {},
   "outputs": [
    {
     "name": "stdout",
     "output_type": "stream",
     "text": [
      "(150, 4)\n"
     ]
    }
   ],
   "source": [
    "iris_data = iris.data\n",
    "print(iris_data.shape)"
   ]
  },
  {
   "cell_type": "code",
   "execution_count": 92,
   "metadata": {},
   "outputs": [
    {
     "name": "stdout",
     "output_type": "stream",
     "text": [
      "iris 데이터 (5행) : \n",
      "[[5.1 3.5 1.4 0.2]\n",
      " [4.9 3.  1.4 0.2]\n",
      " [4.7 3.2 1.3 0.2]\n",
      " [4.6 3.1 1.5 0.2]\n",
      " [5.  3.6 1.4 0.2]]\n",
      "iris 클래스 : ['setosa' 'versicolor' 'virginica']\n",
      "iris 특성 : ['sepal length (cm)', 'sepal width (cm)', 'petal length (cm)', 'petal width (cm)']\n"
     ]
    }
   ],
   "source": [
    "print('iris 데이터 (5행) : \\n{}'.format(iris_data[:5]))\n",
    "print('iris 클래스 : {}'.format(iris.target_names))\n",
    "print('iris 특성 : {}'.format(iris.feature_names))"
   ]
  },
  {
   "cell_type": "code",
   "execution_count": 129,
   "metadata": {},
   "outputs": [
    {
     "name": "stdout",
     "output_type": "stream",
     "text": [
      "0.96\n"
     ]
    }
   ],
   "source": [
    "dt = DecisionTreeClassifier(random_state=42)\n",
    "iris_scores = cross_validate(dt, iris_data, iris.target, cv=3)\n",
    "\n",
    "print(iris_scores['test_score'].mean())"
   ]
  },
  {
   "cell_type": "code",
   "execution_count": 128,
   "metadata": {},
   "outputs": [
    {
     "name": "stdout",
     "output_type": "stream",
     "text": [
      "0.9533333333333335\n"
     ]
    }
   ],
   "source": [
    "splitter = StratifiedKFold(n_splits=5, shuffle=True, random_state=42)\n",
    "scores = cross_validate(dt, iris_data, iris.target, cv=splitter)\n",
    "\n",
    "print(np.mean(scores['test_score']))"
   ]
  },
  {
   "cell_type": "markdown",
   "metadata": {},
   "source": [
    "### KFold 클래스"
   ]
  },
  {
   "cell_type": "code",
   "execution_count": 201,
   "metadata": {},
   "outputs": [
    {
     "name": "stdout",
     "output_type": "stream",
     "text": [
      "붓꽃 데이터 세트 크기: 150\n"
     ]
    }
   ],
   "source": [
    "from sklearn.tree import DecisionTreeClassifier\n",
    "from sklearn.metrics import accuracy_score\n",
    "from sklearn.model_selection import KFold\n",
    "import numpy as np\n",
    "\n",
    "iris = load_iris()\n",
    "features = iris.data\n",
    "label = iris.target\n",
    "dt_clf = DecisionTreeClassifier(random_state=156)\n",
    "\n",
    "# 폴드 세트별 정확도를 담을 리스트 객체 생성\n",
    "cv_accuracy = []\n",
    "print('붓꽃 데이터 세트 크기:',features.shape[0])"
   ]
  },
  {
   "cell_type": "code",
   "execution_count": 196,
   "metadata": {},
   "outputs": [
    {
     "data": {
      "text/plain": [
       "0    50\n",
       "1    50\n",
       "2    50\n",
       "Name: label, dtype: int64"
      ]
     },
     "execution_count": 196,
     "metadata": {},
     "output_type": "execute_result"
    }
   ],
   "source": [
    "iris_df = pd.DataFrame(data=iris.data, columns=iris.feature_names)\n",
    "iris_df['label']=iris.target\n",
    "iris_df['label'].value_counts()"
   ]
  },
  {
   "cell_type": "markdown",
   "metadata": {},
   "source": [
    "* Kfold 같은 경우 데이터를 순차적으로 분할"
   ]
  },
  {
   "cell_type": "code",
   "execution_count": 212,
   "metadata": {},
   "outputs": [
    {
     "name": "stdout",
     "output_type": "stream",
     "text": [
      "## 교차 검증: 1\n",
      "학습 레이블 데이터 분포:\n",
      " 1    50\n",
      "2    50\n",
      "Name: label, dtype: int64\n",
      "검증 레이블 데이터 분포:\n",
      " 0    50\n",
      "Name: label, dtype: int64\n",
      "accuracy : 0.0\n",
      "--------------------------------------\n",
      "## 교차 검증: 2\n",
      "학습 레이블 데이터 분포:\n",
      " 0    50\n",
      "2    50\n",
      "Name: label, dtype: int64\n",
      "검증 레이블 데이터 분포:\n",
      " 1    50\n",
      "Name: label, dtype: int64\n",
      "accuracy : 0.0\n",
      "--------------------------------------\n",
      "## 교차 검증: 3\n",
      "학습 레이블 데이터 분포:\n",
      " 0    50\n",
      "1    50\n",
      "Name: label, dtype: int64\n",
      "검증 레이블 데이터 분포:\n",
      " 2    50\n",
      "Name: label, dtype: int64\n",
      "accuracy : 0.0\n",
      "--------------------------------------\n"
     ]
    }
   ],
   "source": [
    "kfold_3 = KFold(n_splits=3)\n",
    "\n",
    "# KFold(n_splits=k).split(X) : 폴드 세트를 k번 반복할 때마다 달라지는 학습/테스트 용 데이터 로우 인덱스 번호 반환\n",
    "n_iter = 0\n",
    "for train_index, test_index in kfold_3.split(iris_df):\n",
    "    n_iter += 1\n",
    "\n",
    "    train_label = iris_df['label'].iloc[train_index]\n",
    "    test_label = iris_df['label'].iloc[test_index]\n",
    "\n",
    "    train_data = iris_df[['sepal length (cm)', 'sepal width (cm)', 'petal length (cm)','petal width (cm)']].iloc[train_index]\n",
    "    test_data = iris_df.drop(['label'], axis=1).iloc[test_index]\n",
    "\n",
    "    print('## 교차 검증: {}'.format(n_iter))\n",
    "    print('학습 레이블 데이터 분포:\\n', train_label.value_counts())\n",
    "    print('검증 레이블 데이터 분포:\\n', test_label.value_counts())\n",
    "    dt_clf.fit(train_data , train_label)    \n",
    "    pred = dt_clf.predict(test_data)\n",
    "\n",
    "    # 반복 시 마다 정확도 측정 \n",
    "    accuracy = np.round(accuracy_score(test_label, pred), 4)\n",
    "    print(f\"accuracy : {accuracy}\")\n",
    "    print(\"--------------------------------------\")"
   ]
  },
  {
   "cell_type": "markdown",
   "metadata": {},
   "source": [
    "* 왜 정확도가 모두 0일까?\n",
    "    * => 학습 데이터 레이블안에 검증 데이터 레이블이 하나도 포함이 안되기 때문\n",
    "    * 수학, 영어 공부를 했는데, 시험은 국어를 보는 것과 같다"
   ]
  },
  {
   "cell_type": "code",
   "execution_count": 206,
   "metadata": {},
   "outputs": [
    {
     "data": {
      "text/plain": [
       "(array([0, 1, 2]), array([50, 50, 50], dtype=int64))"
      ]
     },
     "execution_count": 206,
     "metadata": {},
     "output_type": "execute_result"
    }
   ],
   "source": [
    "np.unique(iris.target, return_counts=True)"
   ]
  },
  {
   "cell_type": "markdown",
   "metadata": {},
   "source": [
    "* **k=5 라고 설정 (5-fold 교차검증)**"
   ]
  },
  {
   "cell_type": "code",
   "execution_count": 223,
   "metadata": {},
   "outputs": [
    {
     "name": "stdout",
     "output_type": "stream",
     "text": [
      "## 교차 검증: 1\n",
      "학습 레이블 데이터 분포:\n",
      " 1    50\n",
      "2    50\n",
      "0    20\n",
      "Name: label, dtype: int64\n",
      "검증 레이블 데이터 분포:\n",
      " 0    30\n",
      "Name: label, dtype: int64\n",
      "accuracy : 1.0\n",
      "--------------------------------------\n",
      "## 교차 검증: 2\n",
      "학습 레이블 데이터 분포:\n",
      " 2    50\n",
      "1    40\n",
      "0    30\n",
      "Name: label, dtype: int64\n",
      "검증 레이블 데이터 분포:\n",
      " 0    20\n",
      "1    10\n",
      "Name: label, dtype: int64\n",
      "accuracy : 0.9667\n",
      "--------------------------------------\n",
      "## 교차 검증: 3\n",
      "학습 레이블 데이터 분포:\n",
      " 0    50\n",
      "2    50\n",
      "1    20\n",
      "Name: label, dtype: int64\n",
      "검증 레이블 데이터 분포:\n",
      " 1    30\n",
      "Name: label, dtype: int64\n",
      "accuracy : 0.8667\n",
      "--------------------------------------\n",
      "## 교차 검증: 4\n",
      "학습 레이블 데이터 분포:\n",
      " 0    50\n",
      "1    40\n",
      "2    30\n",
      "Name: label, dtype: int64\n",
      "검증 레이블 데이터 분포:\n",
      " 2    20\n",
      "1    10\n",
      "Name: label, dtype: int64\n",
      "accuracy : 0.9333\n",
      "--------------------------------------\n",
      "## 교차 검증: 5\n",
      "학습 레이블 데이터 분포:\n",
      " 0    50\n",
      "1    50\n",
      "2    20\n",
      "Name: label, dtype: int64\n",
      "검증 레이블 데이터 분포:\n",
      " 2    30\n",
      "Name: label, dtype: int64\n",
      "accuracy : 0.7333\n",
      "--------------------------------------\n"
     ]
    }
   ],
   "source": [
    "kfold_5 = KFold(n_splits=5)\n",
    "\n",
    "n_iter = 0\n",
    "for train_index, test_index in kfold_5.split( iris_df):\n",
    "    n_iter += 1\n",
    "\n",
    "    train_label = iris_df['label'].iloc[train_index]\n",
    "    test_label = iris_df['label'].iloc[test_index]\n",
    "\n",
    "    train_data = iris_df[['sepal length (cm)', 'sepal width (cm)', 'petal length (cm)','petal width (cm)']].iloc[train_index]\n",
    "    test_data = iris_df.drop(['label'], axis=1).iloc[test_index]\n",
    "\n",
    "    print('## 교차 검증: {}'.format(n_iter))\n",
    "    print('학습 레이블 데이터 분포:\\n', train_label.value_counts())\n",
    "    print('검증 레이블 데이터 분포:\\n', test_label.value_counts())\n",
    "    dt_clf.fit(train_data , train_label)    \n",
    "    pred = dt_clf.predict(test_data)\n",
    "\n",
    "    # 반복 시 마다 정확도 측정\n",
    "    accuracy = np.round(accuracy_score(test_label, pred), 4)\n",
    "    print(f\"accuracy : {accuracy}\")\n",
    "    print(\"--------------------------------------\")"
   ]
  },
  {
   "cell_type": "markdown",
   "metadata": {},
   "source": [
    "* **StratifiedKFold()**\n",
    "    - 불균형한(imbalanced) 분포도를 가진 레이블 데이터 집합을 위한 k-fold"
   ]
  },
  {
   "cell_type": "code",
   "execution_count": 224,
   "metadata": {},
   "outputs": [
    {
     "name": "stdout",
     "output_type": "stream",
     "text": [
      "## 교차 검증: 1\n",
      "학습 레이블 데이터 분포:\n",
      " 2    34\n",
      "0    33\n",
      "1    33\n",
      "Name: label, dtype: int64\n",
      "검증 레이블 데이터 분포:\n",
      " 0    17\n",
      "1    17\n",
      "2    16\n",
      "Name: label, dtype: int64\n",
      "accuracy : 0.98\n",
      "--------------------------------------\n",
      "## 교차 검증: 2\n",
      "학습 레이블 데이터 분포:\n",
      " 1    34\n",
      "0    33\n",
      "2    33\n",
      "Name: label, dtype: int64\n",
      "검증 레이블 데이터 분포:\n",
      " 0    17\n",
      "2    17\n",
      "1    16\n",
      "Name: label, dtype: int64\n",
      "accuracy : 0.94\n",
      "--------------------------------------\n",
      "## 교차 검증: 3\n",
      "학습 레이블 데이터 분포:\n",
      " 0    34\n",
      "1    33\n",
      "2    33\n",
      "Name: label, dtype: int64\n",
      "검증 레이블 데이터 분포:\n",
      " 1    17\n",
      "2    17\n",
      "0    16\n",
      "Name: label, dtype: int64\n",
      "accuracy : 0.98\n",
      "--------------------------------------\n"
     ]
    }
   ],
   "source": [
    "from sklearn.model_selection import StratifiedKFold\n",
    "stratified_kfold = StratifiedKFold(n_splits=3)\n",
    "\n",
    "n_iter = 0\n",
    "for train_index, test_index in stratified_kfold.split(iris_df, iris_df['label']):\n",
    "    n_iter += 1\n",
    "\n",
    "    train_label = iris_df['label'].iloc[train_index]\n",
    "    test_label = iris_df['label'].iloc[test_index]\n",
    "\n",
    "    train_data = iris_df[['sepal length (cm)', 'sepal width (cm)', 'petal length (cm)','petal width (cm)']].iloc[train_index]\n",
    "    test_data = iris_df.drop(['label'], axis=1).iloc[test_index]\n",
    "\n",
    "    print('## 교차 검증: {}'.format(n_iter))\n",
    "    print('학습 레이블 데이터 분포:\\n', train_label.value_counts())\n",
    "    print('검증 레이블 데이터 분포:\\n', test_label.value_counts())\n",
    "    dt_clf.fit(train_data , train_label)    \n",
    "    pred = dt_clf.predict(test_data)\n",
    "\n",
    "    # 반복 시 마다 정확도 측정\n",
    "    accuracy = np.round(accuracy_score(test_label, pred), 4)\n",
    "    print(f\"accuracy : {accuracy}\")\n",
    "    print(\"--------------------------------------\")"
   ]
  },
  {
   "cell_type": "markdown",
   "metadata": {},
   "source": [
    "* n_splits=3 으로 k를 3으로 설정했지만, KFold()를 사용했을 때와 달리, StratifiedKFold()를 사용함으로써 label 비율대로 학습, 검증 데이터가 나뉘어짐\n",
    "* 국어, 영어, 수학을 골고루 공부하고, 시험도 국어, 영어 수학 문제가 나옴"
   ]
  },
  {
   "cell_type": "code",
   "execution_count": 216,
   "metadata": {},
   "outputs": [
    {
     "name": "stdout",
     "output_type": "stream",
     "text": [
      "Help on function split in module sklearn.model_selection._split:\n",
      "\n",
      "split(self, X, y, groups=None)\n",
      "    Generate indices to split data into training and test set.\n",
      "    \n",
      "    Parameters\n",
      "    ----------\n",
      "    X : array-like of shape (n_samples, n_features)\n",
      "        Training data, where n_samples is the number of samples\n",
      "        and n_features is the number of features.\n",
      "    \n",
      "        Note that providing ``y`` is sufficient to generate the splits and\n",
      "        hence ``np.zeros(n_samples)`` may be used as a placeholder for\n",
      "        ``X`` instead of actual training data.\n",
      "    \n",
      "    y : array-like of shape (n_samples,)\n",
      "        The target variable for supervised learning problems.\n",
      "        Stratification is done based on the y labels.\n",
      "    \n",
      "    groups : object\n",
      "        Always ignored, exists for compatibility.\n",
      "    \n",
      "    Yields\n",
      "    ------\n",
      "    train : ndarray\n",
      "        The training set indices for that split.\n",
      "    \n",
      "    test : ndarray\n",
      "        The testing set indices for that split.\n",
      "    \n",
      "    Notes\n",
      "    -----\n",
      "    Randomized CV splitters may return different results for each call of\n",
      "    split. You can make the results identical by setting `random_state`\n",
      "    to an integer.\n",
      "\n"
     ]
    }
   ],
   "source": [
    "help(StratifiedKFold.split)"
   ]
  },
  {
   "cell_type": "code",
   "execution_count": 217,
   "metadata": {},
   "outputs": [
    {
     "name": "stdout",
     "output_type": "stream",
     "text": [
      "Help on function split in module sklearn.model_selection._split:\n",
      "\n",
      "split(self, X, y=None, groups=None)\n",
      "    Generate indices to split data into training and test set.\n",
      "    \n",
      "    Parameters\n",
      "    ----------\n",
      "    X : array-like of shape (n_samples, n_features)\n",
      "        Training data, where n_samples is the number of samples\n",
      "        and n_features is the number of features.\n",
      "    \n",
      "    y : array-like of shape (n_samples,), default=None\n",
      "        The target variable for supervised learning problems.\n",
      "    \n",
      "    groups : array-like of shape (n_samples,), default=None\n",
      "        Group labels for the samples used while splitting the dataset into\n",
      "        train/test set.\n",
      "    \n",
      "    Yields\n",
      "    ------\n",
      "    train : ndarray\n",
      "        The training set indices for that split.\n",
      "    \n",
      "    test : ndarray\n",
      "        The testing set indices for that split.\n",
      "\n"
     ]
    }
   ],
   "source": [
    "help(KFold.split)"
   ]
  },
  {
   "cell_type": "code",
   "execution_count": null,
   "metadata": {},
   "outputs": [],
   "source": []
  },
  {
   "cell_type": "code",
   "execution_count": 106,
   "metadata": {},
   "outputs": [
    {
     "data": {
      "text/plain": [
       "(array([0, 1, 2]), array([50, 50, 50], dtype=int64))"
      ]
     },
     "execution_count": 106,
     "metadata": {},
     "output_type": "execute_result"
    }
   ],
   "source": [
    "np.unique(iris.target, return_counts=True)"
   ]
  },
  {
   "cell_type": "code",
   "execution_count": 183,
   "metadata": {},
   "outputs": [
    {
     "data": {
      "text/plain": [
       "0    50\n",
       "1    50\n",
       "Name: label, dtype: int64"
      ]
     },
     "execution_count": 183,
     "metadata": {},
     "output_type": "execute_result"
    }
   ],
   "source": [
    "iris_df['label'].iloc[train_index].value_counts()"
   ]
  },
  {
   "cell_type": "code",
   "execution_count": 164,
   "metadata": {},
   "outputs": [
    {
     "data": {
      "text/plain": [
       "0     0\n",
       "1     0\n",
       "2     0\n",
       "3     0\n",
       "4     0\n",
       "5     0\n",
       "6     0\n",
       "7     0\n",
       "8     0\n",
       "9     0\n",
       "10    0\n",
       "11    0\n",
       "12    0\n",
       "13    0\n",
       "14    0\n",
       "15    0\n",
       "16    0\n",
       "17    0\n",
       "18    0\n",
       "19    0\n",
       "20    0\n",
       "21    0\n",
       "22    0\n",
       "23    0\n",
       "24    0\n",
       "25    0\n",
       "26    0\n",
       "27    0\n",
       "28    0\n",
       "29    0\n",
       "30    0\n",
       "31    0\n",
       "32    0\n",
       "33    0\n",
       "34    0\n",
       "35    0\n",
       "36    0\n",
       "37    0\n",
       "38    0\n",
       "39    0\n",
       "40    0\n",
       "41    0\n",
       "42    0\n",
       "43    0\n",
       "44    0\n",
       "45    0\n",
       "46    0\n",
       "47    0\n",
       "48    0\n",
       "49    0\n",
       "Name: label, dtype: int32"
      ]
     },
     "execution_count": 164,
     "metadata": {},
     "output_type": "execute_result"
    }
   ],
   "source": [
    "iris_df['label'].iloc[range(50)]\n"
   ]
  },
  {
   "cell_type": "code",
   "execution_count": null,
   "metadata": {},
   "outputs": [],
   "source": []
  }
 ],
 "metadata": {
  "interpreter": {
   "hash": "28dbbcd4153a15a648842870e24f6d57889168efc133f4ce2c73b34cc60bcb4e"
  },
  "kernelspec": {
   "display_name": "Python 3.9.11 ('test')",
   "language": "python",
   "name": "python3"
  },
  "language_info": {
   "codemirror_mode": {
    "name": "ipython",
    "version": 3
   },
   "file_extension": ".py",
   "mimetype": "text/x-python",
   "name": "python",
   "nbconvert_exporter": "python",
   "pygments_lexer": "ipython3",
   "version": "3.9.7"
  },
  "orig_nbformat": 4
 },
 "nbformat": 4,
 "nbformat_minor": 2
}
