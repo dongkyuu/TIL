{
 "cells": [
  {
   "cell_type": "markdown",
   "id": "7439a972",
   "metadata": {},
   "source": [
    "# Machine Learning"
   ]
  },
  {
   "cell_type": "markdown",
   "id": "80da335c",
   "metadata": {},
   "source": [
    "## classification"
   ]
  },
  {
   "cell_type": "markdown",
   "id": "7580aa71",
   "metadata": {},
   "source": [
    "### 생선 분류 문제\n",
    "+ 데이터를 기반으로 도미와 빙어 구분\n",
    "- 이진 분류"
   ]
  },
  {
   "cell_type": "markdown",
   "id": "77854776",
   "metadata": {},
   "source": [
    "#### 도미(bream), 빙어(smelt) 데이터 생성"
   ]
  },
  {
   "cell_type": "code",
   "execution_count": 1,
   "id": "8cd27ff4",
   "metadata": {},
   "outputs": [],
   "source": [
    "bream_length = [25.4, 26.3, 26.5, 29.0, 29.0, 29.7, 29.7, 30.0, 30.0, 30.7, 31.0, 31.0, 31.5, 32.0, 32.0, 32.0, 33.0, 33.0, 33.5, 33.5, 34.0, 34.0, 34.5, 35.0, 35.0, 35.0, 35.0, 36.0, 36.0, 37.0, 38.5, 38.5, 39.5, 41.0, 41.0]\n",
    "bream_weight = [242.0, 290.0, 340.0, 363.0, 430.0, 450.0, 500.0, 390.0, 450.0, 500.0, 475.0, 500.0, 500.0, 340.0, 600.0, 600.0, 700.0, 700.0, 610.0, 650.0, 575.0, 685.0, 620.0, 680.0, 700.0, 725.0, 720.0, 714.0, 850.0, 1000.0, 920.0, 955.0, 925.0, 975.0, 950.0]\n",
    "\n",
    "smelt_length = [9.8, 10.5, 10.6, 11.0, 11.2, 11.3, 11.8, 11.8, 12.0, 12.2, 12.4, 13.0, 14.3, 15.0]\n",
    "smelt_weight = [6.7, 7.5, 7.0, 9.7, 9.8, 8.7, 10.0, 9.9, 9.8, 12.2, 13.4, 12.2, 19.7, 19.9]"
   ]
  },
  {
   "cell_type": "markdown",
   "id": "8c77f4c4",
   "metadata": {},
   "source": [
    "#### 도미, 빙어 데이터를 그래프로 표현\n",
    "- 도미 : 파랑색,  빙어 : 주황색"
   ]
  },
  {
   "cell_type": "code",
   "execution_count": 2,
   "id": "9cbbd981",
   "metadata": {},
   "outputs": [
    {
     "data": {
      "image/png": "[encoded data removed]",
      "text/plain": [
       "<Figure size 432x288 with 1 Axes>"
      ]
     },
     "metadata": {
      "needs_background": "light"
     },
     "output_type": "display_data"
    }
   ],
   "source": [
    "import matplotlib.pyplot as plt\n",
    "\n",
    "plt.scatter(bream_length, bream_weight)\n",
    "plt.scatter(smelt_length, smelt_weight)\n",
    "plt.xlabel('lenght')\n",
    "plt.ylabel('weight')\n",
    "plt.show()"
   ]
  },
  {
   "cell_type": "markdown",
   "id": "6386678a",
   "metadata": {},
   "source": [
    "## KNN (K-Nearest Neighbors) 알고리즘"
   ]
  },
  {
   "cell_type": "code",
   "execution_count": 3,
   "id": "d1d7daf8",
   "metadata": {},
   "outputs": [],
   "source": [
    "length = bream_length + smelt_length\n",
    "weight = bream_weight + smelt_weight"
   ]
  },
  {
   "cell_type": "markdown",
   "id": "3f146434",
   "metadata": {},
   "source": [
    "### 사이킷런(scikit-learn) 사용\n",
    "- 각 특성의 리스트를 세로 방향으로 늘어뜨린 2차원 리스트를 생성해야함"
   ]
  },
  {
   "cell_type": "code",
   "execution_count": 4,
   "id": "a65b48b9",
   "metadata": {},
   "outputs": [
    {
     "name": "stdout",
     "output_type": "stream",
     "text": [
      "[[25.4, 242.0], [26.3, 290.0], [26.5, 340.0], [29.0, 363.0], [29.0, 430.0], [29.7, 450.0], [29.7, 500.0], [30.0, 390.0], [30.0, 450.0], [30.7, 500.0], [31.0, 475.0], [31.0, 500.0], [31.5, 500.0], [32.0, 340.0], [32.0, 600.0], [32.0, 600.0], [33.0, 700.0], [33.0, 700.0], [33.5, 610.0], [33.5, 650.0], [34.0, 575.0], [34.0, 685.0], [34.5, 620.0], [35.0, 680.0], [35.0, 700.0], [35.0, 725.0], [35.0, 720.0], [36.0, 714.0], [36.0, 850.0], [37.0, 1000.0], [38.5, 920.0], [38.5, 955.0], [39.5, 925.0], [41.0, 975.0], [41.0, 950.0], [9.8, 6.7], [10.5, 7.5], [10.6, 7.0], [11.0, 9.7], [11.2, 9.8], [11.3, 8.7], [11.8, 10.0], [11.8, 9.9], [12.0, 9.8], [12.2, 12.2], [12.4, 13.4], [13.0, 12.2], [14.3, 19.7], [15.0, 19.9]]\n"
     ]
    }
   ],
   "source": [
    "fish_data = [[l, w] for l, w in zip(length, weight)]\n",
    "\n",
    "print(fish_data)"
   ]
  },
  {
   "cell_type": "markdown",
   "id": "20167a8f",
   "metadata": {},
   "source": [
    "* 정답 데이터 생성\n",
    "    - 1: 도미, 0: 빙어"
   ]
  },
  {
   "cell_type": "code",
   "execution_count": 5,
   "id": "9aefaeda",
   "metadata": {},
   "outputs": [
    {
     "name": "stdout",
     "output_type": "stream",
     "text": [
      "[1, 1, 1, 1, 1, 1, 1, 1, 1, 1, 1, 1, 1, 1, 1, 1, 1, 1, 1, 1, 1, 1, 1, 1, 1, 1, 1, 1, 1, 1, 1, 1, 1, 1, 1, 0, 0, 0, 0, 0, 0, 0, 0, 0, 0, 0, 0, 0, 0]\n"
     ]
    }
   ],
   "source": [
    "fish_target = [1]*35 + [0]*14\n",
    "print(fish_target)"
   ]
  },
  {
   "cell_type": "markdown",
   "id": "80688ee2",
   "metadata": {},
   "source": [
    "* KNeighborsClassifier : KNN (k-최근접 이웃) 알고리즘을 구현한 클래스"
   ]
  },
  {
   "cell_type": "code",
   "execution_count": 6,
   "id": "2aa1606f",
   "metadata": {},
   "outputs": [],
   "source": [
    "from sklearn.neighbors import KNeighborsClassifier"
   ]
  },
  {
   "cell_type": "markdown",
   "id": "91bb27d2",
   "metadata": {},
   "source": [
    "* KNeighborsClassifier 클래스의 객체 생성"
   ]
  },
  {
   "cell_type": "code",
   "execution_count": 7,
   "id": "b6fd3d87",
   "metadata": {},
   "outputs": [],
   "source": [
    "kn = KNeighborsClassifier()"
   ]
  },
  {
   "cell_type": "markdown",
   "id": "48f163fc",
   "metadata": {},
   "source": [
    "* fit() : 훈련 메서드\n",
    "    - fish_data, fish_target을 전달하여 도미를 찾기 위한 기준 학습"
   ]
  },
  {
   "cell_type": "code",
   "execution_count": 8,
   "id": "71f562e7",
   "metadata": {},
   "outputs": [
    {
     "data": {
      "text/plain": [
       "KNeighborsClassifier()"
      ]
     },
     "execution_count": 8,
     "metadata": {},
     "output_type": "execute_result"
    }
   ],
   "source": [
    "kn.fit(fish_data, fish_target)"
   ]
  },
  {
   "cell_type": "markdown",
   "id": "92c304ab",
   "metadata": {},
   "source": [
    "* score() : 얼마나 훈련이 잘 되었는지 평가\n",
    "    - score() 점수의 범위 : 0 ~ 1 (1 = 100%)\n",
    "    - 점수 = 정확도(accuracy)"
   ]
  },
  {
   "cell_type": "code",
   "execution_count": 9,
   "id": "52a695ba",
   "metadata": {},
   "outputs": [
    {
     "data": {
      "text/plain": [
       "1.0"
      ]
     },
     "execution_count": 9,
     "metadata": {},
     "output_type": "execute_result"
    }
   ],
   "source": [
    "kn.score(fish_data, fish_target)"
   ]
  },
  {
   "cell_type": "code",
   "execution_count": 10,
   "id": "31e0996f",
   "metadata": {},
   "outputs": [
    {
     "data": {
      "image/png": "[encoded data removed]",
      "text/plain": [
       "<Figure size 432x288 with 1 Axes>"
      ]
     },
     "metadata": {
      "needs_background": "light"
     },
     "output_type": "display_data"
    }
   ],
   "source": [
    "plt.scatter(bream_length, bream_weight)\n",
    "plt.scatter(smelt_length, smelt_weight)\n",
    "plt.scatter(30, 600, marker='*')\n",
    "plt.xlabel('length')\n",
    "plt.ylabel('weight')\n",
    "plt.show()"
   ]
  },
  {
   "cell_type": "markdown",
   "id": "99253fb5",
   "metadata": {},
   "source": [
    "* 생선 종류 예측 (길이: 30, 무게: 600)\n",
    "* predict() 사용"
   ]
  },
  {
   "cell_type": "code",
   "execution_count": 11,
   "id": "7c3daf31",
   "metadata": {},
   "outputs": [
    {
     "data": {
      "text/plain": [
       "array([1])"
      ]
     },
     "execution_count": 11,
     "metadata": {},
     "output_type": "execute_result"
    }
   ],
   "source": [
    "kn.predict([[30,600]])"
   ]
  },
  {
   "cell_type": "markdown",
   "id": "37f8bc45",
   "metadata": {},
   "source": [
    "* _fit_X : fish_data\n",
    "+ _y : fish_target"
   ]
  },
  {
   "cell_type": "code",
   "execution_count": 12,
   "id": "bbce27d1",
   "metadata": {
    "scrolled": true
   },
   "outputs": [
    {
     "name": "stdout",
     "output_type": "stream",
     "text": [
      "[[  25.4  242. ]\n",
      " [  26.3  290. ]\n",
      " [  26.5  340. ]\n",
      " [  29.   363. ]\n",
      " [  29.   430. ]\n",
      " [  29.7  450. ]\n",
      " [  29.7  500. ]\n",
      " [  30.   390. ]\n",
      " [  30.   450. ]\n",
      " [  30.7  500. ]\n",
      " [  31.   475. ]\n",
      " [  31.   500. ]\n",
      " [  31.5  500. ]\n",
      " [  32.   340. ]\n",
      " [  32.   600. ]\n",
      " [  32.   600. ]\n",
      " [  33.   700. ]\n",
      " [  33.   700. ]\n",
      " [  33.5  610. ]\n",
      " [  33.5  650. ]\n",
      " [  34.   575. ]\n",
      " [  34.   685. ]\n",
      " [  34.5  620. ]\n",
      " [  35.   680. ]\n",
      " [  35.   700. ]\n",
      " [  35.   725. ]\n",
      " [  35.   720. ]\n",
      " [  36.   714. ]\n",
      " [  36.   850. ]\n",
      " [  37.  1000. ]\n",
      " [  38.5  920. ]\n",
      " [  38.5  955. ]\n",
      " [  39.5  925. ]\n",
      " [  41.   975. ]\n",
      " [  41.   950. ]\n",
      " [   9.8    6.7]\n",
      " [  10.5    7.5]\n",
      " [  10.6    7. ]\n",
      " [  11.     9.7]\n",
      " [  11.2    9.8]\n",
      " [  11.3    8.7]\n",
      " [  11.8   10. ]\n",
      " [  11.8    9.9]\n",
      " [  12.     9.8]\n",
      " [  12.2   12.2]\n",
      " [  12.4   13.4]\n",
      " [  13.    12.2]\n",
      " [  14.3   19.7]\n",
      " [  15.    19.9]]\n",
      "[1 1 1 1 1 1 1 1 1 1 1 1 1 1 1 1 1 1 1 1 1 1 1 1 1 1 1 1 1 1 1 1 1 1 1 0 0\n",
      " 0 0 0 0 0 0 0 0 0 0 0 0]\n"
     ]
    }
   ],
   "source": [
    "print(kn._fit_X)\n",
    "print(kn._y)"
   ]
  },
  {
   "cell_type": "markdown",
   "id": "9e2203a3",
   "metadata": {},
   "source": []
  },
  {
   "cell_type": "markdown",
   "id": "6046f05c",
   "metadata": {},
   "source": [
    "* KNeighborsClassifier 클래스는 기본적으로 5개 값을 비교함\n",
    "* 이 기준은 n_neighbors 매개변수로 변경 가능"
   ]
  },
  {
   "cell_type": "code",
   "execution_count": 13,
   "id": "5377743a",
   "metadata": {},
   "outputs": [],
   "source": [
    "# 49개를 모두 비교하면 다수는 무조건 도미\n",
    "kn49 = KNeighborsClassifier(n_neighbors=49)"
   ]
  },
  {
   "cell_type": "code",
   "execution_count": 14,
   "id": "33f32f68",
   "metadata": {},
   "outputs": [
    {
     "data": {
      "text/plain": [
       "0.7142857142857143"
      ]
     },
     "execution_count": 14,
     "metadata": {},
     "output_type": "execute_result"
    }
   ],
   "source": [
    "kn49.fit(fish_data, fish_target)\n",
    "kn49.score(fish_data, fish_target)"
   ]
  },
  {
   "cell_type": "markdown",
   "id": "ffd1c9d2",
   "metadata": {},
   "source": [
    "* 도미만 올바르게 맞히기 때문에 정확도 : 35/49"
   ]
  },
  {
   "cell_type": "code",
   "execution_count": 15,
   "id": "5fb13437",
   "metadata": {},
   "outputs": [
    {
     "name": "stdout",
     "output_type": "stream",
     "text": [
      "0.7142857142857143\n"
     ]
    }
   ],
   "source": [
    "print(35/49)"
   ]
  },
  {
   "cell_type": "markdown",
   "id": "83d6f166",
   "metadata": {},
   "source": [
    "+ n_neighbors 값에 따른 score 점수 변화 "
   ]
  },
  {
   "cell_type": "code",
   "execution_count": 16,
   "id": "2ecca266",
   "metadata": {},
   "outputs": [
    {
     "name": "stdout",
     "output_type": "stream",
     "text": [
      "n_neighbors: 5 - score: 1.0\n",
      "n_neighbors: 6 - score: 1.0\n",
      "n_neighbors: 7 - score: 1.0\n",
      "n_neighbors: 8 - score: 1.0\n",
      "n_neighbors: 9 - score: 1.0\n",
      "n_neighbors: 10 - score: 1.0\n",
      "n_neighbors: 11 - score: 1.0\n",
      "n_neighbors: 12 - score: 1.0\n",
      "n_neighbors: 13 - score: 1.0\n",
      "n_neighbors: 14 - score: 1.0\n",
      "n_neighbors: 15 - score: 1.0\n",
      "n_neighbors: 16 - score: 1.0\n",
      "n_neighbors: 17 - score: 1.0\n",
      "n_neighbors: 18 - score: 0.9795918367346939\n",
      "n_neighbors: 19 - score: 0.9795918367346939\n",
      "n_neighbors: 20 - score: 0.9795918367346939\n",
      "n_neighbors: 21 - score: 0.9795918367346939\n",
      "n_neighbors: 22 - score: 0.9795918367346939\n",
      "n_neighbors: 23 - score: 0.9795918367346939\n",
      "n_neighbors: 24 - score: 0.9795918367346939\n",
      "n_neighbors: 25 - score: 0.9795918367346939\n",
      "n_neighbors: 26 - score: 0.9795918367346939\n",
      "n_neighbors: 27 - score: 0.9795918367346939\n",
      "n_neighbors: 28 - score: 0.9591836734693877\n",
      "n_neighbors: 29 - score: 0.7142857142857143\n",
      "n_neighbors: 30 - score: 0.7142857142857143\n",
      "n_neighbors: 31 - score: 0.7142857142857143\n",
      "n_neighbors: 32 - score: 0.7142857142857143\n",
      "n_neighbors: 33 - score: 0.7142857142857143\n",
      "n_neighbors: 34 - score: 0.7142857142857143\n",
      "n_neighbors: 35 - score: 0.7142857142857143\n",
      "n_neighbors: 36 - score: 0.7142857142857143\n",
      "n_neighbors: 37 - score: 0.7142857142857143\n",
      "n_neighbors: 38 - score: 0.7142857142857143\n",
      "n_neighbors: 39 - score: 0.7142857142857143\n",
      "n_neighbors: 40 - score: 0.7142857142857143\n",
      "n_neighbors: 41 - score: 0.7142857142857143\n",
      "n_neighbors: 42 - score: 0.7142857142857143\n",
      "n_neighbors: 43 - score: 0.7142857142857143\n",
      "n_neighbors: 44 - score: 0.7142857142857143\n",
      "n_neighbors: 45 - score: 0.7142857142857143\n",
      "n_neighbors: 46 - score: 0.7142857142857143\n",
      "n_neighbors: 47 - score: 0.7142857142857143\n",
      "n_neighbors: 48 - score: 0.7142857142857143\n",
      "n_neighbors: 49 - score: 0.7142857142857143\n"
     ]
    }
   ],
   "source": [
    "kn = KNeighborsClassifier()\n",
    "kn.fit(fish_data, fish_target)\n",
    "\n",
    "for n in range(5, 50):\n",
    "    kn.n_neighbors = n\n",
    "    score = kn.score(fish_data, fish_target)\n",
    "    print(\"n_neighbors: {} - score: {}\".format(n, score))"
   ]
  },
  {
   "cell_type": "markdown",
   "id": "53c0c97c",
   "metadata": {},
   "source": []
  },
  {
   "cell_type": "markdown",
   "id": "4a9c2feb",
   "metadata": {},
   "source": [
    "# 훈련 데이터와 테스트 데이터"
   ]
  },
  {
   "cell_type": "markdown",
   "id": "3f541431",
   "metadata": {},
   "source": [
    "## 훈련 데이터\n",
    "- 훈련에 사용되는 데이터 (training set)\n",
    "\n",
    "## 테스트 데이터\n",
    "- 평가에 사용하는 데이터 (test set)"
   ]
  },
  {
   "cell_type": "markdown",
   "id": "0e875ad7",
   "metadata": {},
   "source": [
    "### numpy를 사용하여 샘플링 편향 (sampling bias) 방지"
   ]
  },
  {
   "cell_type": "code",
   "execution_count": 17,
   "id": "b629ccc1",
   "metadata": {},
   "outputs": [],
   "source": [
    "import numpy as np"
   ]
  },
  {
   "cell_type": "code",
   "execution_count": 18,
   "id": "6ba4e34f",
   "metadata": {},
   "outputs": [
    {
     "data": {
      "text/plain": [
       "[[25.4, 242.0],\n",
       " [26.3, 290.0],\n",
       " [26.5, 340.0],\n",
       " [29.0, 363.0],\n",
       " [29.0, 430.0],\n",
       " [29.7, 450.0],\n",
       " [29.7, 500.0],\n",
       " [30.0, 390.0],\n",
       " [30.0, 450.0],\n",
       " [30.7, 500.0],\n",
       " [31.0, 475.0],\n",
       " [31.0, 500.0],\n",
       " [31.5, 500.0],\n",
       " [32.0, 340.0],\n",
       " [32.0, 600.0],\n",
       " [32.0, 600.0],\n",
       " [33.0, 700.0],\n",
       " [33.0, 700.0],\n",
       " [33.5, 610.0],\n",
       " [33.5, 650.0],\n",
       " [34.0, 575.0],\n",
       " [34.0, 685.0],\n",
       " [34.5, 620.0],\n",
       " [35.0, 680.0],\n",
       " [35.0, 700.0],\n",
       " [35.0, 725.0],\n",
       " [35.0, 720.0],\n",
       " [36.0, 714.0],\n",
       " [36.0, 850.0],\n",
       " [37.0, 1000.0],\n",
       " [38.5, 920.0],\n",
       " [38.5, 955.0],\n",
       " [39.5, 925.0],\n",
       " [41.0, 975.0],\n",
       " [41.0, 950.0],\n",
       " [9.8, 6.7],\n",
       " [10.5, 7.5],\n",
       " [10.6, 7.0],\n",
       " [11.0, 9.7],\n",
       " [11.2, 9.8],\n",
       " [11.3, 8.7],\n",
       " [11.8, 10.0],\n",
       " [11.8, 9.9],\n",
       " [12.0, 9.8],\n",
       " [12.2, 12.2],\n",
       " [12.4, 13.4],\n",
       " [13.0, 12.2],\n",
       " [14.3, 19.7],\n",
       " [15.0, 19.9]]"
      ]
     },
     "execution_count": 18,
     "metadata": {},
     "output_type": "execute_result"
    }
   ],
   "source": [
    "fish_data"
   ]
  },
  {
   "cell_type": "code",
   "execution_count": 19,
   "id": "b02fd78c",
   "metadata": {},
   "outputs": [],
   "source": [
    "input_arr = np.array(fish_data)\n",
    "target_arr = np.array(fish_target)"
   ]
  },
  {
   "cell_type": "code",
   "execution_count": 20,
   "id": "2aa96515",
   "metadata": {},
   "outputs": [],
   "source": [
    "np.random.seed(42)\n",
    "index = np.arange(49)\n",
    "np.random.shuffle(index)"
   ]
  },
  {
   "cell_type": "code",
   "execution_count": 21,
   "id": "74c9004c",
   "metadata": {},
   "outputs": [
    {
     "name": "stdout",
     "output_type": "stream",
     "text": [
      "[13 45 47 44 17 27 26 25 31 19 12  4 34  8  3  6 40 41 46 15  9 16 24 33\n",
      " 30  0 43 32  5 29 11 36  1 21  2 37 35 23 39 10 22 18 48 20  7 42 14 28\n",
      " 38]\n"
     ]
    }
   ],
   "source": [
    "print(index)"
   ]
  },
  {
   "cell_type": "code",
   "execution_count": 22,
   "id": "2f794688",
   "metadata": {},
   "outputs": [],
   "source": [
    "train_input = input_arr[index[:35]]\n",
    "train_target = target_arr[index[:35]]\n",
    "\n",
    "test_input = input_arr[index[35:]]\n",
    "test_target = target_arr[index[35:]]"
   ]
  },
  {
   "cell_type": "code",
   "execution_count": 23,
   "id": "df3c34f6",
   "metadata": {},
   "outputs": [
    {
     "data": {
      "image/png": "[encoded data removed]",
      "text/plain": [
       "<Figure size 432x288 with 1 Axes>"
      ]
     },
     "metadata": {
      "needs_background": "light"
     },
     "output_type": "display_data"
    }
   ],
   "source": [
    "plt.scatter(train_input[:, 0], train_input[:, 1])\n",
    "plt.scatter(test_input[:, 0], test_input[:, 1])\n",
    "plt.xlabel('length')\n",
    "plt.ylabel('weight')\n",
    "plt.show()"
   ]
  },
  {
   "cell_type": "markdown",
   "id": "b2bc8f0f",
   "metadata": {},
   "source": [
    "* 파랑색: 훈련 데이터\n",
    "* 주황색 : 테스트 데이터"
   ]
  },
  {
   "cell_type": "code",
   "execution_count": 24,
   "id": "047c84a3",
   "metadata": {},
   "outputs": [],
   "source": [
    "kn = kn.fit(train_input, train_target)"
   ]
  },
  {
   "cell_type": "markdown",
   "id": "be698e5b",
   "metadata": {},
   "source": [
    "* fit() 메서드를 실행할 때마다 이전에 학습한 모든 것을 잃어버림. 이전에 모델을 그대로 두고 싶다면 객체를 새로 생성해야함"
   ]
  },
  {
   "cell_type": "code",
   "execution_count": 25,
   "id": "b8c33490",
   "metadata": {},
   "outputs": [],
   "source": [
    "kn.n_neighbors = 5"
   ]
  },
  {
   "cell_type": "code",
   "execution_count": 26,
   "id": "9d90a38b",
   "metadata": {},
   "outputs": [
    {
     "data": {
      "text/plain": [
       "1.0"
      ]
     },
     "execution_count": 26,
     "metadata": {},
     "output_type": "execute_result"
    }
   ],
   "source": [
    "kn.score(test_input, test_target)"
   ]
  },
  {
   "cell_type": "code",
   "execution_count": 27,
   "id": "beb4257b",
   "metadata": {},
   "outputs": [
    {
     "data": {
      "text/plain": [
       "array([0, 0, 1, 0, 1, 1, 1, 0, 1, 1, 0, 1, 1, 0])"
      ]
     },
     "execution_count": 27,
     "metadata": {},
     "output_type": "execute_result"
    }
   ],
   "source": [
    "kn.predict(test_input)"
   ]
  },
  {
   "cell_type": "code",
   "execution_count": 28,
   "id": "cf973140",
   "metadata": {},
   "outputs": [
    {
     "data": {
      "text/plain": [
       "array([0, 0, 1, 0, 1, 1, 1, 0, 1, 1, 0, 1, 1, 0])"
      ]
     },
     "execution_count": 28,
     "metadata": {},
     "output_type": "execute_result"
    }
   ],
   "source": [
    "test_target"
   ]
  },
  {
   "cell_type": "markdown",
   "id": "6cbf647c",
   "metadata": {},
   "source": []
  },
  {
   "cell_type": "markdown",
   "id": "579d2ee9",
   "metadata": {},
   "source": [
    "# 데이터 전처리"
   ]
  },
  {
   "cell_type": "markdown",
   "id": "9f4b6d31",
   "metadata": {},
   "source": [
    "## 넘파이로 데이터 준비"
   ]
  },
  {
   "cell_type": "code",
   "execution_count": 29,
   "id": "d767b5c0",
   "metadata": {},
   "outputs": [],
   "source": [
    "fish_length = [25.4, 26.3, 26.5, 29.0, 29.0, 29.7, 29.7, 30.0, 30.0, 30.7, 31.0, 31.0, \n",
    "                31.5, 32.0, 32.0, 32.0, 33.0, 33.0, 33.5, 33.5, 34.0, 34.0, 34.5, 35.0, \n",
    "                35.0, 35.0, 35.0, 36.0, 36.0, 37.0, 38.5, 38.5, 39.5, 41.0, 41.0, 9.8, \n",
    "                10.5, 10.6, 11.0, 11.2, 11.3, 11.8, 11.8, 12.0, 12.2, 12.4, 13.0, 14.3, 15.0]\n",
    "fish_weight = [242.0, 290.0, 340.0, 363.0, 430.0, 450.0, 500.0, 390.0, 450.0, 500.0, 475.0, 500.0, \n",
    "                500.0, 340.0, 600.0, 600.0, 700.0, 700.0, 610.0, 650.0, 575.0, 685.0, 620.0, 680.0, \n",
    "                700.0, 725.0, 720.0, 714.0, 850.0, 1000.0, 920.0, 955.0, 925.0, 975.0, 950.0, 6.7, \n",
    "                7.5, 7.0, 9.7, 9.8, 8.7, 10.0, 9.9, 9.8, 12.2, 13.4, 12.2, 19.7, 19.9]"
   ]
  },
  {
   "cell_type": "code",
   "execution_count": 30,
   "id": "fad19e89",
   "metadata": {},
   "outputs": [],
   "source": [
    "fish_data = np.column_stack((fish_length, fish_weight))"
   ]
  },
  {
   "cell_type": "code",
   "execution_count": 31,
   "id": "20a1aa4c",
   "metadata": {},
   "outputs": [
    {
     "data": {
      "text/plain": [
       "array([[ 25.4, 242. ],\n",
       "       [ 26.3, 290. ],\n",
       "       [ 26.5, 340. ],\n",
       "       [ 29. , 363. ],\n",
       "       [ 29. , 430. ]])"
      ]
     },
     "execution_count": 31,
     "metadata": {},
     "output_type": "execute_result"
    }
   ],
   "source": [
    "fish_data[:5]"
   ]
  },
  {
   "cell_type": "code",
   "execution_count": 32,
   "id": "3704a26e",
   "metadata": {},
   "outputs": [],
   "source": [
    "fish_target = np.concatenate((np.ones(35), np.zeros(14)))"
   ]
  },
  {
   "cell_type": "code",
   "execution_count": 33,
   "id": "10e09c02",
   "metadata": {},
   "outputs": [
    {
     "data": {
      "text/plain": [
       "array([1., 1., 1., 1., 1., 1., 1., 1., 1., 1., 1., 1., 1., 1., 1., 1., 1.,\n",
       "       1., 1., 1., 1., 1., 1., 1., 1., 1., 1., 1., 1., 1., 1., 1., 1., 1.,\n",
       "       1., 0., 0., 0., 0., 0., 0., 0., 0., 0., 0., 0., 0., 0., 0.])"
      ]
     },
     "execution_count": 33,
     "metadata": {},
     "output_type": "execute_result"
    }
   ],
   "source": [
    "fish_target"
   ]
  },
  {
   "cell_type": "markdown",
   "id": "65caadf4",
   "metadata": {},
   "source": [
    "## 사이킷런으로 훈련 세트와 테스트 세트 나누기\n",
    "+ train_test_split()\n",
    "+ 전달되는 리스트나 배열을 비율에 맞게 training set와 test set로 섞어서 나누어 준다."
   ]
  },
  {
   "cell_type": "markdown",
   "id": "6036bad8",
   "metadata": {},
   "source": [
    "#### 옵션 값 설명\n",
    "* test_size: \n",
    "    * 테스트 셋 구성의 비율을 나타낸다.\n",
    "    * train_size의 옵션과 반대 관계에 있는 옵션 값이며, 주로 test_size를 지정한다.\n",
    "    * test_size=0.2 : 전체 데이터 셋의 20%를 test (validation) 셋으로 지정하겠다는 의미. (default = 0.25)  \n",
    "* shuffle:\n",
    "    * 데이터를 split 해주기 이전에 섞을것인지 결정\n",
    "    * True : 섞음 (default = True)\n",
    "* stratify: \n",
    "    * classification을 다룰 때 매우 중요한 옵션값\n",
    "    * stratify 값을 target으로 지정해주면, 각각의 class 비율(ratio)을 train / test에 유지한다. (한 쪽에 쏠려서 분배되는 것을 방지)\n",
    "    *  만약 이 옵션을 지정해 주지 않고 classification 문제를 다룬다면, 성능의 차이가 많이 날 수 있음.\n",
    "* random_state:\n",
    "    * 세트를 섞을 때 해당 int 값을 보고 섞으며, 하이퍼 파라미터를 튜닝시 이 값을 고정해두고 튜닝해야 매번 데이터셋이 변경되는 것을 방지할 수 있다.\n"
   ]
  },
  {
   "cell_type": "code",
   "execution_count": 34,
   "id": "516a47c5",
   "metadata": {},
   "outputs": [],
   "source": [
    "from sklearn.model_selection import train_test_split"
   ]
  },
  {
   "cell_type": "code",
   "execution_count": 35,
   "id": "d3434cbc",
   "metadata": {},
   "outputs": [],
   "source": [
    "train_input, test_input, train_target, test_target = train_test_split(fish_data, fish_target, stratify=fish_target, random_state=42)"
   ]
  },
  {
   "cell_type": "markdown",
   "id": "4dcbfdeb",
   "metadata": {},
   "source": [
    "* 훈련 세트와 테스트 세트에 샘플의 클래스 비율이 일정하지 않다면, 모델이 일부 샘플을 올바르게 학습 불가 \n",
    "* train_test_split() 함수의 stratify 매개변수에 타깃 데이터를 전달하면 클래스 비율에 맞게 데이터 저장\n",
    "* 훈련 데이터가 작거나 특정 클래스의 샘플 개수가 적을 때 특히 유용 "
   ]
  },
  {
   "cell_type": "code",
   "execution_count": 36,
   "id": "fe24f1c8",
   "metadata": {},
   "outputs": [],
   "source": [
    "train_input, test_input, train_target, test_target = train_test_split(\n",
    "    fish_data, fish_target, stratify=fish_target, random_state=42)"
   ]
  },
  {
   "cell_type": "code",
   "execution_count": 37,
   "id": "7846e740",
   "metadata": {},
   "outputs": [
    {
     "data": {
      "text/plain": [
       "(array([[  29.7,  500. ],\n",
       "        [  12.2,   12.2],\n",
       "        [  33. ,  700. ],\n",
       "        [  11.3,    8.7],\n",
       "        [  39.5,  925. ],\n",
       "        [  29. ,  430. ],\n",
       "        [  36. ,  714. ],\n",
       "        [  36. ,  850. ],\n",
       "        [  31. ,  475. ],\n",
       "        [  35. ,  720. ],\n",
       "        [  37. , 1000. ],\n",
       "        [  11.2,    9.8],\n",
       "        [  34.5,  620. ],\n",
       "        [  12. ,    9.8],\n",
       "        [  29. ,  363. ],\n",
       "        [  33. ,  700. ],\n",
       "        [  30.7,  500. ],\n",
       "        [  38.5,  955. ],\n",
       "        [  33.5,  650. ],\n",
       "        [  14.3,   19.7],\n",
       "        [  31.5,  500. ],\n",
       "        [  25.4,  242. ],\n",
       "        [   9.8,    6.7],\n",
       "        [  32. ,  600. ],\n",
       "        [  10.5,    7.5],\n",
       "        [  33.5,  610. ],\n",
       "        [  10.6,    7. ],\n",
       "        [  35. ,  700. ],\n",
       "        [  32. ,  600. ],\n",
       "        [  35. ,  725. ],\n",
       "        [  13. ,   12.2],\n",
       "        [  30. ,  450. ],\n",
       "        [  32. ,  340. ],\n",
       "        [  15. ,   19.9],\n",
       "        [  30. ,  390. ],\n",
       "        [  41. ,  975. ]]),\n",
       " array([[ 11. ,   9.7],\n",
       "        [ 11.8,   9.9],\n",
       "        [ 29.7, 450. ],\n",
       "        [ 11.8,  10. ],\n",
       "        [ 26.5, 340. ],\n",
       "        [ 12.4,  13.4],\n",
       "        [ 34. , 685. ],\n",
       "        [ 34. , 575. ],\n",
       "        [ 38.5, 920. ],\n",
       "        [ 35. , 680. ],\n",
       "        [ 26.3, 290. ],\n",
       "        [ 31. , 500. ],\n",
       "        [ 41. , 950. ]]),\n",
       " array([1., 0., 1., 0., 1., 1., 1., 1., 1., 1., 1., 0., 1., 0., 1., 1., 1.,\n",
       "        1., 1., 0., 1., 1., 0., 1., 0., 1., 0., 1., 1., 1., 0., 1., 1., 0.,\n",
       "        1., 1.]),\n",
       " array([0., 0., 1., 0., 1., 0., 1., 1., 1., 1., 1., 1., 1.]))"
      ]
     },
     "execution_count": 37,
     "metadata": {},
     "output_type": "execute_result"
    }
   ],
   "source": [
    "train_input, test_input, train_target, test_target"
   ]
  },
  {
   "cell_type": "code",
   "execution_count": 38,
   "id": "18cbbfa3",
   "metadata": {},
   "outputs": [
    {
     "data": {
      "text/plain": [
       "1.0"
      ]
     },
     "execution_count": 38,
     "metadata": {},
     "output_type": "execute_result"
    }
   ],
   "source": [
    "kn = KNeighborsClassifier()\n",
    "kn.fit(train_input, train_target)\n",
    "kn.score(test_input, test_target)"
   ]
  },
  {
   "cell_type": "markdown",
   "id": "e6e7354b",
   "metadata": {},
   "source": [
    "* 수상한 도미 한 마리\n",
    "* 길이: 25, 무게: 150"
   ]
  },
  {
   "cell_type": "code",
   "execution_count": 39,
   "id": "414b2b7e",
   "metadata": {},
   "outputs": [
    {
     "data": {
      "text/plain": [
       "array([0.])"
      ]
     },
     "execution_count": 39,
     "metadata": {},
     "output_type": "execute_result"
    }
   ],
   "source": [
    "kn.predict([[25, 150]])"
   ]
  },
  {
   "cell_type": "code",
   "execution_count": 40,
   "id": "62b0f301",
   "metadata": {},
   "outputs": [
    {
     "data": {
      "image/png": "[encoded data removed]",
      "text/plain": [
       "<Figure size 432x288 with 1 Axes>"
      ]
     },
     "metadata": {
      "needs_background": "light"
     },
     "output_type": "display_data"
    }
   ],
   "source": [
    "plt.scatter(train_input[:,0], train_input[:,1])\n",
    "plt.scatter(25, 150, marker='^')\n",
    "plt.xlabel('length')\n",
    "plt.ylabel('weight')\n",
    "plt.show()"
   ]
  },
  {
   "cell_type": "markdown",
   "id": "81001fe0",
   "metadata": {},
   "source": [
    "* 그래프를 보면 누가봐도 도미인데, 빙어라고 예측함\n",
    "* kneighbors() 메서드를 사용하여 수상한 도미와 샘플에서 가장 가까운 이웃을 찾아보자\n",
    "* kneighbors(): 이웃까지의 거리와 이웃 샘플의 인덱스를 반환\n",
    "* K-NN의 기본값은 5를 사용했기 때문에 5개를 반환"
   ]
  },
  {
   "cell_type": "code",
   "execution_count": 41,
   "id": "9428b5f3",
   "metadata": {},
   "outputs": [],
   "source": [
    "distances, indexes = kn.kneighbors([[25, 150]])"
   ]
  },
  {
   "cell_type": "code",
   "execution_count": 42,
   "id": "e29818d8",
   "metadata": {},
   "outputs": [
    {
     "name": "stdout",
     "output_type": "stream",
     "text": [
      "[[ 92.00086956 130.48375378 130.73859415 138.32150953 138.39320793]] [[21 33 19 30  1]]\n"
     ]
    }
   ],
   "source": [
    "print(distances, indexes)"
   ]
  },
  {
   "cell_type": "code",
   "execution_count": 43,
   "id": "537a5460",
   "metadata": {},
   "outputs": [
    {
     "data": {
      "image/png": "[encoded data removed]",
      "text/plain": [
       "<Figure size 432x288 with 1 Axes>"
      ]
     },
     "metadata": {
      "needs_background": "light"
     },
     "output_type": "display_data"
    }
   ],
   "source": [
    "plt.scatter(train_input[:,0], train_input[:,1])\n",
    "plt.scatter(25, 150, marker='^')\n",
    "plt.scatter(train_input[indexes,0], train_input[indexes,1], marker='D')\n",
    "plt.xlabel('length')\n",
    "plt.ylabel('weight')\n",
    "plt.show()"
   ]
  },
  {
   "cell_type": "markdown",
   "id": "7e14653a",
   "metadata": {},
   "source": [
    "* 1개가 도미, 4개가 빙어이므로 다수인 빙어로 예측"
   ]
  },
  {
   "cell_type": "code",
   "execution_count": 44,
   "id": "58c80e3f",
   "metadata": {},
   "outputs": [
    {
     "name": "stdout",
     "output_type": "stream",
     "text": [
      "[[[ 25.4 242. ]\n",
      "  [ 15.   19.9]\n",
      "  [ 14.3  19.7]\n",
      "  [ 13.   12.2]\n",
      "  [ 12.2  12.2]]]\n",
      "[[1. 0. 0. 0. 0.]]\n"
     ]
    }
   ],
   "source": [
    "print(train_input[indexes])\n",
    "print(train_target[indexes])"
   ]
  },
  {
   "cell_type": "markdown",
   "id": "b068d4e5",
   "metadata": {},
   "source": [
    "### 기준을 맞춰라"
   ]
  },
  {
   "cell_type": "code",
   "execution_count": 45,
   "id": "6e60a737",
   "metadata": {},
   "outputs": [
    {
     "data": {
      "image/png": "[encoded data removed]",
      "text/plain": [
       "<Figure size 432x288 with 1 Axes>"
      ]
     },
     "metadata": {
      "needs_background": "light"
     },
     "output_type": "display_data"
    }
   ],
   "source": [
    "plt.scatter(train_input[:,0], train_input[:,1])\n",
    "plt.scatter(25, 150, marker='^')\n",
    "plt.scatter(train_input[indexes,0], train_input[indexes,1], marker='D')\n",
    "plt.xlim((0, 1000))\n",
    "plt.xlabel('length')\n",
    "plt.ylabel('weight')\n",
    "plt.show()"
   ]
  },
  {
   "cell_type": "markdown",
   "id": "fbd5d9f3",
   "metadata": {},
   "source": [
    "* 두 특성(길이와 무게)의 값이 놓인 범위가 매우 다르다. 즉, 두 특성의 스케일(scale)이 다르다\n",
    "* 특성 간 스케일이 다른 일은 매우 흔하다. 어떤 사람이 방의 넓이를 재는데 세로는 cm로 가로는 inch로 쟀다면 정사각형 방도 직사각형처럼 보일 것이다.\n",
    "* 데이터를 표현하는 기준이 다르면, 알고리즘이 올바르게 예측할 수 없다. \n",
    "* 따라서, 특성값을 일정한 기준으로 맞춰 주어야 한다\n",
    "* 이런 작업을 데이터 전처리(data preprocessing)라고 한다"
   ]
  },
  {
   "cell_type": "markdown",
   "id": "a5b539b7",
   "metadata": {},
   "source": [
    "#### 표준 점수 (standard score, z-score)\n",
    "* 가장 널리 사용하는 전처리 방법 중 하나\n",
    "* 표준점수는 각 특성값이 0에서 표준편차의 몇 배만큼 떨어져 있는지를 나타낸다. \n",
    "* 이를 통해, 실제 특성값의 크기와 상관없이 동일한 조건으로 비교할수 있다. "
   ]
  },
  {
   "cell_type": "code",
   "execution_count": 46,
   "id": "4ca64e0f",
   "metadata": {},
   "outputs": [],
   "source": [
    "mean = np.mean(train_input, axis=0)\n",
    "std = np.std(train_input, axis=0)"
   ]
  },
  {
   "cell_type": "code",
   "execution_count": 47,
   "id": "14f3f468",
   "metadata": {},
   "outputs": [
    {
     "name": "stdout",
     "output_type": "stream",
     "text": [
      "[ 27.29722222 454.09722222] [  9.98244253 323.29893931]\n"
     ]
    }
   ],
   "source": [
    "print(mean, std)"
   ]
  },
  {
   "cell_type": "code",
   "execution_count": 48,
   "id": "228c9abc",
   "metadata": {},
   "outputs": [
    {
     "name": "stdout",
     "output_type": "stream",
     "text": [
      "[[ 0.24070039  0.14198246]\n",
      " [-1.51237757 -1.36683783]\n",
      " [ 0.5712808   0.76060496]\n",
      " [-1.60253587 -1.37766373]\n",
      " [ 1.22242404  1.45655528]\n",
      " [ 0.17057727 -0.07453542]\n",
      " [ 0.87180845  0.80390854]\n",
      " [ 0.87180845  1.22457184]\n",
      " [ 0.37092904  0.06465464]\n",
      " [ 0.77163257  0.82246721]\n",
      " [ 0.97198434  1.68853872]\n",
      " [-1.61255346 -1.3742613 ]\n",
      " [ 0.72154463  0.51315596]\n",
      " [-1.53241275 -1.3742613 ]\n",
      " [ 0.17057727 -0.28177396]\n",
      " [ 0.5712808   0.76060496]\n",
      " [ 0.34087627  0.14198246]\n",
      " [ 1.12224816  1.54934866]\n",
      " [ 0.62136874  0.60594934]\n",
      " [-1.30200822 -1.34363949]\n",
      " [ 0.42101698  0.14198246]\n",
      " [-0.19005591 -0.65604058]\n",
      " [-1.75279969 -1.38384995]\n",
      " [ 0.47110492  0.45129371]\n",
      " [-1.68267658 -1.38137546]\n",
      " [ 0.62136874  0.48222484]\n",
      " [-1.67265899 -1.38292202]\n",
      " [ 0.77163257  0.76060496]\n",
      " [ 0.47110492  0.45129371]\n",
      " [ 0.77163257  0.83793278]\n",
      " [-1.43223687 -1.36683783]\n",
      " [ 0.27075315 -0.01267317]\n",
      " [ 0.47110492 -0.35291555]\n",
      " [-1.2318851  -1.34302087]\n",
      " [ 0.27075315 -0.19825992]\n",
      " [ 1.37268787  1.61121091]]\n"
     ]
    }
   ],
   "source": [
    "train_scaled = (train_input - mean) / std\n",
    "print(train_scaled)"
   ]
  },
  {
   "cell_type": "markdown",
   "id": "3db53582",
   "metadata": {},
   "source": [
    "### 위의 전처리된 데이터로 모델 훈련하기"
   ]
  },
  {
   "cell_type": "code",
   "execution_count": 49,
   "id": "e724f4ce",
   "metadata": {},
   "outputs": [
    {
     "data": {
      "image/png": "[encoded data removed]",
      "text/plain": [
       "<Figure size 432x288 with 1 Axes>"
      ]
     },
     "metadata": {
      "needs_background": "light"
     },
     "output_type": "display_data"
    }
   ],
   "source": [
    "plt.scatter(train_scaled[:,0], train_scaled[:,1])\n",
    "plt.scatter(25, 150, marker='^')\n",
    "plt.xlabel('length')\n",
    "plt.ylabel('weight')\n",
    "plt.show()"
   ]
  },
  {
   "cell_type": "markdown",
   "id": "c0f36b54",
   "metadata": {},
   "source": [
    "* 데이터가 전처리 되었으므로, 비교 데이터도 알맞게 전처리 수행해야함"
   ]
  },
  {
   "cell_type": "code",
   "execution_count": 50,
   "id": "07c45289",
   "metadata": {},
   "outputs": [],
   "source": [
    "new = ([25, 150] - mean) / std"
   ]
  },
  {
   "cell_type": "code",
   "execution_count": 51,
   "id": "ebbc4884",
   "metadata": {},
   "outputs": [
    {
     "data": {
      "image/png": "[encoded data removed]",
      "text/plain": [
       "<Figure size 432x288 with 1 Axes>"
      ]
     },
     "metadata": {
      "needs_background": "light"
     },
     "output_type": "display_data"
    }
   ],
   "source": [
    "plt.scatter(train_scaled[:,0], train_scaled[:,1])\n",
    "plt.scatter(new[0], new[1], marker='^')\n",
    "plt.xlabel('length')\n",
    "plt.ylabel('weight')\n",
    "plt.show()"
   ]
  },
  {
   "cell_type": "code",
   "execution_count": 52,
   "id": "a0790cdd",
   "metadata": {},
   "outputs": [
    {
     "data": {
      "text/plain": [
       "KNeighborsClassifier()"
      ]
     },
     "execution_count": 52,
     "metadata": {},
     "output_type": "execute_result"
    }
   ],
   "source": [
    "kn.fit(train_scaled, train_target)"
   ]
  },
  {
   "cell_type": "markdown",
   "id": "a84c2c7b",
   "metadata": {},
   "source": [
    "* 훈련을 마치고 테스트 세트로 평가할 때 주의할 점: \n",
    "* 테스트 세트도 훈련 세트처럼 전처리를 수행해야 함\n",
    "* 그렇지 않으면, 데이터의 스케일이 같아지지 않으므로, 훈련한 모델이 쓸모없어짐"
   ]
  },
  {
   "cell_type": "code",
   "execution_count": 53,
   "id": "80a124fb",
   "metadata": {},
   "outputs": [],
   "source": [
    "test_scaled = (test_input - mean) / std"
   ]
  },
  {
   "cell_type": "code",
   "execution_count": 54,
   "id": "ba80503b",
   "metadata": {},
   "outputs": [
    {
     "data": {
      "text/plain": [
       "1.0"
      ]
     },
     "execution_count": 54,
     "metadata": {},
     "output_type": "execute_result"
    }
   ],
   "source": [
    "kn.score(test_scaled, test_target)"
   ]
  },
  {
   "cell_type": "markdown",
   "id": "39ac819b",
   "metadata": {},
   "source": [
    "#### 이제 새롭게 예측해보자"
   ]
  },
  {
   "cell_type": "code",
   "execution_count": 55,
   "id": "ca9c37c6",
   "metadata": {},
   "outputs": [
    {
     "name": "stdout",
     "output_type": "stream",
     "text": [
      "[1.]\n"
     ]
    }
   ],
   "source": [
    "print(kn.predict([new]))"
   ]
  },
  {
   "cell_type": "markdown",
   "id": "fce8fbcd",
   "metadata": {},
   "source": [
    "* 처음에는 빙어로 예측했지만, 데이터 전처리를 수행하고 다시 예측해보니 도미로 올바르게 예측함"
   ]
  },
  {
   "cell_type": "code",
   "execution_count": 56,
   "id": "749ba415",
   "metadata": {},
   "outputs": [],
   "source": [
    "distances, indexes = kn.kneighbors([new])"
   ]
  },
  {
   "cell_type": "code",
   "execution_count": 57,
   "id": "f4870366",
   "metadata": {},
   "outputs": [
    {
     "data": {
      "image/png": "[encoded data removed]",
      "text/plain": [
       "<Figure size 432x288 with 1 Axes>"
      ]
     },
     "metadata": {
      "needs_background": "light"
     },
     "output_type": "display_data"
    }
   ],
   "source": [
    "plt.scatter(train_scaled[:,0], train_scaled[:,1])\n",
    "plt.scatter(new[0], new[1], marker='^')\n",
    "plt.scatter(train_scaled[indexes,0], train_scaled[indexes,1], marker='D')\n",
    "plt.xlabel('length')\n",
    "plt.ylabel('weight')\n",
    "plt.show()"
   ]
  }
 ],
 "metadata": {
  "kernelspec": {
   "display_name": "Python 3 (ipykernel)",
   "language": "python",
   "name": "python3"
  },
  "language_info": {
   "codemirror_mode": {
    "name": "ipython",
    "version": 3
   },
   "file_extension": ".py",
   "mimetype": "text/x-python",
   "name": "python",
   "nbconvert_exporter": "python",
   "pygments_lexer": "ipython3",
   "version": "3.9.7"
  }
 },
 "nbformat": 4,
 "nbformat_minor": 5
}
